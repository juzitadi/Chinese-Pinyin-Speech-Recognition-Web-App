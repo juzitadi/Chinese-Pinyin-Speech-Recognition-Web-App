{
 "cells": [
  {
   "cell_type": "markdown",
   "metadata": {},
   "source": [
    "# import modules"
   ]
  },
  {
   "cell_type": "code",
   "execution_count": 1,
   "metadata": {},
   "outputs": [],
   "source": [
    "import keras\n",
    "from keras.utils import plot_model,to_categorical\n",
    "from keras import Model,Input,regularizers\n",
    "from keras.layers import Reshape,Flatten\n",
    "import numpy as np\n",
    "from sklearn.model_selection import train_test_split\n",
    "import keras.backend as K\n",
    "import keras.callbacks as kcallbacks\n",
    "from sklearn.preprocessing import LabelEncoder\n",
    "import string\n",
    "from keras.optimizers import SGD\n",
    "import warnings\n",
    "import tensorflow as tf\n",
    "# from lsuv_init import LSUVinit\n",
    "warnings.filterwarnings('ignore')\n",
    "from tensorflow.keras import layers\n",
    "from keras.layers import Input, Dense, LSTM, merge ,Conv1D,Dropout,Bidirectional,Multiply,BatchNormalization,MaxPool1D\n",
    "from keras.models import Model\n",
    "import time\n",
    "\n",
    "from attention_utils import get_activations\n",
    "from keras.layers import merge\n",
    "from keras.layers.core import *\n",
    "from keras.layers.recurrent import LSTM\n",
    "from keras.models import *\n",
    "\n",
    "import  pandas as pd\n",
    "import  numpy as np\n",
    "from keras.wrappers import scikit_learn"
   ]
  },
  {
   "cell_type": "markdown",
   "metadata": {},
   "source": [
    "# Load Features"
   ]
  },
  {
   "cell_type": "code",
   "execution_count": 2,
   "metadata": {},
   "outputs": [],
   "source": [
    "X_features=np.load('X_gabor.npy')\n",
    "y=np.load('y_final.npy')"
   ]
  },
  {
   "cell_type": "code",
   "execution_count": 3,
   "metadata": {},
   "outputs": [],
   "source": [
    "# X_features[0]"
   ]
  },
  {
   "cell_type": "code",
   "execution_count": 4,
   "metadata": {},
   "outputs": [],
   "source": [
    "# X2_features"
   ]
  },
  {
   "cell_type": "code",
   "execution_count": 5,
   "metadata": {},
   "outputs": [
    {
     "data": {
      "text/plain": [
       "(4704, 4)"
      ]
     },
     "execution_count": 5,
     "metadata": {},
     "output_type": "execute_result"
    }
   ],
   "source": [
    "y.shape"
   ]
  },
  {
   "cell_type": "code",
   "execution_count": 6,
   "metadata": {},
   "outputs": [
    {
     "data": {
      "text/plain": [
       "array(['1', '0', '0', '0'], dtype='<U1')"
      ]
     },
     "execution_count": 6,
     "metadata": {},
     "output_type": "execute_result"
    }
   ],
   "source": [
    "y[0]"
   ]
  },
  {
   "cell_type": "code",
   "execution_count": 7,
   "metadata": {},
   "outputs": [],
   "source": [
    "alphabet_set={'0': 0,'a': 1,'e': 2,'g': 3,'i': 4,'n': 5,'o': 6,'r': 7,'u': 8,'v': 9}"
   ]
  },
  {
   "cell_type": "code",
   "execution_count": 8,
   "metadata": {},
   "outputs": [],
   "source": [
    "alphabet_set={value:key for key,value in alphabet_set.items()}"
   ]
  },
  {
   "cell_type": "markdown",
   "metadata": {},
   "source": [
    "## One-hot Encoding"
   ]
  },
  {
   "cell_type": "code",
   "execution_count": 9,
   "metadata": {},
   "outputs": [],
   "source": [
    "y=to_categorical(y,num_classes=10)"
   ]
  },
  {
   "cell_type": "code",
   "execution_count": 10,
   "metadata": {},
   "outputs": [
    {
     "data": {
      "text/plain": [
       "(4704, 4, 10)"
      ]
     },
     "execution_count": 10,
     "metadata": {},
     "output_type": "execute_result"
    }
   ],
   "source": [
    "y.shape"
   ]
  },
  {
   "cell_type": "markdown",
   "metadata": {},
   "source": [
    "## split train and test"
   ]
  },
  {
   "cell_type": "code",
   "execution_count": 11,
   "metadata": {},
   "outputs": [],
   "source": [
    "np.random.seed(116)\n",
    "np.random.shuffle(X_features)\n",
    "np.random.seed(116)\n",
    "np.random.shuffle(y)\n",
    "tf.random.set_seed(116)"
   ]
  },
  {
   "cell_type": "code",
   "execution_count": 12,
   "metadata": {},
   "outputs": [],
   "source": [
    "X_train, X_test, y_train, y_test=train_test_split(X_features,y,test_size=0.2,random_state=2019)"
   ]
  },
  {
   "cell_type": "code",
   "execution_count": 13,
   "metadata": {},
   "outputs": [
    {
     "data": {
      "text/plain": [
       "((3763, 35, 7), (941, 35, 7))"
      ]
     },
     "execution_count": 13,
     "metadata": {},
     "output_type": "execute_result"
    }
   ],
   "source": [
    "X_train.shape,X_test.shape"
   ]
  },
  {
   "cell_type": "code",
   "execution_count": 14,
   "metadata": {},
   "outputs": [
    {
     "data": {
      "text/plain": [
       "((3763, 4, 10), (941, 4, 10))"
      ]
     },
     "execution_count": 14,
     "metadata": {},
     "output_type": "execute_result"
    }
   ],
   "source": [
    "y_train.shape,y_test.shape"
   ]
  },
  {
   "cell_type": "markdown",
   "metadata": {},
   "source": [
    "# Models\n"
   ]
  },
  {
   "cell_type": "code",
   "execution_count": 49,
   "metadata": {},
   "outputs": [],
   "source": [
    "NUM_CLASSES=10\n",
    "BATCH_SIZE=128\n",
    "EPOCHS=150\n",
    "MODEL_SAVE_PATH='final_gabor_cnn.h5'"
   ]
  },
  {
   "cell_type": "code",
   "execution_count": 50,
   "metadata": {
    "scrolled": true
   },
   "outputs": [],
   "source": [
    "SINGLE_ATTENTION_VECTOR = False\n",
    "def attention_3d_block(inputs, single_attention_vector=False):\n",
    "    # 如果上一层是LSTM，需要return_sequences=True\n",
    "    # inputs.shape = (batch_size, time_steps, input_dim)\n",
    "    time_steps = K.int_shape(inputs)[1]\n",
    "    input_dim = K.int_shape(inputs)[2]\n",
    "    a = Permute((2, 1))(inputs)\n",
    "    a = Dense(time_steps, activation='softmax', name='attention')(a)\n",
    "    if single_attention_vector:\n",
    "        a = Lambda(lambda x: K.mean(x, axis=1))(a)\n",
    "        a = RepeatVector(input_dim)(a)\n",
    "\n",
    "    a_probs = Permute((2, 1))(a)\n",
    "    # 乘上了attention权重，但是并没有求和，好像影响不大\n",
    "    # 如果分类任务，进行Flatten展开就可以了\n",
    "    # element-wise\n",
    "    output_attention_mul = Multiply()([inputs, a_probs])\n",
    "    return output_attention_mul\n",
    "\n",
    "def attention_model():\n",
    "    inputs = Input(shape=(35, 7))\n",
    "    x=BatchNormalization()(inputs)\n",
    "    x = Conv1D(filters = 32, kernel_size = 1, padding=\"same\",kernel_initializer='he_normal',\n",
    "                bias_initializer='zeros',activation = 'relu')(x)  #, padding = 'same'\n",
    "    x = MaxPool1D()(x)\n",
    "    #lstm_out = Bidirectional(LSTM(lstm_units, activation='relu'), name='bilstm')(x)\n",
    "    #对于GPU可以使用CuDNNLSTM\n",
    "    lstm_out = Bidirectional(LSTM(64, return_sequences=True))(x)\n",
    "    lstm_out = Bidirectional(LSTM(64, return_sequences=True))(lstm_out)\n",
    "    attention_mul = attention_3d_block(lstm_out)\n",
    "    attention_mul=MaxPool1D(pool_size=10,strides=2)(attention_mul)\n",
    "    output = Dense(10, activation='sigmoid')(attention_mul)\n",
    "    model = Model(inputs=[inputs], outputs=output)\n",
    "    return model"
   ]
  },
  {
   "cell_type": "code",
   "execution_count": 51,
   "metadata": {},
   "outputs": [
    {
     "name": "stdout",
     "output_type": "stream",
     "text": [
      "Model: \"functional_5\"\n",
      "__________________________________________________________________________________________________\n",
      "Layer (type)                    Output Shape         Param #     Connected to                     \n",
      "==================================================================================================\n",
      "input_3 (InputLayer)            [(None, 35, 7)]      0                                            \n",
      "__________________________________________________________________________________________________\n",
      "batch_normalization_2 (BatchNor (None, 35, 7)        28          input_3[0][0]                    \n",
      "__________________________________________________________________________________________________\n",
      "conv1d_2 (Conv1D)               (None, 35, 32)       256         batch_normalization_2[0][0]      \n",
      "__________________________________________________________________________________________________\n",
      "max_pooling1d_4 (MaxPooling1D)  (None, 17, 32)       0           conv1d_2[0][0]                   \n",
      "__________________________________________________________________________________________________\n",
      "bidirectional_4 (Bidirectional) (None, 17, 128)      49664       max_pooling1d_4[0][0]            \n",
      "__________________________________________________________________________________________________\n",
      "bidirectional_5 (Bidirectional) (None, 17, 128)      98816       bidirectional_4[0][0]            \n",
      "__________________________________________________________________________________________________\n",
      "permute_4 (Permute)             (None, 128, 17)      0           bidirectional_5[0][0]            \n",
      "__________________________________________________________________________________________________\n",
      "attention (Dense)               (None, 128, 17)      306         permute_4[0][0]                  \n",
      "__________________________________________________________________________________________________\n",
      "permute_5 (Permute)             (None, 17, 128)      0           attention[0][0]                  \n",
      "__________________________________________________________________________________________________\n",
      "multiply_2 (Multiply)           (None, 17, 128)      0           bidirectional_5[0][0]            \n",
      "                                                                 permute_5[0][0]                  \n",
      "__________________________________________________________________________________________________\n",
      "max_pooling1d_5 (MaxPooling1D)  (None, 4, 128)       0           multiply_2[0][0]                 \n",
      "__________________________________________________________________________________________________\n",
      "dense_2 (Dense)                 (None, 4, 10)        1290        max_pooling1d_5[0][0]            \n",
      "==================================================================================================\n",
      "Total params: 150,360\n",
      "Trainable params: 150,346\n",
      "Non-trainable params: 14\n",
      "__________________________________________________________________________________________________\n"
     ]
    }
   ],
   "source": [
    "model = attention_model()\n",
    "model.summary()"
   ]
  },
  {
   "cell_type": "code",
   "execution_count": null,
   "metadata": {
    "scrolled": true
   },
   "outputs": [
    {
     "name": "stdout",
     "output_type": "stream",
     "text": [
      "Epoch 1/150\n",
      "23/24 [===========================>..] - ETA: 0s - loss: 2.1963 - accuracy: 0.4808\n",
      "Epoch 00001: val_accuracy improved from -inf to 0.50465, saving model to final_gabor_cnn.h5\n",
      "24/24 [==============================] - 2s 68ms/step - loss: 2.1929 - accuracy: 0.4816 - val_loss: 2.0322 - val_accuracy: 0.5046\n",
      "Epoch 2/150\n",
      "23/24 [===========================>..] - ETA: 0s - loss: 1.8815 - accuracy: 0.5035\n",
      "Epoch 00002: val_accuracy did not improve from 0.50465\n",
      "24/24 [==============================] - 1s 33ms/step - loss: 1.8773 - accuracy: 0.5036 - val_loss: 1.6706 - val_accuracy: 0.5046\n",
      "Epoch 3/150\n",
      "23/24 [===========================>..] - ETA: 0s - loss: 1.5367 - accuracy: 0.5040\n",
      "Epoch 00003: val_accuracy did not improve from 0.50465\n",
      "24/24 [==============================] - 1s 32ms/step - loss: 1.5365 - accuracy: 0.5036 - val_loss: 1.4683 - val_accuracy: 0.5046\n",
      "Epoch 4/150\n",
      "23/24 [===========================>..] - ETA: 0s - loss: 1.4369 - accuracy: 0.5525\n",
      "Epoch 00004: val_accuracy improved from 0.50465 to 0.58134, saving model to final_gabor_cnn.h5\n",
      "24/24 [==============================] - 1s 38ms/step - loss: 1.4364 - accuracy: 0.5532 - val_loss: 1.4164 - val_accuracy: 0.5813\n",
      "Epoch 5/150\n",
      "23/24 [===========================>..] - ETA: 0s - loss: 1.3916 - accuracy: 0.5855\n",
      "Epoch 00005: val_accuracy improved from 0.58134 to 0.58599, saving model to final_gabor_cnn.h5\n",
      "24/24 [==============================] - 1s 36ms/step - loss: 1.3923 - accuracy: 0.5852 - val_loss: 1.3765 - val_accuracy: 0.5860\n",
      "Epoch 6/150\n",
      "23/24 [===========================>..] - ETA: 0s - loss: 1.3628 - accuracy: 0.5849\n",
      "Epoch 00006: val_accuracy did not improve from 0.58599\n",
      "24/24 [==============================] - 1s 31ms/step - loss: 1.3621 - accuracy: 0.5853 - val_loss: 1.3520 - val_accuracy: 0.5860\n",
      "Epoch 7/150\n",
      "23/24 [===========================>..] - ETA: 0s - loss: 1.3417 - accuracy: 0.5863\n",
      "Epoch 00007: val_accuracy did not improve from 0.58599\n",
      "24/24 [==============================] - 1s 31ms/step - loss: 1.3438 - accuracy: 0.5853 - val_loss: 1.3372 - val_accuracy: 0.5860\n",
      "Epoch 8/150\n",
      "23/24 [===========================>..] - ETA: 0s - loss: 1.3343 - accuracy: 0.5833\n",
      "Epoch 00008: val_accuracy did not improve from 0.58599\n",
      "24/24 [==============================] - 1s 32ms/step - loss: 1.3312 - accuracy: 0.5853 - val_loss: 1.3272 - val_accuracy: 0.5860\n",
      "Epoch 9/150\n",
      "23/24 [===========================>..] - ETA: 0s - loss: 1.3188 - accuracy: 0.5864\n",
      "Epoch 00009: val_accuracy did not improve from 0.58599\n",
      "24/24 [==============================] - 1s 31ms/step - loss: 1.3223 - accuracy: 0.5853 - val_loss: 1.3209 - val_accuracy: 0.5860\n",
      "Epoch 10/150\n",
      "23/24 [===========================>..] - ETA: 0s - loss: 1.3151 - accuracy: 0.5856\n",
      "Epoch 00010: val_accuracy did not improve from 0.58599\n",
      "24/24 [==============================] - 1s 32ms/step - loss: 1.3148 - accuracy: 0.5853 - val_loss: 1.3096 - val_accuracy: 0.5860\n",
      "Epoch 11/150\n",
      "23/24 [===========================>..] - ETA: 0s - loss: 1.3104 - accuracy: 0.5841\n",
      "Epoch 00011: val_accuracy did not improve from 0.58599\n",
      "24/24 [==============================] - 1s 31ms/step - loss: 1.3071 - accuracy: 0.5853 - val_loss: 1.3004 - val_accuracy: 0.5860\n",
      "Epoch 12/150\n",
      "23/24 [===========================>..] - ETA: 0s - loss: 1.2928 - accuracy: 0.5845\n",
      "Epoch 00012: val_accuracy did not improve from 0.58599\n",
      "24/24 [==============================] - 1s 30ms/step - loss: 1.2916 - accuracy: 0.5853 - val_loss: 1.2700 - val_accuracy: 0.5860\n",
      "Epoch 13/150\n",
      "23/24 [===========================>..] - ETA: 0s - loss: 1.2468 - accuracy: 0.5844\n",
      "Epoch 00013: val_accuracy did not improve from 0.58599\n",
      "24/24 [==============================] - 1s 30ms/step - loss: 1.2444 - accuracy: 0.5853 - val_loss: 1.2107 - val_accuracy: 0.5860\n",
      "Epoch 14/150\n",
      "23/24 [===========================>..] - ETA: 0s - loss: 1.1896 - accuracy: 0.5853\n",
      "Epoch 00014: val_accuracy did not improve from 0.58599\n",
      "24/24 [==============================] - 1s 30ms/step - loss: 1.1896 - accuracy: 0.5853 - val_loss: 1.1703 - val_accuracy: 0.5860\n",
      "Epoch 15/150\n",
      "23/24 [===========================>..] - ETA: 0s - loss: 1.1466 - accuracy: 0.5851\n",
      "Epoch 00015: val_accuracy did not improve from 0.58599\n",
      "24/24 [==============================] - 1s 31ms/step - loss: 1.1460 - accuracy: 0.5853 - val_loss: 1.1275 - val_accuracy: 0.5860\n",
      "Epoch 16/150\n",
      "23/24 [===========================>..] - ETA: 0s - loss: 1.1155 - accuracy: 0.5858\n",
      "Epoch 00016: val_accuracy did not improve from 0.58599\n",
      "24/24 [==============================] - 1s 31ms/step - loss: 1.1160 - accuracy: 0.5853 - val_loss: 1.1066 - val_accuracy: 0.5860\n",
      "Epoch 17/150\n",
      "23/24 [===========================>..] - ETA: 0s - loss: 1.0956 - accuracy: 0.5847\n",
      "Epoch 00017: val_accuracy did not improve from 0.58599\n",
      "24/24 [==============================] - 1s 30ms/step - loss: 1.0944 - accuracy: 0.5853 - val_loss: 1.0828 - val_accuracy: 0.5860\n",
      "Epoch 18/150\n",
      "23/24 [===========================>..] - ETA: 0s - loss: 1.0699 - accuracy: 0.5873\n",
      "Epoch 00018: val_accuracy improved from 0.58599 to 0.59296, saving model to final_gabor_cnn.h5\n",
      "24/24 [==============================] - 1s 40ms/step - loss: 1.0714 - accuracy: 0.5870 - val_loss: 1.0729 - val_accuracy: 0.5930\n",
      "Epoch 19/150\n",
      "23/24 [===========================>..] - ETA: 0s - loss: 1.0612 - accuracy: 0.5925\n",
      "Epoch 00019: val_accuracy did not improve from 0.59296\n",
      "24/24 [==============================] - 1s 30ms/step - loss: 1.0604 - accuracy: 0.5923 - val_loss: 1.0574 - val_accuracy: 0.5853\n",
      "Epoch 20/150\n",
      "23/24 [===========================>..] - ETA: 0s - loss: 1.0472 - accuracy: 0.5932\n",
      "Epoch 00020: val_accuracy improved from 0.59296 to 0.59429, saving model to final_gabor_cnn.h5\n",
      "24/24 [==============================] - 1s 35ms/step - loss: 1.0477 - accuracy: 0.5930 - val_loss: 1.0441 - val_accuracy: 0.5943\n",
      "Epoch 21/150\n",
      "23/24 [===========================>..] - ETA: 0s - loss: 1.0350 - accuracy: 0.5969\n",
      "Epoch 00021: val_accuracy improved from 0.59429 to 0.59728, saving model to final_gabor_cnn.h5\n",
      "24/24 [==============================] - 1s 39ms/step - loss: 1.0361 - accuracy: 0.5960 - val_loss: 1.0255 - val_accuracy: 0.5973\n",
      "Epoch 22/150\n",
      "23/24 [===========================>..] - ETA: 0s - loss: 1.0188 - accuracy: 0.5999\n",
      "Epoch 00022: val_accuracy improved from 0.59728 to 0.60392, saving model to final_gabor_cnn.h5\n",
      "24/24 [==============================] - 1s 41ms/step - loss: 1.0175 - accuracy: 0.6007 - val_loss: 1.0168 - val_accuracy: 0.6039\n",
      "Epoch 23/150\n",
      "23/24 [===========================>..] - ETA: 0s - loss: 0.9978 - accuracy: 0.6071\n",
      "Epoch 00023: val_accuracy did not improve from 0.60392\n",
      "24/24 [==============================] - 1s 30ms/step - loss: 0.9974 - accuracy: 0.6071 - val_loss: 1.0031 - val_accuracy: 0.5979\n",
      "Epoch 24/150\n",
      "23/24 [===========================>..] - ETA: 0s - loss: 0.9851 - accuracy: 0.6053\n",
      "Epoch 00024: val_accuracy improved from 0.60392 to 0.60525, saving model to final_gabor_cnn.h5\n",
      "24/24 [==============================] - 1s 37ms/step - loss: 0.9836 - accuracy: 0.6063 - val_loss: 0.9826 - val_accuracy: 0.6052\n",
      "Epoch 25/150\n",
      "23/24 [===========================>..] - ETA: 0s - loss: 0.9640 - accuracy: 0.6104\n",
      "Epoch 00025: val_accuracy did not improve from 0.60525\n",
      "24/24 [==============================] - 1s 30ms/step - loss: 0.9639 - accuracy: 0.6105 - val_loss: 0.9723 - val_accuracy: 0.6029\n",
      "Epoch 26/150\n",
      "23/24 [===========================>..] - ETA: 0s - loss: 0.9477 - accuracy: 0.6193\n",
      "Epoch 00026: val_accuracy improved from 0.60525 to 0.62317, saving model to final_gabor_cnn.h5\n",
      "24/24 [==============================] - 1s 40ms/step - loss: 0.9479 - accuracy: 0.6198 - val_loss: 0.9435 - val_accuracy: 0.6232\n",
      "Epoch 27/150\n",
      "23/24 [===========================>..] - ETA: 0s - loss: 0.9306 - accuracy: 0.6320\n",
      "Epoch 00027: val_accuracy improved from 0.62317 to 0.62483, saving model to final_gabor_cnn.h5\n",
      "24/24 [==============================] - 1s 32ms/step - loss: 0.9312 - accuracy: 0.6317 - val_loss: 0.9405 - val_accuracy: 0.6248\n",
      "Epoch 28/150\n",
      "23/24 [===========================>..] - ETA: 0s - loss: 0.9126 - accuracy: 0.6401\n",
      "Epoch 00028: val_accuracy improved from 0.62483 to 0.63977, saving model to final_gabor_cnn.h5\n",
      "24/24 [==============================] - 1s 33ms/step - loss: 0.9120 - accuracy: 0.6408 - val_loss: 0.9117 - val_accuracy: 0.6398\n"
     ]
    },
    {
     "name": "stdout",
     "output_type": "stream",
     "text": [
      "Epoch 29/150\n",
      "23/24 [===========================>..] - ETA: 0s - loss: 0.8944 - accuracy: 0.6451\n",
      "Epoch 00029: val_accuracy did not improve from 0.63977\n",
      "24/24 [==============================] - 1s 29ms/step - loss: 0.8972 - accuracy: 0.6440 - val_loss: 0.9019 - val_accuracy: 0.6384\n",
      "Epoch 30/150\n",
      "23/24 [===========================>..] - ETA: 0s - loss: 0.8901 - accuracy: 0.6431\n",
      "Epoch 00030: val_accuracy improved from 0.63977 to 0.64509, saving model to final_gabor_cnn.h5\n",
      "24/24 [==============================] - 1s 33ms/step - loss: 0.8894 - accuracy: 0.6433 - val_loss: 0.8952 - val_accuracy: 0.6451\n",
      "Epoch 31/150\n",
      "23/24 [===========================>..] - ETA: 0s - loss: 0.8647 - accuracy: 0.6495\n",
      "Epoch 00031: val_accuracy improved from 0.64509 to 0.65073, saving model to final_gabor_cnn.h5\n",
      "24/24 [==============================] - 1s 38ms/step - loss: 0.8640 - accuracy: 0.6504 - val_loss: 0.8835 - val_accuracy: 0.6507\n",
      "Epoch 32/150\n",
      "23/24 [===========================>..] - ETA: 0s - loss: 0.8513 - accuracy: 0.6576\n",
      "Epoch 00032: val_accuracy improved from 0.65073 to 0.65671, saving model to final_gabor_cnn.h5\n",
      "24/24 [==============================] - 1s 35ms/step - loss: 0.8514 - accuracy: 0.6571 - val_loss: 0.8743 - val_accuracy: 0.6567\n",
      "Epoch 33/150\n",
      "23/24 [===========================>..] - ETA: 0s - loss: 0.8318 - accuracy: 0.6686\n",
      "Epoch 00033: val_accuracy improved from 0.65671 to 0.66899, saving model to final_gabor_cnn.h5\n",
      "24/24 [==============================] - 1s 35ms/step - loss: 0.8327 - accuracy: 0.6685 - val_loss: 0.8557 - val_accuracy: 0.6690\n",
      "Epoch 34/150\n",
      "23/24 [===========================>..] - ETA: 0s - loss: 0.8090 - accuracy: 0.6856\n",
      "Epoch 00034: val_accuracy improved from 0.66899 to 0.67663, saving model to final_gabor_cnn.h5\n",
      "24/24 [==============================] - 1s 37ms/step - loss: 0.8085 - accuracy: 0.6864 - val_loss: 0.8533 - val_accuracy: 0.6766\n",
      "Epoch 35/150\n",
      "23/24 [===========================>..] - ETA: 0s - loss: 0.7882 - accuracy: 0.7026\n",
      "Epoch 00035: val_accuracy improved from 0.67663 to 0.68293, saving model to final_gabor_cnn.h5\n",
      "24/24 [==============================] - 1s 37ms/step - loss: 0.7877 - accuracy: 0.7026 - val_loss: 0.8398 - val_accuracy: 0.6829\n",
      "Epoch 36/150\n",
      "23/24 [===========================>..] - ETA: 0s - loss: 0.7698 - accuracy: 0.7089\n",
      "Epoch 00036: val_accuracy improved from 0.68293 to 0.68659, saving model to final_gabor_cnn.h5\n",
      "24/24 [==============================] - 1s 34ms/step - loss: 0.7696 - accuracy: 0.7084 - val_loss: 0.8419 - val_accuracy: 0.6866\n",
      "Epoch 37/150\n",
      "23/24 [===========================>..] - ETA: 0s - loss: 0.7608 - accuracy: 0.7118\n",
      "Epoch 00037: val_accuracy improved from 0.68659 to 0.69422, saving model to final_gabor_cnn.h5\n",
      "24/24 [==============================] - 1s 34ms/step - loss: 0.7602 - accuracy: 0.7119 - val_loss: 0.8297 - val_accuracy: 0.6942\n",
      "Epoch 38/150\n",
      "23/24 [===========================>..] - ETA: 0s - loss: 0.7540 - accuracy: 0.7134\n",
      "Epoch 00038: val_accuracy improved from 0.69422 to 0.69854, saving model to final_gabor_cnn.h5\n",
      "24/24 [==============================] - 1s 37ms/step - loss: 0.7519 - accuracy: 0.7142 - val_loss: 0.7990 - val_accuracy: 0.6985\n",
      "Epoch 39/150\n",
      "23/24 [===========================>..] - ETA: 0s - loss: 0.7240 - accuracy: 0.7274\n",
      "Epoch 00039: val_accuracy did not improve from 0.69854\n",
      "24/24 [==============================] - 1s 30ms/step - loss: 0.7226 - accuracy: 0.7280 - val_loss: 0.7986 - val_accuracy: 0.6969\n",
      "Epoch 40/150\n",
      "23/24 [===========================>..] - ETA: 0s - loss: 0.7201 - accuracy: 0.7278\n",
      "Epoch 00040: val_accuracy improved from 0.69854 to 0.71647, saving model to final_gabor_cnn.h5\n",
      "24/24 [==============================] - 1s 42ms/step - loss: 0.7189 - accuracy: 0.7279 - val_loss: 0.7591 - val_accuracy: 0.7165\n",
      "Epoch 41/150\n",
      "23/24 [===========================>..] - ETA: 0s - loss: 0.6994 - accuracy: 0.7386\n",
      "Epoch 00041: val_accuracy did not improve from 0.71647\n",
      "24/24 [==============================] - 1s 29ms/step - loss: 0.6984 - accuracy: 0.7391 - val_loss: 0.7880 - val_accuracy: 0.6995\n",
      "Epoch 42/150\n",
      "23/24 [===========================>..] - ETA: 0s - loss: 0.6883 - accuracy: 0.7394\n",
      "Epoch 00042: val_accuracy did not improve from 0.71647\n",
      "24/24 [==============================] - 1s 30ms/step - loss: 0.6890 - accuracy: 0.7390 - val_loss: 0.7706 - val_accuracy: 0.7118\n",
      "Epoch 43/150\n",
      "23/24 [===========================>..] - ETA: 0s - loss: 0.6748 - accuracy: 0.7449\n",
      "Epoch 00043: val_accuracy improved from 0.71647 to 0.72244, saving model to final_gabor_cnn.h5\n",
      "24/24 [==============================] - 1s 33ms/step - loss: 0.6757 - accuracy: 0.7443 - val_loss: 0.7499 - val_accuracy: 0.7224\n",
      "Epoch 44/150\n",
      "23/24 [===========================>..] - ETA: 0s - loss: 0.6733 - accuracy: 0.7454\n",
      "Epoch 00044: val_accuracy did not improve from 0.72244\n",
      "24/24 [==============================] - 1s 30ms/step - loss: 0.6721 - accuracy: 0.7458 - val_loss: 0.7368 - val_accuracy: 0.7201\n",
      "Epoch 45/150\n",
      "23/24 [===========================>..] - ETA: 0s - loss: 0.6590 - accuracy: 0.7505\n",
      "Epoch 00045: val_accuracy improved from 0.72244 to 0.73307, saving model to final_gabor_cnn.h5\n",
      "24/24 [==============================] - 1s 35ms/step - loss: 0.6596 - accuracy: 0.7505 - val_loss: 0.7551 - val_accuracy: 0.7331\n",
      "Epoch 46/150\n",
      "23/24 [===========================>..] - ETA: 0s - loss: 0.6447 - accuracy: 0.7567\n",
      "Epoch 00046: val_accuracy did not improve from 0.73307\n",
      "24/24 [==============================] - 1s 30ms/step - loss: 0.6436 - accuracy: 0.7574 - val_loss: 0.7293 - val_accuracy: 0.7297\n",
      "Epoch 47/150\n",
      "23/24 [===========================>..] - ETA: 0s - loss: 0.6360 - accuracy: 0.7610\n",
      "Epoch 00047: val_accuracy did not improve from 0.73307\n",
      "24/24 [==============================] - 1s 30ms/step - loss: 0.6367 - accuracy: 0.7609 - val_loss: 0.7314 - val_accuracy: 0.7231\n",
      "Epoch 48/150\n",
      "23/24 [===========================>..] - ETA: 0s - loss: 0.6263 - accuracy: 0.7649\n",
      "Epoch 00048: val_accuracy did not improve from 0.73307\n",
      "24/24 [==============================] - 1s 29ms/step - loss: 0.6276 - accuracy: 0.7641 - val_loss: 0.7732 - val_accuracy: 0.7148\n",
      "Epoch 49/150\n",
      "23/24 [===========================>..] - ETA: 0s - loss: 0.6205 - accuracy: 0.7684\n",
      "Epoch 00049: val_accuracy did not improve from 0.73307\n",
      "24/24 [==============================] - 1s 30ms/step - loss: 0.6209 - accuracy: 0.7679 - val_loss: 0.7207 - val_accuracy: 0.7301\n",
      "Epoch 50/150\n",
      "23/24 [===========================>..] - ETA: 0s - loss: 0.6029 - accuracy: 0.7732\n",
      "Epoch 00050: val_accuracy did not improve from 0.73307\n",
      "24/24 [==============================] - 1s 30ms/step - loss: 0.6023 - accuracy: 0.7731 - val_loss: 0.7144 - val_accuracy: 0.7297\n",
      "Epoch 51/150\n",
      "23/24 [===========================>..] - ETA: 0s - loss: 0.6059 - accuracy: 0.7732\n",
      "Epoch 00051: val_accuracy improved from 0.73307 to 0.74070, saving model to final_gabor_cnn.h5\n",
      "24/24 [==============================] - 1s 36ms/step - loss: 0.6052 - accuracy: 0.7734 - val_loss: 0.7100 - val_accuracy: 0.7407\n",
      "Epoch 52/150\n",
      "23/24 [===========================>..] - ETA: 0s - loss: 0.5941 - accuracy: 0.7768\n",
      "Epoch 00052: val_accuracy did not improve from 0.74070\n",
      "24/24 [==============================] - 1s 30ms/step - loss: 0.5966 - accuracy: 0.7761 - val_loss: 0.7036 - val_accuracy: 0.7404\n",
      "Epoch 53/150\n",
      "23/24 [===========================>..] - ETA: 0s - loss: 0.5882 - accuracy: 0.7775\n",
      "Epoch 00053: val_accuracy did not improve from 0.74070\n",
      "24/24 [==============================] - 1s 31ms/step - loss: 0.5875 - accuracy: 0.7781 - val_loss: 0.7141 - val_accuracy: 0.7317\n",
      "Epoch 54/150\n",
      "23/24 [===========================>..] - ETA: 0s - loss: 0.5747 - accuracy: 0.7817\n",
      "Epoch 00054: val_accuracy improved from 0.74070 to 0.74270, saving model to final_gabor_cnn.h5\n",
      "24/24 [==============================] - 1s 36ms/step - loss: 0.5758 - accuracy: 0.7815 - val_loss: 0.6885 - val_accuracy: 0.7427\n",
      "Epoch 55/150\n",
      "23/24 [===========================>..] - ETA: 0s - loss: 0.5565 - accuracy: 0.7864\n",
      "Epoch 00055: val_accuracy improved from 0.74270 to 0.74801, saving model to final_gabor_cnn.h5\n",
      "24/24 [==============================] - 1s 35ms/step - loss: 0.5551 - accuracy: 0.7873 - val_loss: 0.6913 - val_accuracy: 0.7480\n",
      "Epoch 56/150\n"
     ]
    },
    {
     "name": "stdout",
     "output_type": "stream",
     "text": [
      "23/24 [===========================>..] - ETA: 0s - loss: 0.5633 - accuracy: 0.7870\n",
      "Epoch 00056: val_accuracy did not improve from 0.74801\n",
      "24/24 [==============================] - 1s 30ms/step - loss: 0.5652 - accuracy: 0.7867 - val_loss: 0.6767 - val_accuracy: 0.7480\n",
      "Epoch 57/150\n",
      "23/24 [===========================>..] - ETA: 0s - loss: 0.5513 - accuracy: 0.7902\n",
      "Epoch 00057: val_accuracy did not improve from 0.74801\n",
      "24/24 [==============================] - 1s 30ms/step - loss: 0.5519 - accuracy: 0.7903 - val_loss: 0.6848 - val_accuracy: 0.7390\n",
      "Epoch 58/150\n",
      "23/24 [===========================>..] - ETA: 0s - loss: 0.5385 - accuracy: 0.79 - ETA: 0s - loss: 0.5350 - accuracy: 0.7997\n",
      "Epoch 00058: val_accuracy improved from 0.74801 to 0.75664, saving model to final_gabor_cnn.h5\n",
      "24/24 [==============================] - 1s 40ms/step - loss: 0.5357 - accuracy: 0.7994 - val_loss: 0.6763 - val_accuracy: 0.7566\n",
      "Epoch 59/150\n",
      "23/24 [===========================>..] - ETA: 0s - loss: 0.5160 - accuracy: 0.8100\n",
      "Epoch 00059: val_accuracy did not improve from 0.75664\n",
      "24/24 [==============================] - 1s 30ms/step - loss: 0.5155 - accuracy: 0.8097 - val_loss: 0.7136 - val_accuracy: 0.7234\n",
      "Epoch 60/150\n",
      "23/24 [===========================>..] - ETA: 0s - loss: 0.5194 - accuracy: 0.8059\n",
      "Epoch 00060: val_accuracy did not improve from 0.75664\n",
      "24/24 [==============================] - 1s 30ms/step - loss: 0.5233 - accuracy: 0.8050 - val_loss: 0.6864 - val_accuracy: 0.7427\n",
      "Epoch 61/150\n",
      "23/24 [===========================>..] - ETA: 0s - loss: 0.5014 - accuracy: 0.8169\n",
      "Epoch 00061: val_accuracy did not improve from 0.75664\n",
      "24/24 [==============================] - 1s 30ms/step - loss: 0.5020 - accuracy: 0.8167 - val_loss: 0.6622 - val_accuracy: 0.7500\n",
      "Epoch 62/150\n",
      "23/24 [===========================>..] - ETA: 0s - loss: 0.4931 - accuracy: 0.8154\n",
      "Epoch 00062: val_accuracy did not improve from 0.75664\n",
      "24/24 [==============================] - 1s 30ms/step - loss: 0.4939 - accuracy: 0.8147 - val_loss: 0.6783 - val_accuracy: 0.7500\n",
      "Epoch 63/150\n",
      "23/24 [===========================>..] - ETA: 0s - loss: 0.5001 - accuracy: 0.8155\n",
      "Epoch 00063: val_accuracy did not improve from 0.75664\n",
      "24/24 [==============================] - 1s 30ms/step - loss: 0.5030 - accuracy: 0.8144 - val_loss: 0.6778 - val_accuracy: 0.7420\n",
      "Epoch 64/150\n",
      "23/24 [===========================>..] - ETA: 0s - loss: 0.4878 - accuracy: 0.8184\n",
      "Epoch 00064: val_accuracy did not improve from 0.75664\n",
      "24/24 [==============================] - 1s 30ms/step - loss: 0.4871 - accuracy: 0.8192 - val_loss: 0.6643 - val_accuracy: 0.7563\n",
      "Epoch 65/150\n",
      "23/24 [===========================>..] - ETA: 0s - loss: 0.4905 - accuracy: 0.8156\n",
      "Epoch 00065: val_accuracy did not improve from 0.75664\n",
      "24/24 [==============================] - 1s 30ms/step - loss: 0.4921 - accuracy: 0.8154 - val_loss: 0.6655 - val_accuracy: 0.7543\n",
      "Epoch 66/150\n",
      "23/24 [===========================>..] - ETA: 0s - loss: 0.4839 - accuracy: 0.8201\n",
      "Epoch 00066: val_accuracy did not improve from 0.75664\n",
      "24/24 [==============================] - 1s 30ms/step - loss: 0.4833 - accuracy: 0.8207 - val_loss: 0.6765 - val_accuracy: 0.7480\n",
      "Epoch 67/150\n",
      "23/24 [===========================>..] - ETA: 0s - loss: 0.4806 - accuracy: 0.8206\n",
      "Epoch 00067: val_accuracy did not improve from 0.75664\n",
      "\n",
      "Epoch 00067: ReduceLROnPlateau reducing learning rate to 0.0005000000237487257.\n",
      "24/24 [==============================] - 1s 30ms/step - loss: 0.4781 - accuracy: 0.8218 - val_loss: 0.6654 - val_accuracy: 0.7503\n",
      "Epoch 68/150\n",
      "23/24 [===========================>..] - ETA: 0s - loss: 0.4405 - accuracy: 0.8398\n",
      "Epoch 00068: val_accuracy did not improve from 0.75664\n",
      "24/24 [==============================] - 1s 30ms/step - loss: 0.4430 - accuracy: 0.8386 - val_loss: 0.6570 - val_accuracy: 0.7513\n",
      "Epoch 69/150\n",
      "23/24 [===========================>..] - ETA: 0s - loss: 0.4348 - accuracy: 0.8443\n",
      "Epoch 00069: val_accuracy improved from 0.75664 to 0.75896, saving model to final_gabor_cnn.h5\n",
      "24/24 [==============================] - 1s 35ms/step - loss: 0.4334 - accuracy: 0.8448 - val_loss: 0.6524 - val_accuracy: 0.7590\n",
      "Epoch 70/150\n",
      "23/24 [===========================>..] - ETA: 0s - loss: 0.4244 - accuracy: 0.8488\n",
      "Epoch 00070: val_accuracy did not improve from 0.75896\n",
      "24/24 [==============================] - 1s 32ms/step - loss: 0.4246 - accuracy: 0.8484 - val_loss: 0.6620 - val_accuracy: 0.7523\n",
      "Epoch 71/150\n",
      "23/24 [===========================>..] - ETA: 0s - loss: 0.4064 - accuracy: 0.8553\n",
      "Epoch 00071: val_accuracy improved from 0.75896 to 0.76162, saving model to final_gabor_cnn.h5\n",
      "24/24 [==============================] - 1s 42ms/step - loss: 0.4068 - accuracy: 0.8550 - val_loss: 0.6434 - val_accuracy: 0.7616\n",
      "Epoch 72/150\n",
      "23/24 [===========================>..] - ETA: 0s - loss: 0.4114 - accuracy: 0.8530\n",
      "Epoch 00072: val_accuracy did not improve from 0.76162\n",
      "24/24 [==============================] - 1s 30ms/step - loss: 0.4115 - accuracy: 0.8529 - val_loss: 0.6493 - val_accuracy: 0.7593\n",
      "Epoch 73/150\n",
      "23/24 [===========================>..] - ETA: 0s - loss: 0.4054 - accuracy: 0.8552\n",
      "Epoch 00073: val_accuracy improved from 0.76162 to 0.76560, saving model to final_gabor_cnn.h5\n",
      "24/24 [==============================] - 1s 38ms/step - loss: 0.4047 - accuracy: 0.8558 - val_loss: 0.6515 - val_accuracy: 0.7656\n",
      "Epoch 74/150\n",
      "23/24 [===========================>..] - ETA: 0s - loss: 0.3969 - accuracy: 0.8603\n",
      "Epoch 00074: val_accuracy did not improve from 0.76560\n",
      "24/24 [==============================] - 1s 32ms/step - loss: 0.3972 - accuracy: 0.8596 - val_loss: 0.6545 - val_accuracy: 0.7580\n",
      "Epoch 75/150\n",
      "23/24 [===========================>..] - ETA: 0s - loss: 0.3939 - accuracy: 0.8587\n",
      "Epoch 00075: val_accuracy did not improve from 0.76560\n",
      "24/24 [==============================] - 1s 30ms/step - loss: 0.3947 - accuracy: 0.8583 - val_loss: 0.6538 - val_accuracy: 0.7497\n",
      "Epoch 76/150\n",
      "23/24 [===========================>..] - ETA: 0s - loss: 0.3969 - accuracy: 0.8601\n",
      "Epoch 00076: val_accuracy did not improve from 0.76560\n",
      "24/24 [==============================] - 1s 31ms/step - loss: 0.3966 - accuracy: 0.8600 - val_loss: 0.6565 - val_accuracy: 0.7546\n",
      "Epoch 77/150\n",
      "23/24 [===========================>..] - ETA: 0s - loss: 0.3791 - accuracy: 0.8680\n",
      "Epoch 00077: val_accuracy did not improve from 0.76560\n",
      "\n",
      "Epoch 00077: ReduceLROnPlateau reducing learning rate to 0.0002500000118743628.\n",
      "24/24 [==============================] - 1s 30ms/step - loss: 0.3825 - accuracy: 0.8668 - val_loss: 0.6509 - val_accuracy: 0.7639\n",
      "Epoch 78/150\n",
      "23/24 [===========================>..] - ETA: 0s - loss: 0.3758 - accuracy: 0.8685\n",
      "Epoch 00078: val_accuracy did not improve from 0.76560\n",
      "24/24 [==============================] - 1s 30ms/step - loss: 0.3759 - accuracy: 0.8688 - val_loss: 0.6527 - val_accuracy: 0.7563\n",
      "Epoch 79/150\n",
      "23/24 [===========================>..] - ETA: 0s - loss: 0.3560 - accuracy: 0.8785\n",
      "Epoch 00079: val_accuracy did not improve from 0.76560\n",
      "24/24 [==============================] - 1s 30ms/step - loss: 0.3592 - accuracy: 0.8771 - val_loss: 0.6512 - val_accuracy: 0.7610\n",
      "Epoch 80/150\n",
      "23/24 [===========================>..] - ETA: 0s - loss: 0.3578 - accuracy: 0.8792\n",
      "Epoch 00080: val_accuracy did not improve from 0.76560\n",
      "24/24 [==============================] - 1s 30ms/step - loss: 0.3587 - accuracy: 0.8782 - val_loss: 0.6482 - val_accuracy: 0.7580\n",
      "Epoch 81/150\n",
      "23/24 [===========================>..] - ETA: 0s - loss: 0.3584 - accuracy: 0.8775\n",
      "Epoch 00081: val_accuracy improved from 0.76560 to 0.76826, saving model to final_gabor_cnn.h5\n",
      "24/24 [==============================] - 1s 37ms/step - loss: 0.3595 - accuracy: 0.8773 - val_loss: 0.6413 - val_accuracy: 0.7683\n",
      "Epoch 82/150\n",
      "23/24 [===========================>..] - ETA: 0s - loss: 0.3607 - accuracy: 0.8747\n",
      "Epoch 00082: val_accuracy did not improve from 0.76826\n",
      "24/24 [==============================] - 1s 30ms/step - loss: 0.3635 - accuracy: 0.8731 - val_loss: 0.6507 - val_accuracy: 0.7583\n",
      "Epoch 83/150\n",
      "23/24 [===========================>..] - ETA: 0s - loss: 0.3516 - accuracy: 0.8792\n",
      "Epoch 00083: val_accuracy did not improve from 0.76826\n",
      "24/24 [==============================] - 1s 30ms/step - loss: 0.3514 - accuracy: 0.8792 - val_loss: 0.6551 - val_accuracy: 0.7583\n"
     ]
    },
    {
     "name": "stdout",
     "output_type": "stream",
     "text": [
      "Epoch 84/150\n",
      "23/24 [===========================>..] - ETA: 0s - loss: 0.3524 - accuracy: 0.8791\n",
      "Epoch 00084: val_accuracy did not improve from 0.76826\n",
      "24/24 [==============================] - 1s 30ms/step - loss: 0.3542 - accuracy: 0.8782 - val_loss: 0.6522 - val_accuracy: 0.7663\n",
      "Epoch 85/150\n",
      "23/24 [===========================>..] - ETA: 0s - loss: 0.3395 - accuracy: 0.8881\n",
      "Epoch 00085: val_accuracy did not improve from 0.76826\n",
      "24/24 [==============================] - 1s 31ms/step - loss: 0.3403 - accuracy: 0.8879 - val_loss: 0.6492 - val_accuracy: 0.7633\n",
      "Epoch 86/150\n",
      "23/24 [===========================>..] - ETA: 0s - loss: 0.3535 - accuracy: 0.8758\n",
      "Epoch 00086: val_accuracy did not improve from 0.76826\n",
      "24/24 [==============================] - 1s 30ms/step - loss: 0.3542 - accuracy: 0.8753 - val_loss: 0.6432 - val_accuracy: 0.7643\n",
      "Epoch 87/150\n",
      "23/24 [===========================>..] - ETA: 0s - loss: 0.3389 - accuracy: 0.8829\n",
      "Epoch 00087: val_accuracy did not improve from 0.76826\n",
      "\n",
      "Epoch 00087: ReduceLROnPlateau reducing learning rate to 0.0001250000059371814.\n",
      "24/24 [==============================] - 1s 30ms/step - loss: 0.3411 - accuracy: 0.8821 - val_loss: 0.6527 - val_accuracy: 0.7600\n",
      "Epoch 88/150\n",
      "23/24 [===========================>..] - ETA: 0s - loss: 0.3255 - accuracy: 0.8929\n",
      "Epoch 00088: val_accuracy did not improve from 0.76826\n",
      "24/24 [==============================] - 1s 30ms/step - loss: 0.3264 - accuracy: 0.8920 - val_loss: 0.6512 - val_accuracy: 0.7620\n",
      "Epoch 89/150\n",
      "23/24 [===========================>..] - ETA: 0s - loss: 0.3340 - accuracy: 0.8905\n",
      "Epoch 00089: val_accuracy did not improve from 0.76826\n",
      "24/24 [==============================] - 1s 30ms/step - loss: 0.3344 - accuracy: 0.8900 - val_loss: 0.6508 - val_accuracy: 0.7603\n",
      "Epoch 90/150\n",
      "23/24 [===========================>..] - ETA: 0s - loss: 0.3356 - accuracy: 0.8851\n",
      "Epoch 00090: val_accuracy did not improve from 0.76826\n",
      "24/24 [==============================] - 1s 30ms/step - loss: 0.3368 - accuracy: 0.8845 - val_loss: 0.6658 - val_accuracy: 0.7583\n",
      "Epoch 91/150\n",
      "23/24 [===========================>..] - ETA: 0s - loss: 0.3286 - accuracy: 0.8879\n",
      "Epoch 00091: val_accuracy did not improve from 0.76826\n",
      "24/24 [==============================] - 1s 30ms/step - loss: 0.3294 - accuracy: 0.8885 - val_loss: 0.6561 - val_accuracy: 0.7586\n",
      "Epoch 92/150\n",
      "23/24 [===========================>..] - ETA: 0s - loss: 0.3317 - accuracy: 0.8886\n",
      "Epoch 00092: val_accuracy did not improve from 0.76826\n",
      "24/24 [==============================] - 1s 30ms/step - loss: 0.3306 - accuracy: 0.8893 - val_loss: 0.6562 - val_accuracy: 0.7603\n",
      "Epoch 93/150\n",
      "23/24 [===========================>..] - ETA: 0s - loss: 0.3265 - accuracy: 0.8913\n",
      "Epoch 00093: val_accuracy did not improve from 0.76826\n",
      "\n",
      "Epoch 00093: ReduceLROnPlateau reducing learning rate to 6.25000029685907e-05.\n",
      "24/24 [==============================] - 1s 30ms/step - loss: 0.3258 - accuracy: 0.8919 - val_loss: 0.6528 - val_accuracy: 0.7616\n",
      "Epoch 94/150\n",
      "23/24 [===========================>..] - ETA: 0s - loss: 0.3156 - accuracy: 0.8955\n",
      "Epoch 00094: val_accuracy did not improve from 0.76826\n",
      "24/24 [==============================] - 1s 30ms/step - loss: 0.3170 - accuracy: 0.8945 - val_loss: 0.6496 - val_accuracy: 0.7620\n",
      "Epoch 95/150\n",
      "23/24 [===========================>..] - ETA: 0s - loss: 0.3189 - accuracy: 0.8956\n",
      "Epoch 00095: val_accuracy did not improve from 0.76826\n",
      "24/24 [==============================] - 1s 30ms/step - loss: 0.3194 - accuracy: 0.8953 - val_loss: 0.6510 - val_accuracy: 0.7616\n",
      "Epoch 96/150\n",
      "23/24 [===========================>..] - ETA: 0s - loss: 0.3268 - accuracy: 0.8903\n",
      "Epoch 00096: val_accuracy did not improve from 0.76826\n",
      "24/24 [==============================] - 1s 30ms/step - loss: 0.3283 - accuracy: 0.8898 - val_loss: 0.6497 - val_accuracy: 0.7586\n",
      "Epoch 97/150\n",
      "23/24 [===========================>..] - ETA: 0s - loss: 0.3155 - accuracy: 0.8986\n",
      "Epoch 00097: val_accuracy did not improve from 0.76826\n",
      "24/24 [==============================] - 1s 30ms/step - loss: 0.3172 - accuracy: 0.8973 - val_loss: 0.6488 - val_accuracy: 0.7603\n",
      "Epoch 98/150\n",
      "23/24 [===========================>..] - ETA: 0s - loss: 0.3150 - accuracy: 0.8988\n",
      "Epoch 00098: val_accuracy did not improve from 0.76826\n",
      "24/24 [==============================] - 1s 31ms/step - loss: 0.3166 - accuracy: 0.8976 - val_loss: 0.6489 - val_accuracy: 0.7653\n",
      "Epoch 99/150\n",
      "23/24 [===========================>..] - ETA: 0s - loss: 0.3142 - accuracy: 0.8978\n",
      "Epoch 00099: val_accuracy did not improve from 0.76826\n",
      "\n",
      "Epoch 00099: ReduceLROnPlateau reducing learning rate to 3.125000148429535e-05.\n",
      "24/24 [==============================] - 1s 31ms/step - loss: 0.3130 - accuracy: 0.8985 - val_loss: 0.6512 - val_accuracy: 0.7626\n",
      "Epoch 100/150\n",
      "23/24 [===========================>..] - ETA: 0s - loss: 0.3176 - accuracy: 0.8955 ETA: 0s - loss: 0.3051 - accura\n",
      "Epoch 00100: val_accuracy did not improve from 0.76826\n",
      "24/24 [==============================] - 1s 30ms/step - loss: 0.3181 - accuracy: 0.8950 - val_loss: 0.6495 - val_accuracy: 0.7603\n",
      "Epoch 101/150\n",
      "23/24 [===========================>..] - ETA: 0s - loss: 0.3150 - accuracy: 0.8964 ETA: 0s - loss: 0.3129 - accuracy: \n",
      "Epoch 00101: val_accuracy did not improve from 0.76826\n",
      "24/24 [==============================] - 1s 30ms/step - loss: 0.3152 - accuracy: 0.8958 - val_loss: 0.6497 - val_accuracy: 0.7613\n",
      "Epoch 102/150\n",
      "23/24 [===========================>..] - ETA: 0s - loss: 0.3140 - accuracy: 0.8939\n",
      "Epoch 00102: val_accuracy did not improve from 0.76826\n",
      "24/24 [==============================] - 1s 30ms/step - loss: 0.3145 - accuracy: 0.8939 - val_loss: 0.6512 - val_accuracy: 0.7626\n",
      "Epoch 103/150\n",
      "23/24 [===========================>..] - ETA: 0s - loss: 0.3119 - accuracy: 0.8988\n",
      "Epoch 00103: val_accuracy did not improve from 0.76826\n",
      "24/24 [==============================] - 1s 30ms/step - loss: 0.3116 - accuracy: 0.8992 - val_loss: 0.6520 - val_accuracy: 0.7613\n",
      "Epoch 104/150\n",
      "23/24 [===========================>..] - ETA: 0s - loss: 0.3124 - accuracy: 0.8973\n",
      "Epoch 00104: val_accuracy did not improve from 0.76826\n",
      "24/24 [==============================] - 1s 30ms/step - loss: 0.3123 - accuracy: 0.8977 - val_loss: 0.6496 - val_accuracy: 0.7603\n",
      "Epoch 105/150\n",
      "23/24 [===========================>..] - ETA: 0s - loss: 0.3151 - accuracy: 0.8959\n",
      "Epoch 00105: val_accuracy did not improve from 0.76826\n",
      "\n",
      "Epoch 00105: ReduceLROnPlateau reducing learning rate to 1.5625000742147677e-05.\n",
      "24/24 [==============================] - 1s 30ms/step - loss: 0.3143 - accuracy: 0.8963 - val_loss: 0.6509 - val_accuracy: 0.7606\n",
      "Epoch 106/150\n",
      "23/24 [===========================>..] - ETA: 0s - loss: 0.3081 - accuracy: 0.9017\n",
      "Epoch 00106: val_accuracy did not improve from 0.76826\n",
      "24/24 [==============================] - 1s 31ms/step - loss: 0.3078 - accuracy: 0.9019 - val_loss: 0.6521 - val_accuracy: 0.7600\n",
      "Epoch 107/150\n",
      "23/24 [===========================>..] - ETA: 0s - loss: 0.3180 - accuracy: 0.8955\n",
      "Epoch 00107: val_accuracy did not improve from 0.76826\n",
      "24/24 [==============================] - 1s 30ms/step - loss: 0.3171 - accuracy: 0.8958 - val_loss: 0.6526 - val_accuracy: 0.7600\n",
      "Epoch 108/150\n",
      "23/24 [===========================>..] - ETA: 0s - loss: 0.3117 - accuracy: 0.8973\n",
      "Epoch 00108: val_accuracy did not improve from 0.76826\n",
      "24/24 [==============================] - 1s 30ms/step - loss: 0.3140 - accuracy: 0.8965 - val_loss: 0.6514 - val_accuracy: 0.7596\n",
      "Epoch 109/150\n",
      "23/24 [===========================>..] - ETA: 0s - loss: 0.3175 - accuracy: 0.8978\n",
      "Epoch 00109: val_accuracy did not improve from 0.76826\n",
      "24/24 [==============================] - 1s 30ms/step - loss: 0.3197 - accuracy: 0.8968 - val_loss: 0.6513 - val_accuracy: 0.7583\n",
      "Epoch 110/150\n",
      "23/24 [===========================>..] - ETA: 0s - loss: 0.3060 - accuracy: 0.9000\n",
      "Epoch 00110: val_accuracy did not improve from 0.76826\n",
      "24/24 [==============================] - 1s 30ms/step - loss: 0.3059 - accuracy: 0.8997 - val_loss: 0.6516 - val_accuracy: 0.7590\n",
      "Epoch 111/150\n",
      "23/24 [===========================>..] - ETA: 0s - loss: 0.3104 - accuracy: 0.8992\n",
      "Epoch 00111: val_accuracy did not improve from 0.76826\n",
      "\n",
      "Epoch 00111: ReduceLROnPlateau reducing learning rate to 1e-05.\n",
      "24/24 [==============================] - 1s 30ms/step - loss: 0.3115 - accuracy: 0.8988 - val_loss: 0.6517 - val_accuracy: 0.7603\n"
     ]
    },
    {
     "name": "stdout",
     "output_type": "stream",
     "text": [
      "Epoch 112/150\n",
      "23/24 [===========================>..] - ETA: 0s - loss: 0.3125 - accuracy: 0.8981\n",
      "Epoch 00112: val_accuracy did not improve from 0.76826\n",
      "24/24 [==============================] - 1s 30ms/step - loss: 0.3106 - accuracy: 0.8988 - val_loss: 0.6521 - val_accuracy: 0.7596\n",
      "Epoch 113/150\n",
      "23/24 [===========================>..] - ETA: 0s - loss: 0.3053 - accuracy: 0.9019\n",
      "Epoch 00113: val_accuracy did not improve from 0.76826\n",
      "24/24 [==============================] - 1s 30ms/step - loss: 0.3049 - accuracy: 0.9022 - val_loss: 0.6523 - val_accuracy: 0.7600\n",
      "Epoch 114/150\n",
      "23/24 [===========================>..] - ETA: 0s - loss: 0.3149 - accuracy: 0.8954\n",
      "Epoch 00114: val_accuracy did not improve from 0.76826\n",
      "24/24 [==============================] - 1s 30ms/step - loss: 0.3155 - accuracy: 0.8950 - val_loss: 0.6517 - val_accuracy: 0.7600\n",
      "Epoch 115/150\n",
      "23/24 [===========================>..] - ETA: 0s - loss: 0.3214 - accuracy: 0.8943\n",
      "Epoch 00115: val_accuracy did not improve from 0.76826\n",
      "24/24 [==============================] - 1s 30ms/step - loss: 0.3227 - accuracy: 0.8935 - val_loss: 0.6528 - val_accuracy: 0.7600\n",
      "Epoch 116/150\n",
      "23/24 [===========================>..] - ETA: 0s - loss: 0.3166 - accuracy: 0.8963\n",
      "Epoch 00116: val_accuracy did not improve from 0.76826\n",
      "24/24 [==============================] - 1s 30ms/step - loss: 0.3178 - accuracy: 0.8956 - val_loss: 0.6520 - val_accuracy: 0.7606\n",
      "Epoch 117/150\n",
      "23/24 [===========================>..] - ETA: 0s - loss: 0.3063 - accuracy: 0.9019\n",
      "Epoch 00117: val_accuracy did not improve from 0.76826\n",
      "24/24 [==============================] - 1s 30ms/step - loss: 0.3097 - accuracy: 0.9003 - val_loss: 0.6521 - val_accuracy: 0.7596\n",
      "Epoch 118/150\n",
      "23/24 [===========================>..] - ETA: 0s - loss: 0.3163 - accuracy: 0.8952\n",
      "Epoch 00118: val_accuracy did not improve from 0.76826\n",
      "24/24 [==============================] - 1s 34ms/step - loss: 0.3159 - accuracy: 0.8953 - val_loss: 0.6520 - val_accuracy: 0.7576\n",
      "Epoch 119/150\n",
      "23/24 [===========================>..] - ETA: 0s - loss: 0.3034 - accuracy: 0.9037\n",
      "Epoch 00119: val_accuracy did not improve from 0.76826\n",
      "24/24 [==============================] - 1s 32ms/step - loss: 0.3059 - accuracy: 0.9025 - val_loss: 0.6519 - val_accuracy: 0.7590\n",
      "Epoch 120/150\n",
      "23/24 [===========================>..] - ETA: 0s - loss: 0.3080 - accuracy: 0.8993 ETA: 0s - loss: 0.3075 - \n",
      "Epoch 00120: val_accuracy did not improve from 0.76826\n",
      "24/24 [==============================] - 1s 31ms/step - loss: 0.3093 - accuracy: 0.8986 - val_loss: 0.6518 - val_accuracy: 0.7586\n",
      "Epoch 121/150\n",
      "23/24 [===========================>..] - ETA: 0s - loss: 0.3096 - accuracy: 0.8982\n",
      "Epoch 00121: val_accuracy did not improve from 0.76826\n",
      "24/24 [==============================] - 1s 32ms/step - loss: 0.3098 - accuracy: 0.8984 - val_loss: 0.6519 - val_accuracy: 0.7573\n",
      "Epoch 122/150\n",
      "23/24 [===========================>..] - ETA: 0s - loss: 0.3090 - accuracy: 0.9006\n",
      "Epoch 00122: val_accuracy did not improve from 0.76826\n",
      "24/24 [==============================] - 1s 34ms/step - loss: 0.3098 - accuracy: 0.8998 - val_loss: 0.6506 - val_accuracy: 0.7586\n",
      "Epoch 123/150\n",
      "23/24 [===========================>..] - ETA: 0s - loss: 0.3051 - accuracy: 0.9031\n",
      "Epoch 00123: val_accuracy did not improve from 0.76826\n",
      "24/24 [==============================] - 1s 30ms/step - loss: 0.3070 - accuracy: 0.9022 - val_loss: 0.6522 - val_accuracy: 0.7596\n",
      "Epoch 124/150\n",
      "21/24 [=========================>....] - ETA: 0s - loss: 0.3209 - accuracy: 0.8911"
     ]
    }
   ],
   "source": [
    "a=time.time()\n",
    "model.compile(optimizer='adam',loss='categorical_crossentropy',metrics=['accuracy'])\n",
    "plot_model(model,'model_final.jpg',show_shapes=True)\n",
    "lr_reduce=kcallbacks.ReduceLROnPlateau(monitor='val_loss',factor=0.5,patience=6,verbose=1,min_lr=0.00001)\n",
    "save_model=kcallbacks.ModelCheckpoint(filepath=MODEL_SAVE_PATH,monitor='val_accuracy',verbose=1,save_best_only=True)\n",
    "callback_list=[save_model,lr_reduce]\n",
    "history=model.fit(x=X_train,y=y_train,batch_size=BATCH_SIZE,epochs=EPOCHS,validation_split=0.2,\n",
    "                  callbacks=callback_list)\n",
    "b=time.time()\n",
    "print(\"time=\",(b-a))"
   ]
  },
  {
   "cell_type": "markdown",
   "metadata": {},
   "source": [
    "## plot_curve"
   ]
  },
  {
   "cell_type": "code",
   "execution_count": 41,
   "metadata": {},
   "outputs": [],
   "source": [
    "from help import plot_curve,plot_curve_with_smooth"
   ]
  },
  {
   "cell_type": "code",
   "execution_count": 42,
   "metadata": {},
   "outputs": [
    {
     "data": {
      "image/png": "[encoded data removed]",
      "text/plain": [
       "<Figure size 1080x360 with 2 Axes>"
      ]
     },
     "metadata": {},
     "output_type": "display_data"
    }
   ],
   "source": [
    "plot_curve(history)"
   ]
  },
  {
   "cell_type": "code",
   "execution_count": 43,
   "metadata": {},
   "outputs": [
    {
     "data": {
      "image/png": "[encoded data removed]",
      "text/plain": [
       "<Figure size 1080x360 with 2 Axes>"
      ]
     },
     "metadata": {},
     "output_type": "display_data"
    }
   ],
   "source": [
    "plot_curve_with_smooth(history)"
   ]
  },
  {
   "cell_type": "markdown",
   "metadata": {},
   "source": [
    "## confusion_metrix"
   ]
  },
  {
   "cell_type": "code",
   "execution_count": 44,
   "metadata": {
    "jupyter": {
     "outputs_hidden": true
    }
   },
   "outputs": [],
   "source": [
    "# model.load_weights(MODEL_SAVE_PATH)"
   ]
  },
  {
   "cell_type": "code",
   "execution_count": 45,
   "metadata": {},
   "outputs": [
    {
     "data": {
      "text/plain": [
       "<matplotlib.axes._subplots.AxesSubplot at 0x25dbcbaf0b8>"
      ]
     },
     "execution_count": 45,
     "metadata": {},
     "output_type": "execute_result"
    },
    {
     "data": {
      "image/png": "[encoded data removed]",
      "text/plain": [
       "<Figure size 720x504 with 2 Axes>"
      ]
     },
     "metadata": {
      "needs_background": "light"
     },
     "output_type": "display_data"
    }
   ],
   "source": [
    "from sklearn.metrics import confusion_matrix\n",
    "import matplotlib.pyplot as plt\n",
    "%matplotlib inline\n",
    "y_pred=model.predict(X_test)\n",
    "y_pred=np.argmax(y_pred,axis=-1).ravel()\n",
    "y_true=np.argmax(y_test,axis=-1).ravel()\n",
    "con_matrix=confusion_matrix(y_true=y_true,y_pred=y_pred)\n",
    "con_matrix=con_matrix[1:,1:]\n",
    "target_names=[alphabet_set[i] for i in range(1, 10)]\n",
    "import seaborn as sn\n",
    "\n",
    "df_cm = pd.DataFrame(con_matrix,\n",
    "                     index = [i for i in list(target_names)],\n",
    "                     columns = [i for i in list(target_names)])\n",
    "plt.figure(figsize = (10,7))\n",
    "sn.heatmap(df_cm, annot=True, fmt='.20g',cmap=\"BuPu\")\n",
    "# def plot_confusion_matrix(confusion_mat):\n",
    "#     plt.figure(figsize=(12,8))\n",
    "#     plt.imshow(confusion_mat)\n",
    "#     plt.title('Confusion Matrix')\n",
    "#     plt.colorbar()\n",
    "#     labels = list(range(0,10))\n",
    "#     tick_marks = np.arange(len(labels))\n",
    "#     plt.xticks(tick_marks, labels)\n",
    "#     plt.yticks(tick_marks, labels)\n",
    "#     plt.ylabel('True Label')\n",
    "#     plt.xlabel('Predicted Label')\n",
    "#     plt.grid(False)\n",
    "#     plt.show() \n",
    "# plot_confusion_matrix(con_matrix)"
   ]
  },
  {
   "cell_type": "markdown",
   "metadata": {},
   "source": [
    "## classfication_report"
   ]
  },
  {
   "cell_type": "code",
   "execution_count": 46,
   "metadata": {},
   "outputs": [],
   "source": [
    "from sklearn.metrics import classification_report\n"
   ]
  },
  {
   "cell_type": "code",
   "execution_count": 47,
   "metadata": {
    "scrolled": true
   },
   "outputs": [
    {
     "name": "stdout",
     "output_type": "stream",
     "text": [
      "              precision    recall  f1-score   support\n",
      "\n",
      "           0     0.8819    0.9204    0.9007      1898\n",
      "           a     0.6215    0.6145    0.6180       358\n",
      "           e     0.4419    0.3220    0.3725       118\n",
      "           g     0.5263    0.4000    0.4545       175\n",
      "           i     0.6402    0.6935    0.6658       372\n",
      "           n     0.5434    0.5090    0.5257       332\n",
      "           o     0.7118    0.6836    0.6974       177\n",
      "           r     0.7500    0.6429    0.6923        14\n",
      "           u     0.7299    0.7542    0.7418       301\n",
      "           v     0.6667    0.1053    0.1818        19\n",
      "\n",
      "   micro avg     0.7601    0.7601    0.7601      3764\n",
      "   macro avg     0.6513    0.5645    0.5851      3764\n",
      "weighted avg     0.7513    0.7601    0.7536      3764\n",
      "\n"
     ]
    }
   ],
   "source": [
    "target_names=[alphabet_set[i] for i in range(10)]\n",
    "print(classification_report(y_true,y_pred,digits=4,labels=list(range(10)),target_names=target_names))"
   ]
  },
  {
   "cell_type": "markdown",
   "metadata": {},
   "source": [
    "# predict test"
   ]
  },
  {
   "cell_type": "code",
   "execution_count": 48,
   "metadata": {},
   "outputs": [
    {
     "name": "stdout",
     "output_type": "stream",
     "text": [
      "(1, 35, 7)\n",
      "Predict Label:u\n"
     ]
    }
   ],
   "source": [
    "\n",
    "temp = np.load('che1.npy')\n",
    "m,n = temp.shape\n",
    "            #print(m)\n",
    "if m <=35:\n",
    "    left = 36 - m\n",
    "    temp =np.append(temp,(np.zeros([left,n])),axis=0)\n",
    "test =[]\n",
    "test.append(temp[:35,])\n",
    "test = np.array(test)\n",
    "print(test.shape)\n",
    "pred=model.predict(test)\n",
    "\n",
    "pred=np.argmax(pred,axis=-1)[0]\n",
    "text=[alphabet_set[i] for i in pred]\n",
    "text=[i for i in text if i!='0']\n",
    "text=''.join(text)\n",
    "print('Predict Label:%s'%(text))"
   ]
  },
  {
   "cell_type": "code",
   "execution_count": 33,
   "metadata": {},
   "outputs": [
    {
     "ename": "FileNotFoundError",
     "evalue": "[Errno 2] No such file or directory: './gabor/person6_time1_group1_ge_4.npy'",
     "output_type": "error",
     "traceback": [
      "\u001b[1;31m---------------------------------------------------------------------------\u001b[0m",
      "\u001b[1;31mFileNotFoundError\u001b[0m                         Traceback (most recent call last)",
      "\u001b[1;32m<ipython-input-33-1302a30f01c7>\u001b[0m in \u001b[0;36m<module>\u001b[1;34m\u001b[0m\n\u001b[1;32m----> 1\u001b[1;33m \u001b[0mtemp\u001b[0m \u001b[1;33m=\u001b[0m \u001b[0mnp\u001b[0m\u001b[1;33m.\u001b[0m\u001b[0mload\u001b[0m\u001b[1;33m(\u001b[0m\u001b[1;34m'./gabor/person6_time1_group1_ge_4.npy'\u001b[0m\u001b[1;33m)\u001b[0m\u001b[1;33m\u001b[0m\u001b[0m\n\u001b[0m\u001b[0;32m      2\u001b[0m \u001b[0mm\u001b[0m\u001b[1;33m,\u001b[0m\u001b[0mn\u001b[0m \u001b[1;33m=\u001b[0m \u001b[0mtemp\u001b[0m\u001b[1;33m.\u001b[0m\u001b[0mshape\u001b[0m\u001b[1;33m\u001b[0m\u001b[0m\n\u001b[0;32m      3\u001b[0m             \u001b[1;31m#print(m)\u001b[0m\u001b[1;33m\u001b[0m\u001b[1;33m\u001b[0m\u001b[0m\n\u001b[0;32m      4\u001b[0m \u001b[1;32mif\u001b[0m \u001b[0mm\u001b[0m \u001b[1;33m<=\u001b[0m\u001b[1;36m35\u001b[0m\u001b[1;33m:\u001b[0m\u001b[1;33m\u001b[0m\u001b[0m\n\u001b[0;32m      5\u001b[0m     \u001b[0mleft\u001b[0m \u001b[1;33m=\u001b[0m \u001b[1;36m36\u001b[0m \u001b[1;33m-\u001b[0m \u001b[0mm\u001b[0m\u001b[1;33m\u001b[0m\u001b[0m\n",
      "\u001b[1;32m~\\AppData\\Roaming\\Python\\Python37\\site-packages\\numpy\\lib\\npyio.py\u001b[0m in \u001b[0;36mload\u001b[1;34m(file, mmap_mode, allow_pickle, fix_imports, encoding)\u001b[0m\n\u001b[0;32m    426\u001b[0m         \u001b[0mown_fid\u001b[0m \u001b[1;33m=\u001b[0m \u001b[1;32mFalse\u001b[0m\u001b[1;33m\u001b[0m\u001b[0m\n\u001b[0;32m    427\u001b[0m     \u001b[1;32melse\u001b[0m\u001b[1;33m:\u001b[0m\u001b[1;33m\u001b[0m\u001b[0m\n\u001b[1;32m--> 428\u001b[1;33m         \u001b[0mfid\u001b[0m \u001b[1;33m=\u001b[0m \u001b[0mopen\u001b[0m\u001b[1;33m(\u001b[0m\u001b[0mos_fspath\u001b[0m\u001b[1;33m(\u001b[0m\u001b[0mfile\u001b[0m\u001b[1;33m)\u001b[0m\u001b[1;33m,\u001b[0m \u001b[1;34m\"rb\"\u001b[0m\u001b[1;33m)\u001b[0m\u001b[1;33m\u001b[0m\u001b[0m\n\u001b[0m\u001b[0;32m    429\u001b[0m         \u001b[0mown_fid\u001b[0m \u001b[1;33m=\u001b[0m \u001b[1;32mTrue\u001b[0m\u001b[1;33m\u001b[0m\u001b[0m\n\u001b[0;32m    430\u001b[0m \u001b[1;33m\u001b[0m\u001b[0m\n",
      "\u001b[1;31mFileNotFoundError\u001b[0m: [Errno 2] No such file or directory: './gabor/person6_time1_group1_ge_4.npy'"
     ]
    }
   ],
   "source": [
    "\n",
    "temp = np.load('./gabor/person6_time1_group1_ge_4.npy')\n",
    "m,n = temp.shape\n",
    "            #print(m)\n",
    "if m <=35:\n",
    "    left = 36 - m\n",
    "    temp =np.append(temp,(np.zeros([left,n])),axis=0)\n",
    "test =[]\n",
    "test.append(temp[:35,])\n",
    "test = np.array(test)\n",
    "print(test.shape)\n",
    "pred=model.predict(test)\n",
    "\n",
    "pred=np.argmax(pred,axis=-1)[0]\n",
    "text=[alphabet_set[i] for i in pred]\n",
    "text=[i for i in text if i!='0']\n",
    "text=''.join(text)\n",
    "print('Predict Label:%s'%(text))"
   ]
  },
  {
   "cell_type": "code",
   "execution_count": 72,
   "metadata": {},
   "outputs": [
    {
     "name": "stdout",
     "output_type": "stream",
     "text": [
      "(1, 35, 7)\n",
      "Predict Label:in\n"
     ]
    }
   ],
   "source": [
    "\n",
    "temp = np.load('./gabor/person10_time1_group2_zhong_1.npy')\n",
    "m,n = temp.shape\n",
    "            #print(m)\n",
    "if m <=35:\n",
    "    left = 36 - m\n",
    "    temp =np.append(temp,(np.zeros([left,n])),axis=0)\n",
    "test =[]\n",
    "test.append(temp[:35,])\n",
    "test = np.array(test)\n",
    "print(test.shape)\n",
    "pred=model.predict(test)\n",
    "\n",
    "pred=np.argmax(pred,axis=-1)[0]\n",
    "text=[alphabet_set[i] for i in pred]\n",
    "text=[i for i in text if i!='0']\n",
    "text=''.join(text)\n",
    "print('Predict Label:%s'%(text))"
   ]
  },
  {
   "cell_type": "code",
   "execution_count": null,
   "metadata": {
    "collapsed": true,
    "jupyter": {
     "outputs_hidden": true
    }
   },
   "outputs": [],
   "source": []
  },
  {
   "cell_type": "code",
   "execution_count": 33,
   "metadata": {
    "scrolled": true
   },
   "outputs": [
    {
     "name": "stdout",
     "output_type": "stream",
     "text": [
      "              precision    recall  f1-score   support\n",
      "\n",
      "           0     0.8932    0.9272    0.9099      1922\n",
      "           a     0.6667    0.6741    0.6704       359\n",
      "           e     0.4779    0.4252    0.4500       127\n",
      "           g     0.5441    0.4744    0.5068       156\n",
      "           i     0.7068    0.6862    0.6964       376\n",
      "           n     0.5927    0.5821    0.5873       335\n",
      "           o     0.7241    0.6604    0.6908       159\n",
      "           r     0.7500    0.6316    0.6857        19\n",
      "           u     0.7980    0.8225    0.8101       293\n",
      "           v     0.0000    0.0000    0.0000        18\n",
      "\n",
      "    accuracy                         0.7872      3764\n",
      "   macro avg     0.6154    0.5884    0.6007      3764\n",
      "weighted avg     0.7782    0.7872    0.7823      3764\n",
      "\n"
     ]
    }
   ],
   "source": [
    "target_names=[alphabet_set[i] for i in range(10)]\n",
    "print(classification_report(y_true,y_pred,digits=4,labels=list(range(10)),target_names=target_names))"
   ]
  },
  {
   "cell_type": "code",
   "execution_count": null,
   "metadata": {
    "collapsed": true,
    "jupyter": {
     "outputs_hidden": true
    }
   },
   "outputs": [],
   "source": []
  }
 ],
 "metadata": {
  "kernelspec": {
   "display_name": "Python 3",
   "language": "python",
   "name": "python3"
  },
  "language_info": {
   "codemirror_mode": {
    "name": "ipython",
    "version": 3
   },
   "file_extension": ".py",
   "mimetype": "text/x-python",
   "name": "python",
   "nbconvert_exporter": "python",
   "pygments_lexer": "ipython3",
   "version": "3.7.0"
  },
  "toc": {
   "base_numbering": 1,
   "nav_menu": {},
   "number_sections": true,
   "sideBar": true,
   "skip_h1_title": false,
   "title_cell": "Table of Contents",
   "title_sidebar": "Contents",
   "toc_cell": false,
   "toc_position": {
    "height": "calc(100% - 180px)",
    "left": "10px",
    "top": "150px",
    "width": "250px"
   },
   "toc_section_display": true,
   "toc_window_display": true
  }
 },
 "nbformat": 4,
 "nbformat_minor": 4
}
