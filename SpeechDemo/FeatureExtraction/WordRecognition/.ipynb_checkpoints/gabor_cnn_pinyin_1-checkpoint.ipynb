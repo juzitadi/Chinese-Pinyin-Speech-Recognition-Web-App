{
 "cells": [
  {
   "cell_type": "markdown",
   "metadata": {},
   "source": [
    "# import modules"
   ]
  },
  {
   "cell_type": "code",
   "execution_count": 1,
   "metadata": {},
   "outputs": [
    {
     "name": "stderr",
     "output_type": "stream",
     "text": [
      "Using TensorFlow backend.\n",
      "/opt/anaconda3/envs/py37/lib/python3.7/site-packages/tensorflow/python/framework/dtypes.py:516: FutureWarning: Passing (type, 1) or '1type' as a synonym of type is deprecated; in a future version of numpy, it will be understood as (type, (1,)) / '(1,)type'.\n",
      "  _np_qint8 = np.dtype([(\"qint8\", np.int8, 1)])\n",
      "/opt/anaconda3/envs/py37/lib/python3.7/site-packages/tensorflow/python/framework/dtypes.py:517: FutureWarning: Passing (type, 1) or '1type' as a synonym of type is deprecated; in a future version of numpy, it will be understood as (type, (1,)) / '(1,)type'.\n",
      "  _np_quint8 = np.dtype([(\"quint8\", np.uint8, 1)])\n",
      "/opt/anaconda3/envs/py37/lib/python3.7/site-packages/tensorflow/python/framework/dtypes.py:518: FutureWarning: Passing (type, 1) or '1type' as a synonym of type is deprecated; in a future version of numpy, it will be understood as (type, (1,)) / '(1,)type'.\n",
      "  _np_qint16 = np.dtype([(\"qint16\", np.int16, 1)])\n",
      "/opt/anaconda3/envs/py37/lib/python3.7/site-packages/tensorflow/python/framework/dtypes.py:519: FutureWarning: Passing (type, 1) or '1type' as a synonym of type is deprecated; in a future version of numpy, it will be understood as (type, (1,)) / '(1,)type'.\n",
      "  _np_quint16 = np.dtype([(\"quint16\", np.uint16, 1)])\n",
      "/opt/anaconda3/envs/py37/lib/python3.7/site-packages/tensorflow/python/framework/dtypes.py:520: FutureWarning: Passing (type, 1) or '1type' as a synonym of type is deprecated; in a future version of numpy, it will be understood as (type, (1,)) / '(1,)type'.\n",
      "  _np_qint32 = np.dtype([(\"qint32\", np.int32, 1)])\n",
      "/opt/anaconda3/envs/py37/lib/python3.7/site-packages/tensorflow/python/framework/dtypes.py:525: FutureWarning: Passing (type, 1) or '1type' as a synonym of type is deprecated; in a future version of numpy, it will be understood as (type, (1,)) / '(1,)type'.\n",
      "  np_resource = np.dtype([(\"resource\", np.ubyte, 1)])\n",
      "/opt/anaconda3/envs/py37/lib/python3.7/site-packages/tensorboard/compat/tensorflow_stub/dtypes.py:541: FutureWarning: Passing (type, 1) or '1type' as a synonym of type is deprecated; in a future version of numpy, it will be understood as (type, (1,)) / '(1,)type'.\n",
      "  _np_qint8 = np.dtype([(\"qint8\", np.int8, 1)])\n",
      "/opt/anaconda3/envs/py37/lib/python3.7/site-packages/tensorboard/compat/tensorflow_stub/dtypes.py:542: FutureWarning: Passing (type, 1) or '1type' as a synonym of type is deprecated; in a future version of numpy, it will be understood as (type, (1,)) / '(1,)type'.\n",
      "  _np_quint8 = np.dtype([(\"quint8\", np.uint8, 1)])\n",
      "/opt/anaconda3/envs/py37/lib/python3.7/site-packages/tensorboard/compat/tensorflow_stub/dtypes.py:543: FutureWarning: Passing (type, 1) or '1type' as a synonym of type is deprecated; in a future version of numpy, it will be understood as (type, (1,)) / '(1,)type'.\n",
      "  _np_qint16 = np.dtype([(\"qint16\", np.int16, 1)])\n",
      "/opt/anaconda3/envs/py37/lib/python3.7/site-packages/tensorboard/compat/tensorflow_stub/dtypes.py:544: FutureWarning: Passing (type, 1) or '1type' as a synonym of type is deprecated; in a future version of numpy, it will be understood as (type, (1,)) / '(1,)type'.\n",
      "  _np_quint16 = np.dtype([(\"quint16\", np.uint16, 1)])\n",
      "/opt/anaconda3/envs/py37/lib/python3.7/site-packages/tensorboard/compat/tensorflow_stub/dtypes.py:545: FutureWarning: Passing (type, 1) or '1type' as a synonym of type is deprecated; in a future version of numpy, it will be understood as (type, (1,)) / '(1,)type'.\n",
      "  _np_qint32 = np.dtype([(\"qint32\", np.int32, 1)])\n",
      "/opt/anaconda3/envs/py37/lib/python3.7/site-packages/tensorboard/compat/tensorflow_stub/dtypes.py:550: FutureWarning: Passing (type, 1) or '1type' as a synonym of type is deprecated; in a future version of numpy, it will be understood as (type, (1,)) / '(1,)type'.\n",
      "  np_resource = np.dtype([(\"resource\", np.ubyte, 1)])\n"
     ]
    }
   ],
   "source": [
    "import keras\n",
    "from keras.utils import plot_model,to_categorical\n",
    "from keras import Model,Input,regularizers\n",
    "from keras.layers import Reshape,Flatten\n",
    "import numpy as np\n",
    "from sklearn.model_selection import train_test_split\n",
    "import keras.backend as K\n",
    "import keras.callbacks as kcallbacks\n",
    "from sklearn.preprocessing import LabelEncoder\n",
    "import string\n",
    "from keras.optimizers import SGD\n",
    "import warnings\n",
    "import tensorflow as tf\n",
    "# from lsuv_init import LSUVinit\n",
    "warnings.filterwarnings('ignore')\n",
    "from tensorflow.keras import layers\n",
    "from keras.layers import Input, Dense, LSTM, merge ,Conv1D,Dropout,Bidirectional,Multiply,BatchNormalization,MaxPool1D\n",
    "from keras.models import Model\n",
    "import time\n",
    "\n",
    "from attention_utils import get_activations\n",
    "from keras.layers import merge\n",
    "from keras.layers.core import *\n",
    "from keras.layers.recurrent import LSTM\n",
    "from keras.models import *\n",
    "\n",
    "import  pandas as pd\n",
    "import  numpy as np\n",
    "from keras.wrappers import scikit_learn"
   ]
  },
  {
   "cell_type": "markdown",
   "metadata": {},
   "source": [
    "# Load Features"
   ]
  },
  {
   "cell_type": "code",
   "execution_count": 2,
   "metadata": {},
   "outputs": [],
   "source": [
    "X_features=np.load('X_gabor.npy')\n",
    "y=np.load('y_pinyin.npy')"
   ]
  },
  {
   "cell_type": "code",
   "execution_count": 3,
   "metadata": {},
   "outputs": [
    {
     "data": {
      "text/plain": [
       "(4704, 35, 7)"
      ]
     },
     "execution_count": 3,
     "metadata": {},
     "output_type": "execute_result"
    }
   ],
   "source": [
    "X_features.shape"
   ]
  },
  {
   "cell_type": "code",
   "execution_count": 4,
   "metadata": {},
   "outputs": [
    {
     "data": {
      "text/plain": [
       "(4704, 5)"
      ]
     },
     "execution_count": 4,
     "metadata": {},
     "output_type": "execute_result"
    }
   ],
   "source": [
    "y.shape"
   ]
  },
  {
   "cell_type": "code",
   "execution_count": 5,
   "metadata": {},
   "outputs": [
    {
     "name": "stdout",
     "output_type": "stream",
     "text": [
      "[[ 2  1  0  0  0]\n",
      " [ 4  1  0  0  0]\n",
      " [ 5 18  0  0  0]\n",
      " ...\n",
      " [25 21  1 14  0]\n",
      " [25 21  0  0  0]\n",
      " [26  1 15  0  0]]\n"
     ]
    }
   ],
   "source": [
    "print(y)"
   ]
  },
  {
   "cell_type": "code",
   "execution_count": 6,
   "metadata": {},
   "outputs": [],
   "source": [
    "alphabet_set=list(string.ascii_letters[:26])"
   ]
  },
  {
   "cell_type": "code",
   "execution_count": 7,
   "metadata": {
    "scrolled": true
   },
   "outputs": [],
   "source": [
    "alphabet_set.insert(0,'0')"
   ]
  },
  {
   "cell_type": "code",
   "execution_count": 8,
   "metadata": {
    "scrolled": true
   },
   "outputs": [
    {
     "data": {
      "text/plain": [
       "27"
      ]
     },
     "execution_count": 8,
     "metadata": {},
     "output_type": "execute_result"
    }
   ],
   "source": [
    "len(alphabet_set)"
   ]
  },
  {
   "cell_type": "markdown",
   "metadata": {},
   "source": [
    "## One-hot Encoding"
   ]
  },
  {
   "cell_type": "code",
   "execution_count": 9,
   "metadata": {},
   "outputs": [],
   "source": [
    "y=to_categorical(y,num_classes=27)"
   ]
  },
  {
   "cell_type": "code",
   "execution_count": 10,
   "metadata": {},
   "outputs": [
    {
     "data": {
      "text/plain": [
       "(4704, 5, 27)"
      ]
     },
     "execution_count": 10,
     "metadata": {},
     "output_type": "execute_result"
    }
   ],
   "source": [
    "y.shape"
   ]
  },
  {
   "cell_type": "markdown",
   "metadata": {},
   "source": [
    "## split train and test"
   ]
  },
  {
   "cell_type": "code",
   "execution_count": 12,
   "metadata": {},
   "outputs": [],
   "source": [
    "np.random.seed(116)\n",
    "np.random.shuffle(X_features)\n",
    "np.random.seed(116)\n",
    "np.random.shuffle(y)\n",
    "#tf.random.set_seed(116)\n",
    "tf.set_random_seed(116)"
   ]
  },
  {
   "cell_type": "code",
   "execution_count": 13,
   "metadata": {},
   "outputs": [],
   "source": [
    "X_train, X_test, y_train, y_test=train_test_split(X_features,y,test_size=0.1,random_state=2019)"
   ]
  },
  {
   "cell_type": "code",
   "execution_count": 14,
   "metadata": {},
   "outputs": [
    {
     "data": {
      "text/plain": [
       "((4233, 35, 7), (471, 35, 7))"
      ]
     },
     "execution_count": 14,
     "metadata": {},
     "output_type": "execute_result"
    }
   ],
   "source": [
    "X_train.shape,X_test.shape"
   ]
  },
  {
   "cell_type": "code",
   "execution_count": 15,
   "metadata": {},
   "outputs": [
    {
     "data": {
      "text/plain": [
       "((4233, 5, 27), (471, 5, 27))"
      ]
     },
     "execution_count": 15,
     "metadata": {},
     "output_type": "execute_result"
    }
   ],
   "source": [
    "y_train.shape,y_test.shape"
   ]
  },
  {
   "cell_type": "code",
   "execution_count": 16,
   "metadata": {},
   "outputs": [
    {
     "data": {
      "text/plain": [
       "(4233, 35, 7)"
      ]
     },
     "execution_count": 16,
     "metadata": {},
     "output_type": "execute_result"
    }
   ],
   "source": [
    "X_train.shape"
   ]
  },
  {
   "cell_type": "code",
   "execution_count": 17,
   "metadata": {},
   "outputs": [
    {
     "data": {
      "text/plain": [
       "(4233, 35, 7)"
      ]
     },
     "execution_count": 17,
     "metadata": {},
     "output_type": "execute_result"
    }
   ],
   "source": [
    "X_train.shape"
   ]
  },
  {
   "cell_type": "markdown",
   "metadata": {},
   "source": [
    "# Models\n"
   ]
  },
  {
   "cell_type": "code",
   "execution_count": 18,
   "metadata": {},
   "outputs": [
    {
     "data": {
      "text/plain": [
       "<tf.Tensor 'input_1:0' shape=(?, 35, 7) dtype=float32>"
      ]
     },
     "execution_count": 18,
     "metadata": {},
     "output_type": "execute_result"
    }
   ],
   "source": [
    "NUM_CLASSES=27\n",
    "BATCH_SIZE=128\n",
    "EPOCHS=150\n",
    "MODEL_SAVE_PATH='.\\model\\pinyin_gabor_cnn1.h5'\n",
    "inputs=Input(shape=(35,7))\n",
    "inputs"
   ]
  },
  {
   "cell_type": "code",
   "execution_count": 19,
   "metadata": {
    "scrolled": true
   },
   "outputs": [],
   "source": [
    "SINGLE_ATTENTION_VECTOR = False\n",
    "def attention_3d_block(inputs, single_attention_vector=False):\n",
    "    # 如果上一层是LSTM，需要return_sequences=True\n",
    "    # inputs.shape = (batch_size, time_steps, input_dim)\n",
    "    time_steps = K.int_shape(inputs)[1]\n",
    "    input_dim = K.int_shape(inputs)[2]\n",
    "    a = Permute((2, 1))(inputs)\n",
    "    a = Dense(time_steps, activation='softmax', name='attention')(a)\n",
    "    if single_attention_vector:\n",
    "        a = Lambda(lambda x: K.mean(x, axis=1))(a)\n",
    "        a = RepeatVector(input_dim)(a)\n",
    "\n",
    "    a_probs = Permute((2, 1))(a)\n",
    "    # 乘上了attention权重，但是并没有求和，好像影响不大\n",
    "    # 如果分类任务，进行Flatten展开就可以了\n",
    "    # element-wise\n",
    "    output_attention_mul = Multiply()([inputs, a_probs])\n",
    "    return output_attention_mul\n",
    "\n",
    "def attention_model():\n",
    "    inputs = Input(shape=(35, 7))\n",
    "    x=BatchNormalization()(inputs)\n",
    "    x = Conv1D(filters = 32, kernel_size = 1, padding=\"same\",kernel_initializer='he_normal',\n",
    "                bias_initializer='zeros',activation = 'relu')(x)  #, padding = 'same'\n",
    "    x = MaxPool1D()(x)\n",
    "    #lstm_out = Bidirectional(LSTM(lstm_units, activation='relu'), name='bilstm')(x)\n",
    "    #对于GPU可以使用CuDNNLSTM\n",
    "    lstm_out = Bidirectional(LSTM(32, return_sequences=True))(x)\n",
    "    lstm_out = Bidirectional(LSTM(64, return_sequences=True))(lstm_out)\n",
    "    lstm_out = Bidirectional(LSTM(128, return_sequences=True))(lstm_out)\n",
    "    attention_mul = attention_3d_block(lstm_out)\n",
    "    attention_mul=MaxPool1D(pool_size=8,strides=2)(attention_mul)\n",
    "    output = Dense(27, activation='sigmoid')(attention_mul)\n",
    "    model = Model(inputs=[inputs], outputs=output)\n",
    "    return model"
   ]
  },
  {
   "cell_type": "code",
   "execution_count": 20,
   "metadata": {},
   "outputs": [
    {
     "name": "stdout",
     "output_type": "stream",
     "text": [
      "WARNING:tensorflow:From /opt/anaconda3/envs/py37/lib/python3.7/site-packages/keras/backend/tensorflow_backend.py:4070: The name tf.nn.max_pool is deprecated. Please use tf.nn.max_pool2d instead.\n",
      "\n",
      "Model: \"model_1\"\n",
      "__________________________________________________________________________________________________\n",
      "Layer (type)                    Output Shape         Param #     Connected to                     \n",
      "==================================================================================================\n",
      "input_2 (InputLayer)            (None, 35, 7)        0                                            \n",
      "__________________________________________________________________________________________________\n",
      "batch_normalization_1 (BatchNor (None, 35, 7)        28          input_2[0][0]                    \n",
      "__________________________________________________________________________________________________\n",
      "conv1d_1 (Conv1D)               (None, 35, 32)       256         batch_normalization_1[0][0]      \n",
      "__________________________________________________________________________________________________\n",
      "max_pooling1d_1 (MaxPooling1D)  (None, 17, 32)       0           conv1d_1[0][0]                   \n",
      "__________________________________________________________________________________________________\n",
      "bidirectional_1 (Bidirectional) (None, 17, 64)       16640       max_pooling1d_1[0][0]            \n",
      "__________________________________________________________________________________________________\n",
      "bidirectional_2 (Bidirectional) (None, 17, 128)      66048       bidirectional_1[0][0]            \n",
      "__________________________________________________________________________________________________\n",
      "bidirectional_3 (Bidirectional) (None, 17, 256)      263168      bidirectional_2[0][0]            \n",
      "__________________________________________________________________________________________________\n",
      "permute_1 (Permute)             (None, 256, 17)      0           bidirectional_3[0][0]            \n",
      "__________________________________________________________________________________________________\n",
      "attention (Dense)               (None, 256, 17)      306         permute_1[0][0]                  \n",
      "__________________________________________________________________________________________________\n",
      "permute_2 (Permute)             (None, 17, 256)      0           attention[0][0]                  \n",
      "__________________________________________________________________________________________________\n",
      "multiply_1 (Multiply)           (None, 17, 256)      0           bidirectional_3[0][0]            \n",
      "                                                                 permute_2[0][0]                  \n",
      "__________________________________________________________________________________________________\n",
      "max_pooling1d_2 (MaxPooling1D)  (None, 5, 256)       0           multiply_1[0][0]                 \n",
      "__________________________________________________________________________________________________\n",
      "dense_1 (Dense)                 (None, 5, 27)        6939        max_pooling1d_2[0][0]            \n",
      "==================================================================================================\n",
      "Total params: 353,385\n",
      "Trainable params: 353,371\n",
      "Non-trainable params: 14\n",
      "__________________________________________________________________________________________________\n"
     ]
    }
   ],
   "source": [
    "model = attention_model()\n",
    "model.summary()"
   ]
  },
  {
   "cell_type": "markdown",
   "metadata": {},
   "source": [
    "model = keras.Sequential(\n",
    "    [\n",
    "        keras.Input(shape=(35,7)),\n",
    "        layers.Conv1D(64, kernel_size=1, activation=\"relu\"),\n",
    "        layers.Dropout(0.3),\n",
    "        layers.Bidirectional(layers.LSTM(64, return_sequences=True)),\n",
    "        layers.Dropout(0.5),\n",
    "        layers.Dense(128, activation=\"sigmoid\"),\n",
    "        layers.Flatten(),\n",
    "        layers.Dropout(0.5),\n",
    "        layers.Dense(NUM_CLASSES, activation=\"softmax\"),\n",
    "    ]\n",
    ")\n",
    "\n",
    "model.summary()"
   ]
  },
  {
   "cell_type": "code",
   "execution_count": 21,
   "metadata": {
    "scrolled": true
   },
   "outputs": [
    {
     "name": "stdout",
     "output_type": "stream",
     "text": [
      "WARNING:tensorflow:From /opt/anaconda3/envs/py37/lib/python3.7/site-packages/tensorflow/python/ops/math_grad.py:1250: add_dispatch_support.<locals>.wrapper (from tensorflow.python.ops.array_ops) is deprecated and will be removed in a future version.\n",
      "Instructions for updating:\n",
      "Use tf.where in 2.0, which has the same broadcast rule as np.where\n",
      "WARNING:tensorflow:From /opt/anaconda3/envs/py37/lib/python3.7/site-packages/keras/backend/tensorflow_backend.py:422: The name tf.global_variables is deprecated. Please use tf.compat.v1.global_variables instead.\n",
      "\n",
      "Train on 4233 samples, validate on 471 samples\n",
      "Epoch 1/150\n",
      "4233/4233 [==============================] - 5s 1ms/step - loss: 3.0642 - accuracy: 0.3712 - val_loss: 2.7838 - val_accuracy: 0.3618\n",
      "\n",
      "Epoch 00001: val_accuracy improved from -inf to 0.36178, saving model to .\\model\\pinyin_gabor_cnn1.h5\n",
      "Epoch 2/150\n",
      "4233/4233 [==============================] - 3s 744us/step - loss: 2.6136 - accuracy: 0.3802 - val_loss: 2.4780 - val_accuracy: 0.3618\n",
      "\n",
      "Epoch 00002: val_accuracy did not improve from 0.36178\n",
      "Epoch 3/150\n",
      "4233/4233 [==============================] - 3s 773us/step - loss: 2.2872 - accuracy: 0.3802 - val_loss: 2.1246 - val_accuracy: 0.3618\n",
      "\n",
      "Epoch 00003: val_accuracy did not improve from 0.36178\n",
      "Epoch 4/150\n",
      "4233/4233 [==============================] - 3s 744us/step - loss: 1.9986 - accuracy: 0.3802 - val_loss: 1.9206 - val_accuracy: 0.4008\n",
      "\n",
      "Epoch 00004: val_accuracy improved from 0.36178 to 0.40085, saving model to .\\model\\pinyin_gabor_cnn1.h5\n",
      "Epoch 5/150\n",
      "4233/4233 [==============================] - 3s 744us/step - loss: 1.7985 - accuracy: 0.4561 - val_loss: 1.7498 - val_accuracy: 0.4450\n",
      "\n",
      "Epoch 00005: val_accuracy improved from 0.40085 to 0.44501, saving model to .\\model\\pinyin_gabor_cnn1.h5\n",
      "Epoch 6/150\n",
      "4233/4233 [==============================] - 3s 788us/step - loss: 1.6937 - accuracy: 0.4603 - val_loss: 1.6975 - val_accuracy: 0.4450\n",
      "\n",
      "Epoch 00006: val_accuracy did not improve from 0.44501\n",
      "Epoch 7/150\n",
      "4233/4233 [==============================] - 4s 841us/step - loss: 1.6582 - accuracy: 0.4595 - val_loss: 1.6672 - val_accuracy: 0.4450\n",
      "\n",
      "Epoch 00007: val_accuracy did not improve from 0.44501\n",
      "Epoch 8/150\n",
      "4233/4233 [==============================] - 4s 843us/step - loss: 1.6334 - accuracy: 0.4603 - val_loss: 1.6446 - val_accuracy: 0.4450\n",
      "\n",
      "Epoch 00008: val_accuracy did not improve from 0.44501\n",
      "Epoch 9/150\n",
      "4233/4233 [==============================] - 4s 904us/step - loss: 1.6091 - accuracy: 0.4623 - val_loss: 1.6226 - val_accuracy: 0.4569\n",
      "\n",
      "Epoch 00009: val_accuracy improved from 0.44501 to 0.45690, saving model to .\\model\\pinyin_gabor_cnn1.h5\n",
      "Epoch 10/150\n",
      "4233/4233 [==============================] - 4s 866us/step - loss: 1.5874 - accuracy: 0.4720 - val_loss: 1.5998 - val_accuracy: 0.4599\n",
      "\n",
      "Epoch 00010: val_accuracy improved from 0.45690 to 0.45987, saving model to .\\model\\pinyin_gabor_cnn1.h5\n",
      "Epoch 11/150\n",
      "4233/4233 [==============================] - 4s 830us/step - loss: 1.5624 - accuracy: 0.4743 - val_loss: 1.5824 - val_accuracy: 0.4569\n",
      "\n",
      "Epoch 00011: val_accuracy did not improve from 0.45987\n",
      "Epoch 12/150\n",
      "4233/4233 [==============================] - 4s 875us/step - loss: 1.5448 - accuracy: 0.4778 - val_loss: 1.5625 - val_accuracy: 0.4633\n",
      "\n",
      "Epoch 00012: val_accuracy improved from 0.45987 to 0.46327, saving model to .\\model\\pinyin_gabor_cnn1.h5\n",
      "Epoch 13/150\n",
      "4233/4233 [==============================] - 4s 856us/step - loss: 1.5283 - accuracy: 0.4813 - val_loss: 1.5469 - val_accuracy: 0.4684\n",
      "\n",
      "Epoch 00013: val_accuracy improved from 0.46327 to 0.46837, saving model to .\\model\\pinyin_gabor_cnn1.h5\n",
      "Epoch 14/150\n",
      "4233/4233 [==============================] - 3s 815us/step - loss: 1.5092 - accuracy: 0.4863 - val_loss: 1.5228 - val_accuracy: 0.4773\n",
      "\n",
      "Epoch 00014: val_accuracy improved from 0.46837 to 0.47728, saving model to .\\model\\pinyin_gabor_cnn1.h5\n",
      "Epoch 15/150\n",
      "4233/4233 [==============================] - 3s 806us/step - loss: 1.4980 - accuracy: 0.4936 - val_loss: 1.5145 - val_accuracy: 0.4764\n",
      "\n",
      "Epoch 00015: val_accuracy did not improve from 0.47728\n",
      "Epoch 16/150\n",
      "4233/4233 [==============================] - 3s 820us/step - loss: 1.4770 - accuracy: 0.4987 - val_loss: 1.4996 - val_accuracy: 0.4807\n",
      "\n",
      "Epoch 00016: val_accuracy improved from 0.47728 to 0.48068, saving model to .\\model\\pinyin_gabor_cnn1.h5\n",
      "Epoch 17/150\n",
      "4233/4233 [==============================] - 3s 808us/step - loss: 1.4685 - accuracy: 0.5047 - val_loss: 1.4881 - val_accuracy: 0.4968\n",
      "\n",
      "Epoch 00017: val_accuracy improved from 0.48068 to 0.49682, saving model to .\\model\\pinyin_gabor_cnn1.h5\n",
      "Epoch 18/150\n",
      "4233/4233 [==============================] - 3s 819us/step - loss: 1.4525 - accuracy: 0.5082 - val_loss: 1.4801 - val_accuracy: 0.4934\n",
      "\n",
      "Epoch 00018: val_accuracy did not improve from 0.49682\n",
      "Epoch 19/150\n",
      "4233/4233 [==============================] - 3s 814us/step - loss: 1.4377 - accuracy: 0.5127 - val_loss: 1.4587 - val_accuracy: 0.4968\n",
      "\n",
      "Epoch 00019: val_accuracy did not improve from 0.49682\n",
      "Epoch 20/150\n",
      "4233/4233 [==============================] - 3s 820us/step - loss: 1.4278 - accuracy: 0.5155 - val_loss: 1.4587 - val_accuracy: 0.5040\n",
      "\n",
      "Epoch 00020: val_accuracy improved from 0.49682 to 0.50403, saving model to .\\model\\pinyin_gabor_cnn1.h5\n",
      "Epoch 21/150\n",
      "4233/4233 [==============================] - 4s 828us/step - loss: 1.4223 - accuracy: 0.5157 - val_loss: 1.4489 - val_accuracy: 0.5011\n",
      "\n",
      "Epoch 00021: val_accuracy did not improve from 0.50403\n",
      "Epoch 22/150\n",
      "4233/4233 [==============================] - 4s 860us/step - loss: 1.4043 - accuracy: 0.5213 - val_loss: 1.4456 - val_accuracy: 0.5002\n",
      "\n",
      "Epoch 00022: val_accuracy did not improve from 0.50403\n",
      "Epoch 23/150\n",
      "4233/4233 [==============================] - 3s 812us/step - loss: 1.3942 - accuracy: 0.5254 - val_loss: 1.4172 - val_accuracy: 0.5155\n",
      "\n",
      "Epoch 00023: val_accuracy improved from 0.50403 to 0.51550, saving model to .\\model\\pinyin_gabor_cnn1.h5\n",
      "Epoch 24/150\n",
      "4233/4233 [==============================] - 3s 818us/step - loss: 1.3902 - accuracy: 0.5239 - val_loss: 1.4074 - val_accuracy: 0.5146\n",
      "\n",
      "Epoch 00024: val_accuracy did not improve from 0.51550\n",
      "Epoch 25/150\n",
      "4233/4233 [==============================] - 3s 818us/step - loss: 1.3751 - accuracy: 0.5300 - val_loss: 1.4188 - val_accuracy: 0.5113\n",
      "\n",
      "Epoch 00025: val_accuracy did not improve from 0.51550\n",
      "Epoch 26/150\n",
      "4233/4233 [==============================] - 3s 819us/step - loss: 1.3568 - accuracy: 0.5360 - val_loss: 1.3858 - val_accuracy: 0.5265\n",
      "\n",
      "Epoch 00026: val_accuracy improved from 0.51550 to 0.52654, saving model to .\\model\\pinyin_gabor_cnn1.h5\n",
      "Epoch 27/150\n",
      "4233/4233 [==============================] - 3s 802us/step - loss: 1.3404 - accuracy: 0.5398 - val_loss: 1.3712 - val_accuracy: 0.5287\n",
      "\n",
      "Epoch 00027: val_accuracy improved from 0.52654 to 0.52866, saving model to .\\model\\pinyin_gabor_cnn1.h5\n",
      "Epoch 28/150\n",
      "4233/4233 [==============================] - 3s 804us/step - loss: 1.3324 - accuracy: 0.5434 - val_loss: 1.3435 - val_accuracy: 0.5372\n",
      "\n",
      "Epoch 00028: val_accuracy improved from 0.52866 to 0.53715, saving model to .\\model\\pinyin_gabor_cnn1.h5\n",
      "Epoch 29/150\n",
      "4233/4233 [==============================] - 3s 808us/step - loss: 1.3117 - accuracy: 0.5505 - val_loss: 1.3690 - val_accuracy: 0.5278\n",
      "\n",
      "Epoch 00029: val_accuracy did not improve from 0.53715\n",
      "Epoch 30/150\n",
      "4233/4233 [==============================] - 3s 810us/step - loss: 1.3017 - accuracy: 0.5522 - val_loss: 1.3287 - val_accuracy: 0.5376\n",
      "\n",
      "Epoch 00030: val_accuracy improved from 0.53715 to 0.53758, saving model to .\\model\\pinyin_gabor_cnn1.h5\n",
      "Epoch 31/150\n",
      "4233/4233 [==============================] - 3s 806us/step - loss: 1.2804 - accuracy: 0.5574 - val_loss: 1.3353 - val_accuracy: 0.5389\n",
      "\n",
      "Epoch 00031: val_accuracy improved from 0.53758 to 0.53885, saving model to .\\model\\pinyin_gabor_cnn1.h5\n",
      "Epoch 32/150\n",
      "4233/4233 [==============================] - 3s 790us/step - loss: 1.2685 - accuracy: 0.5597 - val_loss: 1.3017 - val_accuracy: 0.5418\n",
      "\n",
      "Epoch 00032: val_accuracy improved from 0.53885 to 0.54183, saving model to .\\model\\pinyin_gabor_cnn1.h5\n",
      "Epoch 33/150\n",
      "4233/4233 [==============================] - 3s 804us/step - loss: 1.2533 - accuracy: 0.5663 - val_loss: 1.3038 - val_accuracy: 0.5410\n",
      "\n",
      "Epoch 00033: val_accuracy did not improve from 0.54183\n",
      "Epoch 34/150\n"
     ]
    },
    {
     "name": "stdout",
     "output_type": "stream",
     "text": [
      "4233/4233 [==============================] - 3s 782us/step - loss: 1.2577 - accuracy: 0.5653 - val_loss: 1.3194 - val_accuracy: 0.5423\n",
      "\n",
      "Epoch 00034: val_accuracy improved from 0.54183 to 0.54225, saving model to .\\model\\pinyin_gabor_cnn1.h5\n",
      "Epoch 35/150\n",
      "4233/4233 [==============================] - 3s 756us/step - loss: 1.2455 - accuracy: 0.5691 - val_loss: 1.2696 - val_accuracy: 0.5490\n",
      "\n",
      "Epoch 00035: val_accuracy improved from 0.54225 to 0.54904, saving model to .\\model\\pinyin_gabor_cnn1.h5\n",
      "Epoch 36/150\n",
      "4233/4233 [==============================] - 3s 778us/step - loss: 1.2155 - accuracy: 0.5761 - val_loss: 1.2561 - val_accuracy: 0.5529\n",
      "\n",
      "Epoch 00036: val_accuracy improved from 0.54904 to 0.55287, saving model to .\\model\\pinyin_gabor_cnn1.h5\n",
      "Epoch 37/150\n",
      "4233/4233 [==============================] - 3s 783us/step - loss: 1.1978 - accuracy: 0.5856 - val_loss: 1.2413 - val_accuracy: 0.5597\n",
      "\n",
      "Epoch 00037: val_accuracy improved from 0.55287 to 0.55966, saving model to .\\model\\pinyin_gabor_cnn1.h5\n",
      "Epoch 38/150\n",
      "4233/4233 [==============================] - 3s 779us/step - loss: 1.2034 - accuracy: 0.5839 - val_loss: 1.2506 - val_accuracy: 0.5605\n",
      "\n",
      "Epoch 00038: val_accuracy improved from 0.55966 to 0.56051, saving model to .\\model\\pinyin_gabor_cnn1.h5\n",
      "Epoch 39/150\n",
      "4233/4233 [==============================] - 3s 775us/step - loss: 1.1681 - accuracy: 0.5965 - val_loss: 1.2343 - val_accuracy: 0.5622\n",
      "\n",
      "Epoch 00039: val_accuracy improved from 0.56051 to 0.56221, saving model to .\\model\\pinyin_gabor_cnn1.h5\n",
      "Epoch 40/150\n",
      "4233/4233 [==============================] - 3s 776us/step - loss: 1.1896 - accuracy: 0.5855 - val_loss: 1.2410 - val_accuracy: 0.5635\n",
      "\n",
      "Epoch 00040: val_accuracy improved from 0.56221 to 0.56348, saving model to .\\model\\pinyin_gabor_cnn1.h5\n",
      "Epoch 41/150\n",
      "4233/4233 [==============================] - 3s 765us/step - loss: 1.1546 - accuracy: 0.5989 - val_loss: 1.1973 - val_accuracy: 0.5745\n",
      "\n",
      "Epoch 00041: val_accuracy improved from 0.56348 to 0.57452, saving model to .\\model\\pinyin_gabor_cnn1.h5\n",
      "Epoch 42/150\n",
      "4233/4233 [==============================] - 3s 775us/step - loss: 1.1582 - accuracy: 0.6024 - val_loss: 1.1946 - val_accuracy: 0.5737\n",
      "\n",
      "Epoch 00042: val_accuracy did not improve from 0.57452\n",
      "Epoch 43/150\n",
      "4233/4233 [==============================] - 3s 795us/step - loss: 1.1365 - accuracy: 0.6073 - val_loss: 1.2011 - val_accuracy: 0.5758\n",
      "\n",
      "Epoch 00043: val_accuracy improved from 0.57452 to 0.57580, saving model to .\\model\\pinyin_gabor_cnn1.h5\n",
      "Epoch 44/150\n",
      "4233/4233 [==============================] - 3s 791us/step - loss: 1.1322 - accuracy: 0.6115 - val_loss: 1.2151 - val_accuracy: 0.5741\n",
      "\n",
      "Epoch 00044: val_accuracy did not improve from 0.57580\n",
      "Epoch 45/150\n",
      "4233/4233 [==============================] - 3s 806us/step - loss: 1.1123 - accuracy: 0.6158 - val_loss: 1.1730 - val_accuracy: 0.5975\n",
      "\n",
      "Epoch 00045: val_accuracy improved from 0.57580 to 0.59745, saving model to .\\model\\pinyin_gabor_cnn1.h5\n",
      "Epoch 46/150\n",
      "4233/4233 [==============================] - 3s 811us/step - loss: 1.0964 - accuracy: 0.6241 - val_loss: 1.1675 - val_accuracy: 0.5941\n",
      "\n",
      "Epoch 00046: val_accuracy did not improve from 0.59745\n",
      "Epoch 47/150\n",
      "4233/4233 [==============================] - 3s 776us/step - loss: 1.0797 - accuracy: 0.6262 - val_loss: 1.1557 - val_accuracy: 0.5970\n",
      "\n",
      "Epoch 00047: val_accuracy did not improve from 0.59745\n",
      "Epoch 48/150\n",
      "4233/4233 [==============================] - 3s 784us/step - loss: 1.0664 - accuracy: 0.6313 - val_loss: 1.1504 - val_accuracy: 0.5992\n",
      "\n",
      "Epoch 00048: val_accuracy improved from 0.59745 to 0.59915, saving model to .\\model\\pinyin_gabor_cnn1.h5\n",
      "Epoch 49/150\n",
      "4233/4233 [==============================] - 3s 787us/step - loss: 1.0569 - accuracy: 0.6376 - val_loss: 1.1450 - val_accuracy: 0.6008\n",
      "\n",
      "Epoch 00049: val_accuracy improved from 0.59915 to 0.60085, saving model to .\\model\\pinyin_gabor_cnn1.h5\n",
      "Epoch 50/150\n",
      "4233/4233 [==============================] - 3s 788us/step - loss: 1.0425 - accuracy: 0.6426 - val_loss: 1.1587 - val_accuracy: 0.6042\n",
      "\n",
      "Epoch 00050: val_accuracy improved from 0.60085 to 0.60425, saving model to .\\model\\pinyin_gabor_cnn1.h5\n",
      "Epoch 51/150\n",
      "4233/4233 [==============================] - 3s 779us/step - loss: 1.0406 - accuracy: 0.6442 - val_loss: 1.1228 - val_accuracy: 0.6047\n",
      "\n",
      "Epoch 00051: val_accuracy improved from 0.60425 to 0.60467, saving model to .\\model\\pinyin_gabor_cnn1.h5\n",
      "Epoch 52/150\n",
      "4233/4233 [==============================] - 3s 792us/step - loss: 1.0313 - accuracy: 0.6483 - val_loss: 1.1291 - val_accuracy: 0.6110\n",
      "\n",
      "Epoch 00052: val_accuracy improved from 0.60467 to 0.61104, saving model to .\\model\\pinyin_gabor_cnn1.h5\n",
      "Epoch 53/150\n",
      "4233/4233 [==============================] - 3s 784us/step - loss: 1.0289 - accuracy: 0.6468 - val_loss: 1.1577 - val_accuracy: 0.6004\n",
      "\n",
      "Epoch 00053: val_accuracy did not improve from 0.61104\n",
      "Epoch 54/150\n",
      "4233/4233 [==============================] - 3s 776us/step - loss: 1.0430 - accuracy: 0.6410 - val_loss: 1.1066 - val_accuracy: 0.6229\n",
      "\n",
      "Epoch 00054: val_accuracy improved from 0.61104 to 0.62293, saving model to .\\model\\pinyin_gabor_cnn1.h5\n",
      "Epoch 55/150\n",
      "4233/4233 [==============================] - 3s 797us/step - loss: 0.9985 - accuracy: 0.6553 - val_loss: 1.1131 - val_accuracy: 0.6187\n",
      "\n",
      "Epoch 00055: val_accuracy did not improve from 0.62293\n",
      "Epoch 56/150\n",
      "4233/4233 [==============================] - 3s 801us/step - loss: 0.9805 - accuracy: 0.6640 - val_loss: 1.1018 - val_accuracy: 0.6183\n",
      "\n",
      "Epoch 00056: val_accuracy did not improve from 0.62293\n",
      "Epoch 57/150\n",
      "4233/4233 [==============================] - 3s 799us/step - loss: 0.9744 - accuracy: 0.6681 - val_loss: 1.1137 - val_accuracy: 0.6161\n",
      "\n",
      "Epoch 00057: val_accuracy did not improve from 0.62293\n",
      "Epoch 58/150\n",
      "4233/4233 [==============================] - 3s 787us/step - loss: 0.9699 - accuracy: 0.6658 - val_loss: 1.1363 - val_accuracy: 0.6093\n",
      "\n",
      "Epoch 00058: val_accuracy did not improve from 0.62293\n",
      "Epoch 59/150\n",
      "4233/4233 [==============================] - 3s 799us/step - loss: 0.9785 - accuracy: 0.6615 - val_loss: 1.0880 - val_accuracy: 0.6285\n",
      "\n",
      "Epoch 00059: val_accuracy improved from 0.62293 to 0.62845, saving model to .\\model\\pinyin_gabor_cnn1.h5\n",
      "Epoch 60/150\n",
      "4233/4233 [==============================] - 3s 822us/step - loss: 0.9540 - accuracy: 0.6728 - val_loss: 1.0951 - val_accuracy: 0.6314\n",
      "\n",
      "Epoch 00060: val_accuracy improved from 0.62845 to 0.63142, saving model to .\\model\\pinyin_gabor_cnn1.h5\n",
      "Epoch 61/150\n",
      "4233/4233 [==============================] - 3s 803us/step - loss: 0.9326 - accuracy: 0.6790 - val_loss: 1.0908 - val_accuracy: 0.6293\n",
      "\n",
      "Epoch 00061: val_accuracy did not improve from 0.63142\n",
      "Epoch 62/150\n",
      "4233/4233 [==============================] - 4s 838us/step - loss: 0.9290 - accuracy: 0.6801 - val_loss: 1.0740 - val_accuracy: 0.6200\n",
      "\n",
      "Epoch 00062: val_accuracy did not improve from 0.63142\n",
      "Epoch 63/150\n",
      "4233/4233 [==============================] - 3s 806us/step - loss: 0.9142 - accuracy: 0.6830 - val_loss: 1.1248 - val_accuracy: 0.6132\n",
      "\n",
      "Epoch 00063: val_accuracy did not improve from 0.63142\n",
      "Epoch 64/150\n",
      "4233/4233 [==============================] - 3s 792us/step - loss: 0.9441 - accuracy: 0.6753 - val_loss: 1.0993 - val_accuracy: 0.6204\n",
      "\n",
      "Epoch 00064: val_accuracy did not improve from 0.63142\n",
      "Epoch 65/150\n",
      "4233/4233 [==============================] - 3s 792us/step - loss: 0.9103 - accuracy: 0.6877 - val_loss: 1.0525 - val_accuracy: 0.6357\n",
      "\n",
      "Epoch 00065: val_accuracy improved from 0.63142 to 0.63567, saving model to .\\model\\pinyin_gabor_cnn1.h5\n",
      "Epoch 66/150\n",
      "4233/4233 [==============================] - 3s 790us/step - loss: 0.9194 - accuracy: 0.6837 - val_loss: 1.0716 - val_accuracy: 0.6208\n",
      "\n",
      "Epoch 00066: val_accuracy did not improve from 0.63567\n",
      "Epoch 67/150\n",
      "4233/4233 [==============================] - 3s 802us/step - loss: 0.8986 - accuracy: 0.6889 - val_loss: 1.0640 - val_accuracy: 0.6327\n",
      "\n",
      "Epoch 00067: val_accuracy did not improve from 0.63567\n",
      "Epoch 68/150\n",
      "4233/4233 [==============================] - 4s 837us/step - loss: 0.8764 - accuracy: 0.6956 - val_loss: 1.0493 - val_accuracy: 0.6285\n",
      "\n",
      "Epoch 00068: val_accuracy did not improve from 0.63567\n",
      "Epoch 69/150\n",
      "4233/4233 [==============================] - 3s 769us/step - loss: 0.8542 - accuracy: 0.7017 - val_loss: 1.0534 - val_accuracy: 0.6437\n"
     ]
    },
    {
     "name": "stdout",
     "output_type": "stream",
     "text": [
      "\n",
      "Epoch 00069: val_accuracy improved from 0.63567 to 0.64374, saving model to .\\model\\pinyin_gabor_cnn1.h5\n",
      "Epoch 70/150\n",
      "4233/4233 [==============================] - 3s 734us/step - loss: 0.8715 - accuracy: 0.6968 - val_loss: 1.0608 - val_accuracy: 0.6331\n",
      "\n",
      "Epoch 00070: val_accuracy did not improve from 0.64374\n",
      "Epoch 71/150\n",
      "4233/4233 [==============================] - 3s 744us/step - loss: 0.8745 - accuracy: 0.6958 - val_loss: 1.0687 - val_accuracy: 0.6229\n",
      "\n",
      "Epoch 00071: val_accuracy did not improve from 0.64374\n",
      "Epoch 72/150\n",
      "4233/4233 [==============================] - 3s 752us/step - loss: 0.8661 - accuracy: 0.6972 - val_loss: 1.0604 - val_accuracy: 0.6361\n",
      "\n",
      "Epoch 00072: val_accuracy did not improve from 0.64374\n",
      "Epoch 73/150\n",
      "4233/4233 [==============================] - 3s 748us/step - loss: 0.8483 - accuracy: 0.7025 - val_loss: 1.0178 - val_accuracy: 0.6408\n",
      "\n",
      "Epoch 00073: val_accuracy did not improve from 0.64374\n",
      "Epoch 74/150\n",
      "4233/4233 [==============================] - 3s 740us/step - loss: 0.8193 - accuracy: 0.7168 - val_loss: 1.0279 - val_accuracy: 0.6463\n",
      "\n",
      "Epoch 00074: val_accuracy improved from 0.64374 to 0.64628, saving model to .\\model\\pinyin_gabor_cnn1.h5\n",
      "Epoch 75/150\n",
      "4233/4233 [==============================] - 3s 754us/step - loss: 0.7974 - accuracy: 0.7268 - val_loss: 1.0235 - val_accuracy: 0.6497\n",
      "\n",
      "Epoch 00075: val_accuracy improved from 0.64628 to 0.64968, saving model to .\\model\\pinyin_gabor_cnn1.h5\n",
      "Epoch 76/150\n",
      "4233/4233 [==============================] - 3s 744us/step - loss: 0.7885 - accuracy: 0.7269 - val_loss: 1.0286 - val_accuracy: 0.6471\n",
      "\n",
      "Epoch 00076: val_accuracy did not improve from 0.64968\n",
      "Epoch 77/150\n",
      "4233/4233 [==============================] - 3s 801us/step - loss: 0.7906 - accuracy: 0.7255 - val_loss: 1.0849 - val_accuracy: 0.6195\n",
      "\n",
      "Epoch 00077: val_accuracy did not improve from 0.64968\n",
      "Epoch 78/150\n",
      "4233/4233 [==============================] - 3s 753us/step - loss: 0.8509 - accuracy: 0.7026 - val_loss: 1.0436 - val_accuracy: 0.6289\n",
      "\n",
      "Epoch 00078: val_accuracy did not improve from 0.64968\n",
      "Epoch 79/150\n",
      "4233/4233 [==============================] - 3s 796us/step - loss: 0.7939 - accuracy: 0.7220 - val_loss: 1.0306 - val_accuracy: 0.6442\n",
      "\n",
      "Epoch 00079: val_accuracy did not improve from 0.64968\n",
      "\n",
      "Epoch 00079: ReduceLROnPlateau reducing learning rate to 0.0005000000237487257.\n",
      "Epoch 80/150\n",
      "4233/4233 [==============================] - 3s 773us/step - loss: 0.7592 - accuracy: 0.7363 - val_loss: 1.0051 - val_accuracy: 0.6527\n",
      "\n",
      "Epoch 00080: val_accuracy improved from 0.64968 to 0.65265, saving model to .\\model\\pinyin_gabor_cnn1.h5\n",
      "Epoch 81/150\n",
      "4233/4233 [==============================] - 3s 768us/step - loss: 0.7280 - accuracy: 0.7482 - val_loss: 0.9947 - val_accuracy: 0.6582\n",
      "\n",
      "Epoch 00081: val_accuracy improved from 0.65265 to 0.65817, saving model to .\\model\\pinyin_gabor_cnn1.h5\n",
      "Epoch 82/150\n",
      "4233/4233 [==============================] - 3s 819us/step - loss: 0.7292 - accuracy: 0.7489 - val_loss: 0.9981 - val_accuracy: 0.6556\n",
      "\n",
      "Epoch 00082: val_accuracy did not improve from 0.65817\n",
      "Epoch 83/150\n",
      "4233/4233 [==============================] - 4s 831us/step - loss: 0.7222 - accuracy: 0.7527 - val_loss: 0.9986 - val_accuracy: 0.6586\n",
      "\n",
      "Epoch 00083: val_accuracy improved from 0.65817 to 0.65860, saving model to .\\model\\pinyin_gabor_cnn1.h5\n",
      "Epoch 84/150\n",
      "4233/4233 [==============================] - 3s 805us/step - loss: 0.7303 - accuracy: 0.7488 - val_loss: 1.0135 - val_accuracy: 0.6556\n",
      "\n",
      "Epoch 00084: val_accuracy did not improve from 0.65860\n",
      "Epoch 85/150\n",
      "4233/4233 [==============================] - 3s 775us/step - loss: 0.7204 - accuracy: 0.7524 - val_loss: 1.0060 - val_accuracy: 0.6573\n",
      "\n",
      "Epoch 00085: val_accuracy did not improve from 0.65860\n",
      "Epoch 86/150\n",
      "4233/4233 [==============================] - 3s 792us/step - loss: 0.7422 - accuracy: 0.7457 - val_loss: 1.0346 - val_accuracy: 0.6471\n",
      "\n",
      "Epoch 00086: val_accuracy did not improve from 0.65860\n",
      "Epoch 87/150\n",
      "4233/4233 [==============================] - 3s 775us/step - loss: 0.7236 - accuracy: 0.7517 - val_loss: 1.0187 - val_accuracy: 0.6505\n",
      "\n",
      "Epoch 00087: val_accuracy did not improve from 0.65860\n",
      "\n",
      "Epoch 00087: ReduceLROnPlateau reducing learning rate to 0.0002500000118743628.\n",
      "Epoch 88/150\n",
      "4233/4233 [==============================] - 3s 754us/step - loss: 0.7119 - accuracy: 0.7551 - val_loss: 1.0153 - val_accuracy: 0.6582\n",
      "\n",
      "Epoch 00088: val_accuracy did not improve from 0.65860\n",
      "Epoch 89/150\n",
      "4233/4233 [==============================] - 3s 772us/step - loss: 0.6914 - accuracy: 0.7651 - val_loss: 1.0019 - val_accuracy: 0.6594\n",
      "\n",
      "Epoch 00089: val_accuracy improved from 0.65860 to 0.65945, saving model to .\\model\\pinyin_gabor_cnn1.h5\n",
      "Epoch 90/150\n",
      "4233/4233 [==============================] - 3s 750us/step - loss: 0.6848 - accuracy: 0.7688 - val_loss: 1.0008 - val_accuracy: 0.6624\n",
      "\n",
      "Epoch 00090: val_accuracy improved from 0.65945 to 0.66242, saving model to .\\model\\pinyin_gabor_cnn1.h5\n",
      "Epoch 91/150\n",
      "4233/4233 [==============================] - 3s 768us/step - loss: 0.6896 - accuracy: 0.7658 - val_loss: 1.0054 - val_accuracy: 0.6607\n",
      "\n",
      "Epoch 00091: val_accuracy did not improve from 0.66242\n",
      "Epoch 92/150\n",
      "4233/4233 [==============================] - 4s 833us/step - loss: 0.6835 - accuracy: 0.7659 - val_loss: 0.9994 - val_accuracy: 0.6624\n",
      "\n",
      "Epoch 00092: val_accuracy did not improve from 0.66242\n",
      "Epoch 93/150\n",
      "4233/4233 [==============================] - 4s 850us/step - loss: 0.6759 - accuracy: 0.7698 - val_loss: 1.0036 - val_accuracy: 0.6590\n",
      "\n",
      "Epoch 00093: val_accuracy did not improve from 0.66242\n",
      "\n",
      "Epoch 00093: ReduceLROnPlateau reducing learning rate to 0.0001250000059371814.\n",
      "Epoch 94/150\n",
      "4233/4233 [==============================] - 4s 842us/step - loss: 0.6687 - accuracy: 0.7731 - val_loss: 0.9983 - val_accuracy: 0.6603\n",
      "\n",
      "Epoch 00094: val_accuracy did not improve from 0.66242\n",
      "Epoch 95/150\n",
      "4233/4233 [==============================] - 3s 793us/step - loss: 0.6618 - accuracy: 0.7764 - val_loss: 0.9930 - val_accuracy: 0.6590\n",
      "\n",
      "Epoch 00095: val_accuracy did not improve from 0.66242\n",
      "Epoch 96/150\n",
      "4233/4233 [==============================] - 3s 769us/step - loss: 0.6551 - accuracy: 0.7794 - val_loss: 0.9972 - val_accuracy: 0.6616\n",
      "\n",
      "Epoch 00096: val_accuracy did not improve from 0.66242\n",
      "Epoch 97/150\n",
      "4233/4233 [==============================] - 3s 783us/step - loss: 0.6605 - accuracy: 0.7758 - val_loss: 0.9893 - val_accuracy: 0.6616\n",
      "\n",
      "Epoch 00097: val_accuracy did not improve from 0.66242\n",
      "Epoch 98/150\n",
      "4233/4233 [==============================] - 3s 781us/step - loss: 0.6573 - accuracy: 0.7760 - val_loss: 0.9897 - val_accuracy: 0.6611\n",
      "\n",
      "Epoch 00098: val_accuracy did not improve from 0.66242\n",
      "Epoch 99/150\n",
      "4233/4233 [==============================] - 3s 788us/step - loss: 0.6524 - accuracy: 0.7805 - val_loss: 0.9907 - val_accuracy: 0.6616\n",
      "\n",
      "Epoch 00099: val_accuracy did not improve from 0.66242\n",
      "Epoch 100/150\n",
      "4233/4233 [==============================] - 3s 772us/step - loss: 0.6546 - accuracy: 0.7791 - val_loss: 0.9935 - val_accuracy: 0.6616\n",
      "\n",
      "Epoch 00100: val_accuracy did not improve from 0.66242\n",
      "Epoch 101/150\n",
      "4233/4233 [==============================] - 3s 783us/step - loss: 0.6520 - accuracy: 0.7781 - val_loss: 0.9921 - val_accuracy: 0.6620\n",
      "\n",
      "Epoch 00101: val_accuracy did not improve from 0.66242\n",
      "Epoch 102/150\n",
      "4233/4233 [==============================] - 3s 787us/step - loss: 0.6442 - accuracy: 0.7828 - val_loss: 0.9919 - val_accuracy: 0.6624\n",
      "\n",
      "Epoch 00102: val_accuracy did not improve from 0.66242\n",
      "Epoch 103/150\n",
      "4233/4233 [==============================] - 3s 780us/step - loss: 0.6432 - accuracy: 0.7821 - val_loss: 0.9871 - val_accuracy: 0.6654\n",
      "\n",
      "Epoch 00103: val_accuracy improved from 0.66242 to 0.66539, saving model to .\\model\\pinyin_gabor_cnn1.h5\n",
      "Epoch 104/150\n",
      "4233/4233 [==============================] - 3s 770us/step - loss: 0.6467 - accuracy: 0.7801 - val_loss: 0.9927 - val_accuracy: 0.6645\n",
      "\n",
      "Epoch 00104: val_accuracy did not improve from 0.66539\n",
      "Epoch 105/150\n",
      "4233/4233 [==============================] - 3s 791us/step - loss: 0.6515 - accuracy: 0.7807 - val_loss: 1.0008 - val_accuracy: 0.6628\n",
      "\n",
      "Epoch 00105: val_accuracy did not improve from 0.66539\n",
      "Epoch 106/150\n"
     ]
    },
    {
     "name": "stdout",
     "output_type": "stream",
     "text": [
      "4233/4233 [==============================] - 3s 755us/step - loss: 0.6357 - accuracy: 0.7869 - val_loss: 0.9993 - val_accuracy: 0.6645\n",
      "\n",
      "Epoch 00106: val_accuracy did not improve from 0.66539\n",
      "Epoch 107/150\n",
      "4233/4233 [==============================] - 3s 781us/step - loss: 0.6407 - accuracy: 0.7822 - val_loss: 0.9985 - val_accuracy: 0.6675\n",
      "\n",
      "Epoch 00107: val_accuracy improved from 0.66539 to 0.66752, saving model to .\\model\\pinyin_gabor_cnn1.h5\n",
      "Epoch 108/150\n",
      "4233/4233 [==============================] - 3s 749us/step - loss: 0.6368 - accuracy: 0.7864 - val_loss: 0.9950 - val_accuracy: 0.6616\n",
      "\n",
      "Epoch 00108: val_accuracy did not improve from 0.66752\n",
      "Epoch 109/150\n",
      "4233/4233 [==============================] - 3s 797us/step - loss: 0.6382 - accuracy: 0.7849 - val_loss: 0.9979 - val_accuracy: 0.6607\n",
      "\n",
      "Epoch 00109: val_accuracy did not improve from 0.66752\n",
      "\n",
      "Epoch 00109: ReduceLROnPlateau reducing learning rate to 6.25000029685907e-05.\n",
      "Epoch 110/150\n",
      "4233/4233 [==============================] - 3s 826us/step - loss: 0.6304 - accuracy: 0.7888 - val_loss: 0.9961 - val_accuracy: 0.6645\n",
      "\n",
      "Epoch 00110: val_accuracy did not improve from 0.66752\n",
      "Epoch 111/150\n",
      "4233/4233 [==============================] - 3s 791us/step - loss: 0.6260 - accuracy: 0.7903 - val_loss: 0.9957 - val_accuracy: 0.6658\n",
      "\n",
      "Epoch 00111: val_accuracy did not improve from 0.66752\n",
      "Epoch 112/150\n",
      "4233/4233 [==============================] - 3s 772us/step - loss: 0.6251 - accuracy: 0.7916 - val_loss: 0.9985 - val_accuracy: 0.6654\n",
      "\n",
      "Epoch 00112: val_accuracy did not improve from 0.66752\n",
      "Epoch 113/150\n",
      "4233/4233 [==============================] - 3s 779us/step - loss: 0.6324 - accuracy: 0.7850 - val_loss: 0.9952 - val_accuracy: 0.6624\n",
      "\n",
      "Epoch 00113: val_accuracy did not improve from 0.66752\n",
      "Epoch 114/150\n",
      "4233/4233 [==============================] - 3s 792us/step - loss: 0.6462 - accuracy: 0.7798 - val_loss: 0.9945 - val_accuracy: 0.6641\n",
      "\n",
      "Epoch 00114: val_accuracy did not improve from 0.66752\n",
      "Epoch 115/150\n",
      "4233/4233 [==============================] - 3s 782us/step - loss: 0.6223 - accuracy: 0.7897 - val_loss: 0.9922 - val_accuracy: 0.6675\n",
      "\n",
      "Epoch 00115: val_accuracy did not improve from 0.66752\n",
      "\n",
      "Epoch 00115: ReduceLROnPlateau reducing learning rate to 3.125000148429535e-05.\n",
      "Epoch 116/150\n",
      "4233/4233 [==============================] - 3s 779us/step - loss: 0.6280 - accuracy: 0.7894 - val_loss: 0.9965 - val_accuracy: 0.6667\n",
      "\n",
      "Epoch 00116: val_accuracy did not improve from 0.66752\n",
      "Epoch 117/150\n",
      "4233/4233 [==============================] - 3s 766us/step - loss: 0.6200 - accuracy: 0.7922 - val_loss: 0.9982 - val_accuracy: 0.6645\n",
      "\n",
      "Epoch 00117: val_accuracy did not improve from 0.66752\n",
      "Epoch 118/150\n",
      "4233/4233 [==============================] - 3s 782us/step - loss: 0.6287 - accuracy: 0.7864 - val_loss: 1.0005 - val_accuracy: 0.6654\n",
      "\n",
      "Epoch 00118: val_accuracy did not improve from 0.66752\n",
      "Epoch 119/150\n",
      "4233/4233 [==============================] - 3s 822us/step - loss: 0.6236 - accuracy: 0.7922 - val_loss: 0.9981 - val_accuracy: 0.6633\n",
      "\n",
      "Epoch 00119: val_accuracy did not improve from 0.66752\n",
      "Epoch 120/150\n",
      "4233/4233 [==============================] - 3s 805us/step - loss: 0.6266 - accuracy: 0.7906 - val_loss: 0.9986 - val_accuracy: 0.6650\n",
      "\n",
      "Epoch 00120: val_accuracy did not improve from 0.66752\n",
      "Epoch 121/150\n",
      "4233/4233 [==============================] - 3s 787us/step - loss: 0.6267 - accuracy: 0.7908 - val_loss: 0.9985 - val_accuracy: 0.6637\n",
      "\n",
      "Epoch 00121: val_accuracy did not improve from 0.66752\n",
      "\n",
      "Epoch 00121: ReduceLROnPlateau reducing learning rate to 1.5625000742147677e-05.\n",
      "Epoch 122/150\n",
      "4233/4233 [==============================] - 3s 821us/step - loss: 0.6210 - accuracy: 0.7925 - val_loss: 0.9981 - val_accuracy: 0.6650\n",
      "\n",
      "Epoch 00122: val_accuracy did not improve from 0.66752\n",
      "Epoch 123/150\n",
      "4233/4233 [==============================] - 4s 840us/step - loss: 0.6192 - accuracy: 0.7914 - val_loss: 0.9984 - val_accuracy: 0.6637\n",
      "\n",
      "Epoch 00123: val_accuracy did not improve from 0.66752\n",
      "Epoch 124/150\n",
      "4233/4233 [==============================] - 3s 776us/step - loss: 0.6211 - accuracy: 0.7920 - val_loss: 0.9980 - val_accuracy: 0.6641\n",
      "\n",
      "Epoch 00124: val_accuracy did not improve from 0.66752\n",
      "Epoch 125/150\n",
      "4233/4233 [==============================] - 3s 818us/step - loss: 0.6220 - accuracy: 0.7910 - val_loss: 0.9976 - val_accuracy: 0.6641\n",
      "\n",
      "Epoch 00125: val_accuracy did not improve from 0.66752\n",
      "Epoch 126/150\n",
      "4233/4233 [==============================] - 4s 836us/step - loss: 0.6234 - accuracy: 0.7895 - val_loss: 0.9964 - val_accuracy: 0.6633\n",
      "\n",
      "Epoch 00126: val_accuracy did not improve from 0.66752\n",
      "Epoch 127/150\n",
      "4233/4233 [==============================] - 3s 824us/step - loss: 0.6207 - accuracy: 0.7921 - val_loss: 0.9965 - val_accuracy: 0.6641\n",
      "\n",
      "Epoch 00127: val_accuracy did not improve from 0.66752\n",
      "\n",
      "Epoch 00127: ReduceLROnPlateau reducing learning rate to 1e-05.\n",
      "Epoch 128/150\n",
      "4233/4233 [==============================] - 3s 802us/step - loss: 0.6208 - accuracy: 0.7923 - val_loss: 0.9971 - val_accuracy: 0.6628\n",
      "\n",
      "Epoch 00128: val_accuracy did not improve from 0.66752\n",
      "Epoch 129/150\n",
      "4233/4233 [==============================] - 3s 789us/step - loss: 0.6268 - accuracy: 0.7892 - val_loss: 0.9979 - val_accuracy: 0.6616\n",
      "\n",
      "Epoch 00129: val_accuracy did not improve from 0.66752\n",
      "Epoch 130/150\n",
      "4233/4233 [==============================] - 3s 791us/step - loss: 0.6230 - accuracy: 0.7910 - val_loss: 0.9974 - val_accuracy: 0.6628\n",
      "\n",
      "Epoch 00130: val_accuracy did not improve from 0.66752\n",
      "Epoch 131/150\n",
      "4233/4233 [==============================] - 3s 793us/step - loss: 0.6212 - accuracy: 0.7911 - val_loss: 0.9964 - val_accuracy: 0.6650\n",
      "\n",
      "Epoch 00131: val_accuracy did not improve from 0.66752\n",
      "Epoch 132/150\n",
      "4233/4233 [==============================] - 3s 796us/step - loss: 0.6153 - accuracy: 0.7950 - val_loss: 0.9971 - val_accuracy: 0.6633\n",
      "\n",
      "Epoch 00132: val_accuracy did not improve from 0.66752\n",
      "Epoch 133/150\n",
      "4233/4233 [==============================] - 3s 803us/step - loss: 0.6154 - accuracy: 0.7945 - val_loss: 0.9984 - val_accuracy: 0.6628\n",
      "\n",
      "Epoch 00133: val_accuracy did not improve from 0.66752\n",
      "Epoch 134/150\n",
      "4233/4233 [==============================] - 4s 844us/step - loss: 0.6234 - accuracy: 0.7903 - val_loss: 0.9995 - val_accuracy: 0.6620\n",
      "\n",
      "Epoch 00134: val_accuracy did not improve from 0.66752\n",
      "Epoch 135/150\n",
      "4233/4233 [==============================] - 4s 866us/step - loss: 0.6175 - accuracy: 0.7935 - val_loss: 0.9996 - val_accuracy: 0.6616\n",
      "\n",
      "Epoch 00135: val_accuracy did not improve from 0.66752\n",
      "Epoch 136/150\n",
      "4233/4233 [==============================] - 4s 903us/step - loss: 0.6282 - accuracy: 0.7880 - val_loss: 0.9987 - val_accuracy: 0.6611\n",
      "\n",
      "Epoch 00136: val_accuracy did not improve from 0.66752\n",
      "Epoch 137/150\n",
      "4233/4233 [==============================] - 4s 880us/step - loss: 0.6165 - accuracy: 0.7952 - val_loss: 0.9991 - val_accuracy: 0.6620\n",
      "\n",
      "Epoch 00137: val_accuracy did not improve from 0.66752\n",
      "Epoch 138/150\n",
      "4233/4233 [==============================] - 4s 847us/step - loss: 0.6192 - accuracy: 0.7922 - val_loss: 0.9974 - val_accuracy: 0.6650\n",
      "\n",
      "Epoch 00138: val_accuracy did not improve from 0.66752\n",
      "Epoch 139/150\n",
      "4233/4233 [==============================] - 3s 826us/step - loss: 0.6174 - accuracy: 0.7921 - val_loss: 0.9985 - val_accuracy: 0.6650\n",
      "\n",
      "Epoch 00139: val_accuracy did not improve from 0.66752\n",
      "Epoch 140/150\n",
      "4233/4233 [==============================] - 3s 807us/step - loss: 0.6384 - accuracy: 0.7840 - val_loss: 0.9973 - val_accuracy: 0.6645\n",
      "\n",
      "Epoch 00140: val_accuracy did not improve from 0.66752\n",
      "Epoch 141/150\n",
      "4233/4233 [==============================] - 3s 809us/step - loss: 0.6250 - accuracy: 0.7904 - val_loss: 0.9973 - val_accuracy: 0.6641\n",
      "\n",
      "Epoch 00141: val_accuracy did not improve from 0.66752\n",
      "Epoch 142/150\n",
      "4233/4233 [==============================] - 4s 837us/step - loss: 0.6209 - accuracy: 0.7928 - val_loss: 0.9974 - val_accuracy: 0.6658\n",
      "\n",
      "Epoch 00142: val_accuracy did not improve from 0.66752\n",
      "Epoch 143/150\n",
      "4233/4233 [==============================] - 4s 877us/step - loss: 0.6269 - accuracy: 0.7892 - val_loss: 0.9968 - val_accuracy: 0.6645\n",
      "\n",
      "Epoch 00143: val_accuracy did not improve from 0.66752\n",
      "Epoch 144/150\n"
     ]
    },
    {
     "name": "stdout",
     "output_type": "stream",
     "text": [
      "4233/4233 [==============================] - 4s 840us/step - loss: 0.6161 - accuracy: 0.7962 - val_loss: 0.9974 - val_accuracy: 0.6641\n",
      "\n",
      "Epoch 00144: val_accuracy did not improve from 0.66752\n",
      "Epoch 145/150\n",
      "4233/4233 [==============================] - 3s 792us/step - loss: 0.6240 - accuracy: 0.7905 - val_loss: 0.9971 - val_accuracy: 0.6658\n",
      "\n",
      "Epoch 00145: val_accuracy did not improve from 0.66752\n",
      "Epoch 146/150\n",
      "4233/4233 [==============================] - 3s 798us/step - loss: 0.6276 - accuracy: 0.7886 - val_loss: 0.9973 - val_accuracy: 0.6645\n",
      "\n",
      "Epoch 00146: val_accuracy did not improve from 0.66752\n",
      "Epoch 147/150\n",
      "4233/4233 [==============================] - 3s 827us/step - loss: 0.6235 - accuracy: 0.7922 - val_loss: 0.9981 - val_accuracy: 0.6633\n",
      "\n",
      "Epoch 00147: val_accuracy did not improve from 0.66752\n",
      "Epoch 148/150\n",
      "4233/4233 [==============================] - 3s 801us/step - loss: 0.6228 - accuracy: 0.7926 - val_loss: 0.9974 - val_accuracy: 0.6628\n",
      "\n",
      "Epoch 00148: val_accuracy did not improve from 0.66752\n",
      "Epoch 149/150\n",
      "4233/4233 [==============================] - 3s 793us/step - loss: 0.6206 - accuracy: 0.7928 - val_loss: 0.9973 - val_accuracy: 0.6633\n",
      "\n",
      "Epoch 00149: val_accuracy did not improve from 0.66752\n",
      "Epoch 150/150\n",
      "4233/4233 [==============================] - 4s 832us/step - loss: 0.6259 - accuracy: 0.7894 - val_loss: 0.9971 - val_accuracy: 0.6641\n",
      "\n",
      "Epoch 00150: val_accuracy did not improve from 0.66752\n",
      "time= 517.6217732429504\n"
     ]
    }
   ],
   "source": [
    "a=time.time()\n",
    "model.compile(optimizer='adam',loss='categorical_crossentropy',metrics=['accuracy'])\n",
    "lr_reduce=kcallbacks.ReduceLROnPlateau(monitor='val_loss',factor=0.5,patience=6,verbose=1,min_lr=0.00001)\n",
    "save_model=kcallbacks.ModelCheckpoint(filepath=MODEL_SAVE_PATH,monitor='val_accuracy',verbose=1,save_best_only=True)\n",
    "callback_list=[save_model,lr_reduce]\n",
    "history=model.fit(x=X_train,y=y_train,batch_size=BATCH_SIZE,epochs=EPOCHS,validation_data=(X_test,y_test),\n",
    "                  callbacks=callback_list)\n",
    "b=time.time()\n",
    "print(\"time=\",b-a)"
   ]
  },
  {
   "cell_type": "markdown",
   "metadata": {},
   "source": [
    "## plot_curve"
   ]
  },
  {
   "cell_type": "code",
   "execution_count": 22,
   "metadata": {},
   "outputs": [],
   "source": [
    "from help import plot_curve,plot_curve_with_smooth"
   ]
  },
  {
   "cell_type": "code",
   "execution_count": 23,
   "metadata": {},
   "outputs": [
    {
     "data": {
      "image/png": "[encoded data removed]",
      "text/plain": [
       "<Figure size 1080x360 with 2 Axes>"
      ]
     },
     "metadata": {},
     "output_type": "display_data"
    }
   ],
   "source": [
    "plot_curve(history)"
   ]
  },
  {
   "cell_type": "code",
   "execution_count": 24,
   "metadata": {},
   "outputs": [
    {
     "data": {
      "image/png": "[encoded data removed]",
      "text/plain": [
       "<Figure size 1080x360 with 2 Axes>"
      ]
     },
     "metadata": {},
     "output_type": "display_data"
    }
   ],
   "source": [
    "plot_curve_with_smooth(history)"
   ]
  },
  {
   "cell_type": "markdown",
   "metadata": {},
   "source": [
    "## confusion_metrix"
   ]
  },
  {
   "cell_type": "code",
   "execution_count": 26,
   "metadata": {},
   "outputs": [
    {
     "ename": "AttributeError",
     "evalue": "'str' object has no attribute 'decode'",
     "output_type": "error",
     "traceback": [
      "\u001b[0;31m---------------------------------------------------------------------------\u001b[0m",
      "\u001b[0;31mAttributeError\u001b[0m                            Traceback (most recent call last)",
      "\u001b[0;32m<ipython-input-26-80227b773a5d>\u001b[0m in \u001b[0;36m<module>\u001b[0;34m\u001b[0m\n\u001b[0;32m----> 1\u001b[0;31m \u001b[0mmodel\u001b[0m\u001b[0;34m.\u001b[0m\u001b[0mload_weights\u001b[0m\u001b[0;34m(\u001b[0m\u001b[0;34m'/Users/lexie/Downloads/WordRecognition/model/pinyin_gabor_cnn1.h5'\u001b[0m\u001b[0;34m)\u001b[0m\u001b[0;34m\u001b[0m\u001b[0;34m\u001b[0m\u001b[0m\n\u001b[0m",
      "\u001b[0;32m/opt/anaconda3/envs/py37/lib/python3.7/site-packages/keras/engine/saving.py\u001b[0m in \u001b[0;36mload_wrapper\u001b[0;34m(*args, **kwargs)\u001b[0m\n\u001b[1;32m    490\u001b[0m                 \u001b[0mos\u001b[0m\u001b[0;34m.\u001b[0m\u001b[0mremove\u001b[0m\u001b[0;34m(\u001b[0m\u001b[0mtmp_filepath\u001b[0m\u001b[0;34m)\u001b[0m\u001b[0;34m\u001b[0m\u001b[0;34m\u001b[0m\u001b[0m\n\u001b[1;32m    491\u001b[0m             \u001b[0;32mreturn\u001b[0m \u001b[0mres\u001b[0m\u001b[0;34m\u001b[0m\u001b[0;34m\u001b[0m\u001b[0m\n\u001b[0;32m--> 492\u001b[0;31m         \u001b[0;32mreturn\u001b[0m \u001b[0mload_function\u001b[0m\u001b[0;34m(\u001b[0m\u001b[0;34m*\u001b[0m\u001b[0margs\u001b[0m\u001b[0;34m,\u001b[0m \u001b[0;34m**\u001b[0m\u001b[0mkwargs\u001b[0m\u001b[0;34m)\u001b[0m\u001b[0;34m\u001b[0m\u001b[0;34m\u001b[0m\u001b[0m\n\u001b[0m\u001b[1;32m    493\u001b[0m \u001b[0;34m\u001b[0m\u001b[0m\n\u001b[1;32m    494\u001b[0m     \u001b[0;32mreturn\u001b[0m \u001b[0mload_wrapper\u001b[0m\u001b[0;34m\u001b[0m\u001b[0;34m\u001b[0m\u001b[0m\n",
      "\u001b[0;32m/opt/anaconda3/envs/py37/lib/python3.7/site-packages/keras/engine/network.py\u001b[0m in \u001b[0;36mload_weights\u001b[0;34m(self, filepath, by_name, skip_mismatch, reshape)\u001b[0m\n\u001b[1;32m   1228\u001b[0m             \u001b[0;32melse\u001b[0m\u001b[0;34m:\u001b[0m\u001b[0;34m\u001b[0m\u001b[0;34m\u001b[0m\u001b[0m\n\u001b[1;32m   1229\u001b[0m                 saving.load_weights_from_hdf5_group(\n\u001b[0;32m-> 1230\u001b[0;31m                     f, self.layers, reshape=reshape)\n\u001b[0m\u001b[1;32m   1231\u001b[0m             \u001b[0;32mif\u001b[0m \u001b[0mhasattr\u001b[0m\u001b[0;34m(\u001b[0m\u001b[0mf\u001b[0m\u001b[0;34m,\u001b[0m \u001b[0;34m'close'\u001b[0m\u001b[0;34m)\u001b[0m\u001b[0;34m:\u001b[0m\u001b[0;34m\u001b[0m\u001b[0;34m\u001b[0m\u001b[0m\n\u001b[1;32m   1232\u001b[0m                 \u001b[0mf\u001b[0m\u001b[0;34m.\u001b[0m\u001b[0mclose\u001b[0m\u001b[0;34m(\u001b[0m\u001b[0;34m)\u001b[0m\u001b[0;34m\u001b[0m\u001b[0;34m\u001b[0m\u001b[0m\n",
      "\u001b[0;32m/opt/anaconda3/envs/py37/lib/python3.7/site-packages/keras/engine/saving.py\u001b[0m in \u001b[0;36mload_weights_from_hdf5_group\u001b[0;34m(f, layers, reshape)\u001b[0m\n\u001b[1;32m   1181\u001b[0m     \"\"\"\n\u001b[1;32m   1182\u001b[0m     \u001b[0;32mif\u001b[0m \u001b[0;34m'keras_version'\u001b[0m \u001b[0;32min\u001b[0m \u001b[0mf\u001b[0m\u001b[0;34m.\u001b[0m\u001b[0mattrs\u001b[0m\u001b[0;34m:\u001b[0m\u001b[0;34m\u001b[0m\u001b[0;34m\u001b[0m\u001b[0m\n\u001b[0;32m-> 1183\u001b[0;31m         \u001b[0moriginal_keras_version\u001b[0m \u001b[0;34m=\u001b[0m \u001b[0mf\u001b[0m\u001b[0;34m.\u001b[0m\u001b[0mattrs\u001b[0m\u001b[0;34m[\u001b[0m\u001b[0;34m'keras_version'\u001b[0m\u001b[0;34m]\u001b[0m\u001b[0;34m.\u001b[0m\u001b[0mdecode\u001b[0m\u001b[0;34m(\u001b[0m\u001b[0;34m'utf8'\u001b[0m\u001b[0;34m)\u001b[0m\u001b[0;34m\u001b[0m\u001b[0;34m\u001b[0m\u001b[0m\n\u001b[0m\u001b[1;32m   1184\u001b[0m     \u001b[0;32melse\u001b[0m\u001b[0;34m:\u001b[0m\u001b[0;34m\u001b[0m\u001b[0;34m\u001b[0m\u001b[0m\n\u001b[1;32m   1185\u001b[0m         \u001b[0moriginal_keras_version\u001b[0m \u001b[0;34m=\u001b[0m \u001b[0;34m'1'\u001b[0m\u001b[0;34m\u001b[0m\u001b[0;34m\u001b[0m\u001b[0m\n",
      "\u001b[0;31mAttributeError\u001b[0m: 'str' object has no attribute 'decode'"
     ]
    }
   ],
   "source": [
    "model.load_weights('/Users/lexie/Downloads/WordRecognition/model/pinyin_gabor_cnn1.h5')"
   ]
  },
  {
   "cell_type": "code",
   "execution_count": 27,
   "metadata": {},
   "outputs": [
    {
     "data": {
      "text/plain": [
       "<AxesSubplot:>"
      ]
     },
     "execution_count": 27,
     "metadata": {},
     "output_type": "execute_result"
    },
    {
     "data": {
      "image/png": "[encoded data removed]",
      "text/plain": [
       "<Figure size 720x504 with 2 Axes>"
      ]
     },
     "metadata": {
      "needs_background": "light"
     },
     "output_type": "display_data"
    }
   ],
   "source": [
    "from sklearn.metrics import confusion_matrix\n",
    "import matplotlib.pyplot as plt\n",
    "%matplotlib inline\n",
    "y_pred=model.predict(X_test)\n",
    "y_pred=np.argmax(y_pred,axis=-1).ravel()\n",
    "y_true=np.argmax(y_test,axis=-1).ravel()\n",
    "con_matrix=confusion_matrix(y_true=y_true,y_pred=y_pred)\n",
    "target_names=[alphabet_set[i] for i in range(1,27)]\n",
    "con_matrix=con_matrix[1:,1:]\n",
    "# print(con_matrix)\n",
    "import seaborn as sn\n",
    "\n",
    "df_cm = pd.DataFrame(con_matrix,\n",
    "                     index = [i for i in list(target_names)],\n",
    "                     columns = [i for i in list(target_names)])\n",
    "plt.figure(figsize = (10,7))\n",
    "sn.heatmap(df_cm, annot=True, fmt='.20g',cmap=\"BuPu\")\n",
    "# def plot_confusion_matrix(confusion_mat):\n",
    "#     plt.figure(figsize=(12,8))\n",
    "#     plt.imshow(confusion_mat)\n",
    "#     plt.title('Confusion Matrix')\n",
    "#     plt.colorbar()\n",
    "#     labels = list(range(0,27))\n",
    "#     tick_marks = np.arange(len(labels))\n",
    "#     plt.xticks(tick_marks, labels)\n",
    "#     plt.yticks(tick_marks, labels)\n",
    "#     plt.ylabel('True Label')\n",
    "#     plt.xlabel('Predicted Label')\n",
    "#     plt.grid(False)\n",
    "#     plt.show() \n",
    "# plot_confusion_matrix(con_matrix)"
   ]
  },
  {
   "cell_type": "markdown",
   "metadata": {},
   "source": [
    "## classfication_report"
   ]
  },
  {
   "cell_type": "code",
   "execution_count": 41,
   "metadata": {},
   "outputs": [],
   "source": [
    "from sklearn.metrics import classification_report\n"
   ]
  },
  {
   "cell_type": "code",
   "execution_count": 42,
   "metadata": {
    "scrolled": true
   },
   "outputs": [
    {
     "name": "stdout",
     "output_type": "stream",
     "text": [
      "              precision    recall  f1-score   support\n",
      "\n",
      "           0     0.8323    0.9406    0.8832       876\n",
      "           a     0.6615    0.7175    0.6883       177\n",
      "           b     0.5143    0.6429    0.5714        28\n",
      "           c     0.3636    0.2963    0.3265        27\n",
      "           d     0.2941    0.2174    0.2500        23\n",
      "           e     0.5455    0.3000    0.3871        60\n",
      "           f     0.0000    0.0000    0.0000         5\n",
      "           g     0.5672    0.3016    0.3938       126\n",
      "           h     0.5269    0.4623    0.4925       106\n",
      "           i     0.6477    0.6944    0.6702       180\n",
      "           j     0.3750    0.0938    0.1500        32\n",
      "           k     0.4000    0.2500    0.3077         8\n",
      "           l     0.3158    0.4444    0.3692        27\n",
      "           m     0.3750    0.4286    0.4000        21\n",
      "           n     0.5580    0.4162    0.4768       185\n",
      "           o     0.6585    0.6067    0.6316        89\n",
      "           p     0.0000    0.0000    0.0000        11\n",
      "           q     0.1739    0.2222    0.1951        18\n",
      "           r     0.5000    0.3333    0.4000        12\n",
      "           s     0.3256    0.2692    0.2947        52\n",
      "           t     0.0000    0.0000    0.0000        14\n",
      "           u     0.6627    0.7237    0.6918       152\n",
      "           v     0.0000    0.0000    0.0000        11\n",
      "           w     0.3077    0.4444    0.3636        18\n",
      "           x     0.1250    0.2083    0.1562        24\n",
      "           y     0.3038    0.5217    0.3840        46\n",
      "           z     0.0952    0.0741    0.0833        27\n",
      "\n",
      "   micro avg     0.6539    0.6539    0.6539      2355\n",
      "   macro avg     0.3752    0.3559    0.3543      2355\n",
      "weighted avg     0.6366    0.6539    0.6373      2355\n",
      "\n"
     ]
    },
    {
     "name": "stderr",
     "output_type": "stream",
     "text": [
      "C:\\ProgramData\\Anaconda3\\lib\\site-packages\\sklearn\\metrics\\classification.py:1143: UndefinedMetricWarning: Precision and F-score are ill-defined and being set to 0.0 in labels with no predicted samples.\n",
      "  'precision', 'predicted', average, warn_for)\n",
      "C:\\ProgramData\\Anaconda3\\lib\\site-packages\\sklearn\\metrics\\classification.py:1143: UndefinedMetricWarning: Precision and F-score are ill-defined and being set to 0.0 in labels with no predicted samples.\n",
      "  'precision', 'predicted', average, warn_for)\n",
      "C:\\ProgramData\\Anaconda3\\lib\\site-packages\\sklearn\\metrics\\classification.py:1143: UndefinedMetricWarning: Precision and F-score are ill-defined and being set to 0.0 in labels with no predicted samples.\n",
      "  'precision', 'predicted', average, warn_for)\n"
     ]
    }
   ],
   "source": [
    "target_names=[alphabet_set[i] for i in range(27)]\n",
    "print(classification_report(y_true,y_pred,digits=4,labels=list(range(27)),target_names=target_names))"
   ]
  },
  {
   "cell_type": "markdown",
   "metadata": {},
   "source": [
    "# predict test"
   ]
  },
  {
   "cell_type": "code",
   "execution_count": 28,
   "metadata": {},
   "outputs": [
    {
     "name": "stdout",
     "output_type": "stream",
     "text": [
      "(1, 35, 7)\n",
      "Predict Label:lii\n"
     ]
    }
   ],
   "source": [
    "\n",
    "temp = np.load('che1.npy')\n",
    "m,n = temp.shape\n",
    "            #print(m)\n",
    "if m <=35:\n",
    "    left = 36 - m\n",
    "    temp =np.append(temp,(np.zeros([left,n])),axis=0)\n",
    "test =[]\n",
    "test.append(temp[:35,])\n",
    "test = np.array(test)\n",
    "print(test.shape)\n",
    "pred=model.predict(test)\n",
    "\n",
    "pred=np.argmax(pred,axis=-1)[0]\n",
    "text=[alphabet_set[i] for i in pred]\n",
    "text=[i for i in text if i!='0']\n",
    "text=''.join(text)\n",
    "print('Predict Label:%s'%(text))"
   ]
  },
  {
   "cell_type": "code",
   "execution_count": 29,
   "metadata": {},
   "outputs": [
    {
     "ename": "FileNotFoundError",
     "evalue": "[Errno 2] No such file or directory: './gabor/person1_time1_group1_ba_1.npy'",
     "output_type": "error",
     "traceback": [
      "\u001b[0;31m---------------------------------------------------------------------------\u001b[0m",
      "\u001b[0;31mFileNotFoundError\u001b[0m                         Traceback (most recent call last)",
      "\u001b[0;32m<ipython-input-29-656762570c4e>\u001b[0m in \u001b[0;36m<module>\u001b[0;34m\u001b[0m\n\u001b[0;32m----> 1\u001b[0;31m \u001b[0mtemp\u001b[0m \u001b[0;34m=\u001b[0m \u001b[0mnp\u001b[0m\u001b[0;34m.\u001b[0m\u001b[0mload\u001b[0m\u001b[0;34m(\u001b[0m\u001b[0;34m'./gabor/person1_time1_group1_ba_1.npy'\u001b[0m\u001b[0;34m)\u001b[0m\u001b[0;34m\u001b[0m\u001b[0;34m\u001b[0m\u001b[0m\n\u001b[0m\u001b[1;32m      2\u001b[0m \u001b[0mm\u001b[0m\u001b[0;34m,\u001b[0m\u001b[0mn\u001b[0m \u001b[0;34m=\u001b[0m \u001b[0mtemp\u001b[0m\u001b[0;34m.\u001b[0m\u001b[0mshape\u001b[0m\u001b[0;34m\u001b[0m\u001b[0;34m\u001b[0m\u001b[0m\n\u001b[1;32m      3\u001b[0m             \u001b[0;31m#print(m)\u001b[0m\u001b[0;34m\u001b[0m\u001b[0;34m\u001b[0m\u001b[0;34m\u001b[0m\u001b[0m\n\u001b[1;32m      4\u001b[0m \u001b[0;32mif\u001b[0m \u001b[0mm\u001b[0m \u001b[0;34m<=\u001b[0m\u001b[0;36m35\u001b[0m\u001b[0;34m:\u001b[0m\u001b[0;34m\u001b[0m\u001b[0;34m\u001b[0m\u001b[0m\n\u001b[1;32m      5\u001b[0m     \u001b[0mleft\u001b[0m \u001b[0;34m=\u001b[0m \u001b[0;36m36\u001b[0m \u001b[0;34m-\u001b[0m \u001b[0mm\u001b[0m\u001b[0;34m\u001b[0m\u001b[0;34m\u001b[0m\u001b[0m\n",
      "\u001b[0;32m/opt/anaconda3/envs/py37/lib/python3.7/site-packages/numpy/lib/npyio.py\u001b[0m in \u001b[0;36mload\u001b[0;34m(file, mmap_mode, allow_pickle, fix_imports, encoding)\u001b[0m\n\u001b[1;32m    414\u001b[0m             \u001b[0mown_fid\u001b[0m \u001b[0;34m=\u001b[0m \u001b[0;32mFalse\u001b[0m\u001b[0;34m\u001b[0m\u001b[0;34m\u001b[0m\u001b[0m\n\u001b[1;32m    415\u001b[0m         \u001b[0;32melse\u001b[0m\u001b[0;34m:\u001b[0m\u001b[0;34m\u001b[0m\u001b[0;34m\u001b[0m\u001b[0m\n\u001b[0;32m--> 416\u001b[0;31m             \u001b[0mfid\u001b[0m \u001b[0;34m=\u001b[0m \u001b[0mstack\u001b[0m\u001b[0;34m.\u001b[0m\u001b[0menter_context\u001b[0m\u001b[0;34m(\u001b[0m\u001b[0mopen\u001b[0m\u001b[0;34m(\u001b[0m\u001b[0mos_fspath\u001b[0m\u001b[0;34m(\u001b[0m\u001b[0mfile\u001b[0m\u001b[0;34m)\u001b[0m\u001b[0;34m,\u001b[0m \u001b[0;34m\"rb\"\u001b[0m\u001b[0;34m)\u001b[0m\u001b[0;34m)\u001b[0m\u001b[0;34m\u001b[0m\u001b[0;34m\u001b[0m\u001b[0m\n\u001b[0m\u001b[1;32m    417\u001b[0m             \u001b[0mown_fid\u001b[0m \u001b[0;34m=\u001b[0m \u001b[0;32mTrue\u001b[0m\u001b[0;34m\u001b[0m\u001b[0;34m\u001b[0m\u001b[0m\n\u001b[1;32m    418\u001b[0m \u001b[0;34m\u001b[0m\u001b[0m\n",
      "\u001b[0;31mFileNotFoundError\u001b[0m: [Errno 2] No such file or directory: './gabor/person1_time1_group1_ba_1.npy'"
     ]
    }
   ],
   "source": [
    "\n",
    "temp = np.load('./gabor/person1_time1_group1_ba_1.npy')\n",
    "m,n = temp.shape\n",
    "            #print(m)\n",
    "if m <=35:\n",
    "    left = 36 - m\n",
    "    temp =np.append(temp,(np.zeros([left,n])),axis=0)\n",
    "test =[]\n",
    "test.append(temp[:35,])\n",
    "test = np.array(test)\n",
    "print(test.shape)\n",
    "pred=model.predict(test)\n",
    "\n",
    "pred=np.argmax(pred,axis=-1)[0]\n",
    "text=[alphabet_set[i] for i in pred]\n",
    "text=[i for i in text if i!='0']\n",
    "text=''.join(text)\n",
    "print('Predict Label:%s'%(text))"
   ]
  },
  {
   "cell_type": "code",
   "execution_count": 86,
   "metadata": {},
   "outputs": [
    {
     "name": "stdout",
     "output_type": "stream",
     "text": [
      "(1, 35, 7)\n",
      "Predict Label:maa\n"
     ]
    }
   ],
   "source": [
    "\n",
    "temp = np.load('./gabor/person2_time1_group1_da_4.npy')\n",
    "m,n = temp.shape\n",
    "            #print(m)\n",
    "if m <=35:\n",
    "    left = 36 - m\n",
    "    temp =np.append(temp,(np.zeros([left,n])),axis=0)\n",
    "test =[]\n",
    "test.append(temp[:35,])\n",
    "test = np.array(test)\n",
    "print(test.shape)\n",
    "pred=model.predict(test)\n",
    "\n",
    "pred=np.argmax(pred,axis=-1)[0]\n",
    "text=[alphabet_set[i] for i in pred]\n",
    "text=[i for i in text if i!='0']\n",
    "text=''.join(text)\n",
    "print('Predict Label:%s'%(text))"
   ]
  },
  {
   "cell_type": "code",
   "execution_count": null,
   "metadata": {
    "collapsed": true,
    "jupyter": {
     "outputs_hidden": true
    }
   },
   "outputs": [],
   "source": []
  }
 ],
 "metadata": {
  "kernelspec": {
   "display_name": "Python 3",
   "language": "python",
   "name": "python3"
  },
  "language_info": {
   "codemirror_mode": {
    "name": "ipython",
    "version": 3
   },
   "file_extension": ".py",
   "mimetype": "text/x-python",
   "name": "python",
   "nbconvert_exporter": "python",
   "pygments_lexer": "ipython3",
   "version": "3.7.7"
  },
  "toc": {
   "base_numbering": 1,
   "nav_menu": {},
   "number_sections": true,
   "sideBar": true,
   "skip_h1_title": false,
   "title_cell": "Table of Contents",
   "title_sidebar": "Contents",
   "toc_cell": false,
   "toc_position": {
    "height": "calc(100% - 180px)",
    "left": "10px",
    "top": "150px",
    "width": "250px"
   },
   "toc_section_display": true,
   "toc_window_display": true
  }
 },
 "nbformat": 4,
 "nbformat_minor": 4
}
