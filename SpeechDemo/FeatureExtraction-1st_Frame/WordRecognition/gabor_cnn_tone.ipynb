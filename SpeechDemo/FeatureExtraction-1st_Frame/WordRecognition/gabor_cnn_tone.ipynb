{
 "cells": [
  {
   "cell_type": "markdown",
   "metadata": {},
   "source": [
    "# import modules"
   ]
  },
  {
   "cell_type": "code",
   "execution_count": 1,
   "metadata": {},
   "outputs": [],
   "source": [
    "import keras\n",
    "from keras.utils import plot_model,to_categorical\n",
    "from keras import Model,Input,regularizers\n",
    "from keras.layers import Reshape,Flatten\n",
    "import numpy as np\n",
    "from sklearn.model_selection import train_test_split\n",
    "import keras.backend as K\n",
    "import keras.callbacks as kcallbacks\n",
    "from sklearn.preprocessing import LabelEncoder\n",
    "import string\n",
    "from keras.optimizers import SGD\n",
    "import warnings\n",
    "import tensorflow as tf\n",
    "# from lsuv_init import LSUVinit\n",
    "warnings.filterwarnings('ignore')\n",
    "from tensorflow.keras import layers\n",
    "from keras.layers import Input, Dense, LSTM, merge ,Conv1D,Dropout,Bidirectional,Multiply,BatchNormalization,MaxPool1D\n",
    "from keras.models import Model\n",
    "import time\n",
    "\n",
    "from attention_utils import get_activations\n",
    "from keras.layers import merge\n",
    "from keras.layers.core import *\n",
    "from keras.layers.recurrent import LSTM\n",
    "from keras.models import *\n",
    "\n",
    "import  pandas as pd\n",
    "import  numpy as np\n",
    "from keras.wrappers import scikit_learn"
   ]
  },
  {
   "cell_type": "markdown",
   "metadata": {},
   "source": [
    "# Load Features"
   ]
  },
  {
   "cell_type": "code",
   "execution_count": 2,
   "metadata": {},
   "outputs": [],
   "source": [
    "\n",
    "SINGLE_ATTENTION_VECTOR = False\n",
    "def attention_3d_block(inputs, single_attention_vector=False):\n",
    "    # 如果上一层是LSTM，需要return_sequences=True\n",
    "    # inputs.shape = (batch_size, time_steps, input_dim)\n",
    "    time_steps = K.int_shape(inputs)[1]\n",
    "    input_dim = K.int_shape(inputs)[2]\n",
    "    a = Permute((2, 1))(inputs)\n",
    "    a = Dense(time_steps, activation='softmax', name='attention')(a)\n",
    "    if single_attention_vector:\n",
    "        a = Lambda(lambda x: K.mean(x, axis=1))(a)\n",
    "        a = RepeatVector(input_dim)(a)\n",
    "\n",
    "    a_probs = Permute((2, 1))(a)\n",
    "    # 乘上了attention权重，但是并没有求和，好像影响不大\n",
    "    # 如果分类任务，进行Flatten展开就可以了\n",
    "    # element-wise\n",
    "    output_attention_mul = Multiply()([inputs, a_probs])\n",
    "    return output_attention_mul\n"
   ]
  },
  {
   "cell_type": "code",
   "execution_count": 3,
   "metadata": {},
   "outputs": [],
   "source": [
    "X_features=np.load('X_gabor.npy')\n",
    "y=np.load('y_tone.npy')"
   ]
  },
  {
   "cell_type": "code",
   "execution_count": 4,
   "metadata": {},
   "outputs": [
    {
     "data": {
      "text/plain": [
       "(4704, 35, 7)"
      ]
     },
     "execution_count": 4,
     "metadata": {},
     "output_type": "execute_result"
    }
   ],
   "source": [
    "X_features.shape"
   ]
  },
  {
   "cell_type": "code",
   "execution_count": 5,
   "metadata": {},
   "outputs": [],
   "source": [
    "means = np.mean(X_features, axis=0)\n",
    "X_features -= means\n",
    "stds = np.std(X_features, axis=0)\n",
    "X_features /= stds"
   ]
  },
  {
   "cell_type": "code",
   "execution_count": 6,
   "metadata": {},
   "outputs": [],
   "source": [
    "# means = np.mean(X_features, axis=0)\n"
   ]
  },
  {
   "cell_type": "markdown",
   "metadata": {},
   "source": [
    "## Encode label"
   ]
  },
  {
   "cell_type": "code",
   "execution_count": 7,
   "metadata": {},
   "outputs": [],
   "source": [
    "le=LabelEncoder()\n",
    "y=le.fit_transform(y)"
   ]
  },
  {
   "cell_type": "code",
   "execution_count": 8,
   "metadata": {},
   "outputs": [
    {
     "name": "stdout",
     "output_type": "stream",
     "text": [
      "[0 3 3 ... 2 2 2]\n"
     ]
    }
   ],
   "source": [
    "print(y)"
   ]
  },
  {
   "cell_type": "code",
   "execution_count": 9,
   "metadata": {},
   "outputs": [
    {
     "name": "stdout",
     "output_type": "stream",
     "text": [
      "['1' '2' '3' '4']\n"
     ]
    }
   ],
   "source": [
    "CLASSES_LIST=le.classes_\n",
    "print(CLASSES_LIST)"
   ]
  },
  {
   "cell_type": "markdown",
   "metadata": {},
   "source": [
    "## One-hot Encoding"
   ]
  },
  {
   "cell_type": "code",
   "execution_count": 10,
   "metadata": {},
   "outputs": [],
   "source": [
    "y=to_categorical(y,num_classes=4)"
   ]
  },
  {
   "cell_type": "code",
   "execution_count": 11,
   "metadata": {},
   "outputs": [
    {
     "data": {
      "text/plain": [
       "(4704, 4)"
      ]
     },
     "execution_count": 11,
     "metadata": {},
     "output_type": "execute_result"
    }
   ],
   "source": [
    "y.shape"
   ]
  },
  {
   "cell_type": "code",
   "execution_count": 12,
   "metadata": {},
   "outputs": [
    {
     "name": "stdout",
     "output_type": "stream",
     "text": [
      "[[1. 0. 0. 0.]\n",
      " [0. 0. 0. 1.]\n",
      " [0. 0. 0. 1.]\n",
      " ...\n",
      " [0. 0. 1. 0.]\n",
      " [0. 0. 1. 0.]\n",
      " [0. 0. 1. 0.]]\n"
     ]
    }
   ],
   "source": [
    "print(y)"
   ]
  },
  {
   "cell_type": "code",
   "execution_count": 13,
   "metadata": {},
   "outputs": [],
   "source": [
    "# y=y.reshape(4704,1,4)"
   ]
  },
  {
   "cell_type": "code",
   "execution_count": 14,
   "metadata": {},
   "outputs": [
    {
     "data": {
      "text/plain": [
       "(4704, 4)"
      ]
     },
     "execution_count": 14,
     "metadata": {},
     "output_type": "execute_result"
    }
   ],
   "source": [
    "y.shape"
   ]
  },
  {
   "cell_type": "markdown",
   "metadata": {},
   "source": [
    "## split train and test"
   ]
  },
  {
   "cell_type": "code",
   "execution_count": 15,
   "metadata": {},
   "outputs": [],
   "source": [
    "np.random.seed(116)\n",
    "np.random.shuffle(X_features)\n",
    "np.random.seed(116)\n",
    "np.random.shuffle(y)\n",
    "tf.random.set_seed(116)"
   ]
  },
  {
   "cell_type": "code",
   "execution_count": 16,
   "metadata": {},
   "outputs": [],
   "source": [
    "X_train, X_test, y_train, y_test=train_test_split(X_features,y,test_size=0.2,random_state=2019)"
   ]
  },
  {
   "cell_type": "code",
   "execution_count": 17,
   "metadata": {},
   "outputs": [
    {
     "data": {
      "text/plain": [
       "((3763, 35, 7), (941, 35, 7))"
      ]
     },
     "execution_count": 17,
     "metadata": {},
     "output_type": "execute_result"
    }
   ],
   "source": [
    "X_train.shape,X_test.shape"
   ]
  },
  {
   "cell_type": "markdown",
   "metadata": {},
   "source": [
    "# Models\n"
   ]
  },
  {
   "cell_type": "code",
   "execution_count": 38,
   "metadata": {},
   "outputs": [],
   "source": [
    "NUM_CLASSES=4\n",
    "BATCH_SIZE=32\n",
    "EPOCHS=100\n",
    "MODEL_SAVE_PATH='.\\model\\gabor_tone_cnn1.h5'"
   ]
  },
  {
   "cell_type": "code",
   "execution_count": 39,
   "metadata": {},
   "outputs": [],
   "source": [
    "# layers.Dense(1, activation=\"sigmoid\")"
   ]
  },
  {
   "cell_type": "code",
   "execution_count": 40,
   "metadata": {},
   "outputs": [],
   "source": [
    "def attention_model():\n",
    "    inputs = Input(shape=(35, 7))\n",
    "    #x=BatchNormalization()(inputs)\n",
    "    x = Conv1D(filters = 64, kernel_size = 1, padding=\"same\",kernel_initializer='he_normal',\n",
    "                bias_initializer='zeros',activation = 'relu')(inputs)  #, padding = 'same'\n",
    "    x = MaxPool1D()(x)\n",
    "    #lstm_out = Bidirectional(LSTM(lstm_units, activation='relu'), name='bilstm')(x)\n",
    "    #对于GPU可以使用CuDNNLSTM\n",
    "    lstm_out = Bidirectional(LSTM(128, return_sequences=True,dropout=0.4))(x)\n",
    "    lstm_out = Dropout(0.3)(lstm_out)\n",
    "    attention_mul = attention_3d_block(lstm_out)\n",
    "    attention_mul = Flatten()(attention_mul)\n",
    "    output = Dense(4, activation='sigmoid')(attention_mul)\n",
    "    model = Model(inputs=[inputs], outputs=output)\n",
    "    return model"
   ]
  },
  {
   "cell_type": "code",
   "execution_count": 41,
   "metadata": {},
   "outputs": [
    {
     "name": "stdout",
     "output_type": "stream",
     "text": [
      "Model: \"functional_5\"\n",
      "__________________________________________________________________________________________________\n",
      "Layer (type)                    Output Shape         Param #     Connected to                     \n",
      "==================================================================================================\n",
      "input_3 (InputLayer)            [(None, 35, 7)]      0                                            \n",
      "__________________________________________________________________________________________________\n",
      "conv1d_2 (Conv1D)               (None, 35, 64)       512         input_3[0][0]                    \n",
      "__________________________________________________________________________________________________\n",
      "max_pooling1d_2 (MaxPooling1D)  (None, 17, 64)       0           conv1d_2[0][0]                   \n",
      "__________________________________________________________________________________________________\n",
      "bidirectional_2 (Bidirectional) (None, 17, 256)      197632      max_pooling1d_2[0][0]            \n",
      "__________________________________________________________________________________________________\n",
      "dropout_2 (Dropout)             (None, 17, 256)      0           bidirectional_2[0][0]            \n",
      "__________________________________________________________________________________________________\n",
      "permute_4 (Permute)             (None, 256, 17)      0           dropout_2[0][0]                  \n",
      "__________________________________________________________________________________________________\n",
      "attention (Dense)               (None, 256, 17)      306         permute_4[0][0]                  \n",
      "__________________________________________________________________________________________________\n",
      "permute_5 (Permute)             (None, 17, 256)      0           attention[0][0]                  \n",
      "__________________________________________________________________________________________________\n",
      "multiply_2 (Multiply)           (None, 17, 256)      0           dropout_2[0][0]                  \n",
      "                                                                 permute_5[0][0]                  \n",
      "__________________________________________________________________________________________________\n",
      "flatten_2 (Flatten)             (None, 4352)         0           multiply_2[0][0]                 \n",
      "__________________________________________________________________________________________________\n",
      "dense_2 (Dense)                 (None, 4)            17412       flatten_2[0][0]                  \n",
      "==================================================================================================\n",
      "Total params: 215,862\n",
      "Trainable params: 215,862\n",
      "Non-trainable params: 0\n",
      "__________________________________________________________________________________________________\n"
     ]
    }
   ],
   "source": [
    "model = attention_model()\n",
    "model.summary()"
   ]
  },
  {
   "cell_type": "code",
   "execution_count": 42,
   "metadata": {},
   "outputs": [],
   "source": [
    "# import pydotplus\n",
    "# import graphviz \n",
    "# from keras.utils import plot_model\n",
    "# plot_model(model, to_file='.\\\\Vedio_tone.png', show_shapes=True)"
   ]
  },
  {
   "cell_type": "code",
   "execution_count": 43,
   "metadata": {},
   "outputs": [],
   "source": [
    "from keras import optimizers\n",
    "adam=optimizers.Adam(learning_rate=0.001)"
   ]
  },
  {
   "cell_type": "code",
   "execution_count": 44,
   "metadata": {
    "scrolled": true
   },
   "outputs": [
    {
     "name": "stdout",
     "output_type": "stream",
     "text": [
      "Epoch 1/100\n",
      "91/95 [===========================>..] - ETA: 0s - loss: 1.3009 - accuracy: 0.3836\n",
      "Epoch 00001: val_accuracy improved from -inf to 0.40372, saving model to .\\model\\gabor_tone_cnn1.h5\n",
      "95/95 [==============================] - 2s 18ms/step - loss: 1.3015 - accuracy: 0.3850 - val_loss: 1.2564 - val_accuracy: 0.4037\n",
      "Epoch 2/100\n",
      "90/95 [===========================>..] - ETA: 0s - loss: 1.2389 - accuracy: 0.4236\n",
      "Epoch 00002: val_accuracy improved from 0.40372 to 0.43028, saving model to .\\model\\gabor_tone_cnn1.h5\n",
      "95/95 [==============================] - 1s 12ms/step - loss: 1.2407 - accuracy: 0.4199 - val_loss: 1.2410 - val_accuracy: 0.4303\n",
      "Epoch 3/100\n",
      "92/95 [============================>.] - ETA: 0s - loss: 1.2142 - accuracy: 0.4399\n",
      "Epoch 00003: val_accuracy improved from 0.43028 to 0.43161, saving model to .\\model\\gabor_tone_cnn1.h5\n",
      "95/95 [==============================] - 1s 12ms/step - loss: 1.2155 - accuracy: 0.4389 - val_loss: 1.2209 - val_accuracy: 0.4316\n",
      "Epoch 4/100\n",
      "93/95 [============================>.] - ETA: 0s - loss: 1.1964 - accuracy: 0.4479\n",
      "Epoch 00004: val_accuracy improved from 0.43161 to 0.44090, saving model to .\\model\\gabor_tone_cnn1.h5\n",
      "95/95 [==============================] - 1s 12ms/step - loss: 1.1954 - accuracy: 0.4488 - val_loss: 1.2113 - val_accuracy: 0.4409\n",
      "Epoch 5/100\n",
      "92/95 [============================>.] - ETA: 0s - loss: 1.1738 - accuracy: 0.4637\n",
      "Epoch 00005: val_accuracy did not improve from 0.44090\n",
      "95/95 [==============================] - 1s 11ms/step - loss: 1.1761 - accuracy: 0.4654 - val_loss: 1.2131 - val_accuracy: 0.4250\n",
      "Epoch 6/100\n",
      "93/95 [============================>.] - ETA: 0s - loss: 1.1668 - accuracy: 0.4664\n",
      "Epoch 00006: val_accuracy improved from 0.44090 to 0.44489, saving model to .\\model\\gabor_tone_cnn1.h5\n",
      "95/95 [==============================] - 1s 13ms/step - loss: 1.1660 - accuracy: 0.4671 - val_loss: 1.2018 - val_accuracy: 0.4449\n",
      "Epoch 7/100\n",
      "93/95 [============================>.] - ETA: 0s - loss: 1.1465 - accuracy: 0.4788\n",
      "Epoch 00007: val_accuracy improved from 0.44489 to 0.45153, saving model to .\\model\\gabor_tone_cnn1.h5\n",
      "95/95 [==============================] - 1s 13ms/step - loss: 1.1489 - accuracy: 0.4774 - val_loss: 1.1925 - val_accuracy: 0.4515\n",
      "Epoch 8/100\n",
      "92/95 [============================>.] - ETA: 0s - loss: 1.1385 - accuracy: 0.4895\n",
      "Epoch 00008: val_accuracy improved from 0.45153 to 0.45286, saving model to .\\model\\gabor_tone_cnn1.h5\n",
      "95/95 [==============================] - 1s 13ms/step - loss: 1.1368 - accuracy: 0.4914 - val_loss: 1.1967 - val_accuracy: 0.4529\n",
      "Epoch 9/100\n",
      "91/95 [===========================>..] - ETA: 0s - loss: 1.1191 - accuracy: 0.4962\n",
      "Epoch 00009: val_accuracy improved from 0.45286 to 0.46215, saving model to .\\model\\gabor_tone_cnn1.h5\n",
      "95/95 [==============================] - 1s 13ms/step - loss: 1.1206 - accuracy: 0.4937 - val_loss: 1.1898 - val_accuracy: 0.4622\n",
      "Epoch 10/100\n",
      "90/95 [===========================>..] - ETA: 0s - loss: 1.1064 - accuracy: 0.5097\n",
      "Epoch 00010: val_accuracy improved from 0.46215 to 0.47012, saving model to .\\model\\gabor_tone_cnn1.h5\n",
      "95/95 [==============================] - 1s 13ms/step - loss: 1.1086 - accuracy: 0.5076 - val_loss: 1.1883 - val_accuracy: 0.4701\n",
      "Epoch 11/100\n",
      "90/95 [===========================>..] - ETA: 0s - loss: 1.0889 - accuracy: 0.5139\n",
      "Epoch 00011: val_accuracy did not improve from 0.47012\n",
      "95/95 [==============================] - 1s 11ms/step - loss: 1.0921 - accuracy: 0.5163 - val_loss: 1.1910 - val_accuracy: 0.4568\n",
      "Epoch 12/100\n",
      "92/95 [============================>.] - ETA: 0s - loss: 1.0828 - accuracy: 0.5160\n",
      "Epoch 00012: val_accuracy did not improve from 0.47012\n",
      "95/95 [==============================] - 1s 11ms/step - loss: 1.0814 - accuracy: 0.5183 - val_loss: 1.1955 - val_accuracy: 0.4555\n",
      "Epoch 13/100\n",
      "91/95 [===========================>..] - ETA: 0s - loss: 1.0594 - accuracy: 0.5316\n",
      "Epoch 00013: val_accuracy did not improve from 0.47012\n",
      "95/95 [==============================] - 1s 11ms/step - loss: 1.0666 - accuracy: 0.5276 - val_loss: 1.1955 - val_accuracy: 0.4555\n",
      "Epoch 14/100\n",
      "91/95 [===========================>..] - ETA: 0s - loss: 1.0505 - accuracy: 0.5426\n",
      "Epoch 00014: val_accuracy did not improve from 0.47012\n",
      "95/95 [==============================] - 1s 11ms/step - loss: 1.0494 - accuracy: 0.5429 - val_loss: 1.2076 - val_accuracy: 0.4475\n",
      "Epoch 15/100\n",
      "91/95 [===========================>..] - ETA: 0s - loss: 1.0387 - accuracy: 0.5388\n",
      "Epoch 00015: val_accuracy improved from 0.47012 to 0.49270, saving model to .\\model\\gabor_tone_cnn1.h5\n",
      "95/95 [==============================] - 1s 13ms/step - loss: 1.0414 - accuracy: 0.5359 - val_loss: 1.1896 - val_accuracy: 0.4927\n",
      "Epoch 16/100\n",
      "90/95 [===========================>..] - ETA: 0s - loss: 1.0285 - accuracy: 0.5479\n",
      "Epoch 00016: val_accuracy did not improve from 0.49270\n",
      "95/95 [==============================] - 1s 11ms/step - loss: 1.0276 - accuracy: 0.5482 - val_loss: 1.2095 - val_accuracy: 0.4847\n",
      "Epoch 17/100\n",
      "91/95 [===========================>..] - ETA: 0s - loss: 1.0180 - accuracy: 0.5573\n",
      "Epoch 00017: val_accuracy did not improve from 0.49270\n",
      "95/95 [==============================] - 1s 11ms/step - loss: 1.0160 - accuracy: 0.5598 - val_loss: 1.1912 - val_accuracy: 0.4688\n",
      "Epoch 18/100\n",
      "92/95 [============================>.] - ETA: 0s - loss: 0.9870 - accuracy: 0.5713\n",
      "Epoch 00018: val_accuracy did not improve from 0.49270\n",
      "95/95 [==============================] - 1s 11ms/step - loss: 0.9873 - accuracy: 0.5721 - val_loss: 1.2071 - val_accuracy: 0.4701\n",
      "Epoch 19/100\n",
      "91/95 [===========================>..] - ETA: 0s - loss: 0.9915 - accuracy: 0.5663\n",
      "Epoch 00019: val_accuracy did not improve from 0.49270\n",
      "95/95 [==============================] - 1s 11ms/step - loss: 0.9903 - accuracy: 0.5674 - val_loss: 1.1932 - val_accuracy: 0.4900\n",
      "Epoch 20/100\n",
      "91/95 [===========================>..] - ETA: 0s - loss: 0.9660 - accuracy: 0.5780\n",
      "Epoch 00020: val_accuracy did not improve from 0.49270\n",
      "95/95 [==============================] - 1s 12ms/step - loss: 0.9696 - accuracy: 0.5777 - val_loss: 1.2049 - val_accuracy: 0.4768\n",
      "Epoch 21/100\n",
      "91/95 [===========================>..] - ETA: 0s - loss: 0.9628 - accuracy: 0.5876\n",
      "Epoch 00021: val_accuracy did not improve from 0.49270\n",
      "95/95 [==============================] - 1s 11ms/step - loss: 0.9605 - accuracy: 0.5897 - val_loss: 1.1775 - val_accuracy: 0.4874\n",
      "Epoch 22/100\n",
      "91/95 [===========================>..] - ETA: 0s - loss: 0.9302 - accuracy: 0.6147\n",
      "Epoch 00022: val_accuracy did not improve from 0.49270\n",
      "95/95 [==============================] - 1s 11ms/step - loss: 0.9274 - accuracy: 0.6156 - val_loss: 1.1992 - val_accuracy: 0.4914\n",
      "Epoch 23/100\n",
      "91/95 [===========================>..] - ETA: 0s - loss: 0.9171 - accuracy: 0.6106\n",
      "Epoch 00023: val_accuracy improved from 0.49270 to 0.49668, saving model to .\\model\\gabor_tone_cnn1.h5\n",
      "95/95 [==============================] - 1s 13ms/step - loss: 0.9166 - accuracy: 0.6130 - val_loss: 1.2100 - val_accuracy: 0.4967\n",
      "Epoch 24/100\n",
      "91/95 [===========================>..] - ETA: 0s - loss: 0.9237 - accuracy: 0.6082\n",
      "Epoch 00024: val_accuracy did not improve from 0.49668\n",
      "95/95 [==============================] - 1s 12ms/step - loss: 0.9214 - accuracy: 0.6093 - val_loss: 1.1996 - val_accuracy: 0.4914\n",
      "Epoch 25/100\n",
      "91/95 [===========================>..] - ETA: 0s - loss: 0.8904 - accuracy: 0.6178\n",
      "Epoch 00025: val_accuracy improved from 0.49668 to 0.49801, saving model to .\\model\\gabor_tone_cnn1.h5\n",
      "95/95 [==============================] - 1s 13ms/step - loss: 0.8875 - accuracy: 0.6199 - val_loss: 1.2136 - val_accuracy: 0.4980\n",
      "Epoch 26/100\n",
      "90/95 [===========================>..] - ETA: 0s - loss: 0.8725 - accuracy: 0.6299\n",
      "Epoch 00026: val_accuracy did not improve from 0.49801\n",
      "95/95 [==============================] - 1s 11ms/step - loss: 0.8752 - accuracy: 0.6289 - val_loss: 1.2409 - val_accuracy: 0.4887\n",
      "Epoch 27/100\n",
      "91/95 [===========================>..] - ETA: 0s - loss: 0.8533 - accuracy: 0.6380\n",
      "Epoch 00027: val_accuracy improved from 0.49801 to 0.50199, saving model to .\\model\\gabor_tone_cnn1.h5\n",
      "95/95 [==============================] - 1s 13ms/step - loss: 0.8536 - accuracy: 0.6369 - val_loss: 1.2377 - val_accuracy: 0.5020\n"
     ]
    },
    {
     "name": "stdout",
     "output_type": "stream",
     "text": [
      "Epoch 28/100\n",
      "95/95 [==============================] - ETA: 0s - loss: 0.8468 - accuracy: 0.6415\n",
      "Epoch 00028: val_accuracy did not improve from 0.50199\n",
      "95/95 [==============================] - 1s 11ms/step - loss: 0.8468 - accuracy: 0.6415 - val_loss: 1.2282 - val_accuracy: 0.4794\n",
      "Epoch 29/100\n",
      "90/95 [===========================>..] - ETA: 0s - loss: 0.8241 - accuracy: 0.6653\n",
      "Epoch 00029: val_accuracy did not improve from 0.50199\n",
      "95/95 [==============================] - 1s 11ms/step - loss: 0.8255 - accuracy: 0.6645 - val_loss: 1.2332 - val_accuracy: 0.4874\n",
      "Epoch 30/100\n",
      "91/95 [===========================>..] - ETA: 0s - loss: 0.8154 - accuracy: 0.6672\n",
      "Epoch 00030: val_accuracy did not improve from 0.50199\n",
      "95/95 [==============================] - 1s 12ms/step - loss: 0.8167 - accuracy: 0.6661 - val_loss: 1.2389 - val_accuracy: 0.4648\n",
      "Epoch 31/100\n",
      "93/95 [============================>.] - ETA: 0s - loss: 0.7917 - accuracy: 0.6640\n",
      "Epoch 00031: val_accuracy did not improve from 0.50199\n",
      "95/95 [==============================] - 1s 11ms/step - loss: 0.7957 - accuracy: 0.6618 - val_loss: 1.2736 - val_accuracy: 0.4754\n",
      "Epoch 32/100\n",
      "91/95 [===========================>..] - ETA: 0s - loss: 0.7700 - accuracy: 0.6837\n",
      "Epoch 00032: val_accuracy did not improve from 0.50199\n",
      "95/95 [==============================] - 1s 11ms/step - loss: 0.7732 - accuracy: 0.6827 - val_loss: 1.2998 - val_accuracy: 0.4847\n",
      "Epoch 33/100\n",
      "92/95 [============================>.] - ETA: 0s - loss: 0.7653 - accuracy: 0.6926\n",
      "Epoch 00033: val_accuracy did not improve from 0.50199\n",
      "95/95 [==============================] - 1s 11ms/step - loss: 0.7630 - accuracy: 0.6934 - val_loss: 1.2884 - val_accuracy: 0.4834\n",
      "Epoch 34/100\n",
      "92/95 [============================>.] - ETA: 0s - loss: 0.7364 - accuracy: 0.7126\n",
      "Epoch 00034: val_accuracy did not improve from 0.50199\n",
      "95/95 [==============================] - 1s 11ms/step - loss: 0.7391 - accuracy: 0.7103 - val_loss: 1.2736 - val_accuracy: 0.4754\n",
      "Epoch 35/100\n",
      "91/95 [===========================>..] - ETA: 0s - loss: 0.7150 - accuracy: 0.7163\n",
      "Epoch 00035: val_accuracy did not improve from 0.50199\n",
      "95/95 [==============================] - 1s 12ms/step - loss: 0.7117 - accuracy: 0.7176 - val_loss: 1.2695 - val_accuracy: 0.4967\n",
      "Epoch 36/100\n",
      "91/95 [===========================>..] - ETA: 0s - loss: 0.7105 - accuracy: 0.7098\n",
      "Epoch 00036: val_accuracy did not improve from 0.50199\n",
      "95/95 [==============================] - 1s 11ms/step - loss: 0.7141 - accuracy: 0.7066 - val_loss: 1.3381 - val_accuracy: 0.4768\n",
      "Epoch 37/100\n",
      "91/95 [===========================>..] - ETA: 0s - loss: 0.6903 - accuracy: 0.7205\n",
      "Epoch 00037: val_accuracy improved from 0.50199 to 0.50465, saving model to .\\model\\gabor_tone_cnn1.h5\n",
      "95/95 [==============================] - 1s 12ms/step - loss: 0.6933 - accuracy: 0.7186 - val_loss: 1.2998 - val_accuracy: 0.5046\n",
      "Epoch 38/100\n",
      "95/95 [==============================] - ETA: 0s - loss: 0.6928 - accuracy: 0.7206\n",
      "Epoch 00038: val_accuracy did not improve from 0.50465\n",
      "95/95 [==============================] - 1s 11ms/step - loss: 0.6928 - accuracy: 0.7206 - val_loss: 1.3648 - val_accuracy: 0.4781\n",
      "Epoch 39/100\n",
      "93/95 [============================>.] - ETA: 0s - loss: 0.6477 - accuracy: 0.7453\n",
      "Epoch 00039: val_accuracy did not improve from 0.50465\n",
      "95/95 [==============================] - 1s 11ms/step - loss: 0.6487 - accuracy: 0.7445 - val_loss: 1.3454 - val_accuracy: 0.4861\n",
      "Epoch 40/100\n",
      "91/95 [===========================>..] - ETA: 0s - loss: 0.6707 - accuracy: 0.7339\n",
      "Epoch 00040: val_accuracy did not improve from 0.50465\n",
      "95/95 [==============================] - 1s 12ms/step - loss: 0.6691 - accuracy: 0.7349 - val_loss: 1.3568 - val_accuracy: 0.4821\n",
      "Epoch 41/100\n",
      "91/95 [===========================>..] - ETA: 0s - loss: 0.6413 - accuracy: 0.7428\n",
      "Epoch 00041: val_accuracy did not improve from 0.50465\n",
      "95/95 [==============================] - 1s 12ms/step - loss: 0.6443 - accuracy: 0.7412 - val_loss: 1.3683 - val_accuracy: 0.4834\n",
      "Epoch 42/100\n",
      "91/95 [===========================>..] - ETA: 0s - loss: 0.6312 - accuracy: 0.7445\n",
      "Epoch 00042: val_accuracy did not improve from 0.50465\n",
      "95/95 [==============================] - 1s 12ms/step - loss: 0.6293 - accuracy: 0.7452 - val_loss: 1.3692 - val_accuracy: 0.4914\n",
      "Epoch 43/100\n",
      "94/95 [============================>.] - ETA: 0s - loss: 0.6018 - accuracy: 0.7550\n",
      "Epoch 00043: val_accuracy did not improve from 0.50465\n",
      "95/95 [==============================] - 1s 12ms/step - loss: 0.6029 - accuracy: 0.7545 - val_loss: 1.3808 - val_accuracy: 0.4874\n",
      "Epoch 44/100\n",
      "90/95 [===========================>..] - ETA: 0s - loss: 0.6213 - accuracy: 0.7545\n",
      "Epoch 00044: val_accuracy did not improve from 0.50465\n",
      "95/95 [==============================] - 1s 11ms/step - loss: 0.6230 - accuracy: 0.7532 - val_loss: 1.4089 - val_accuracy: 0.4794\n",
      "Epoch 45/100\n",
      "94/95 [============================>.] - ETA: 0s - loss: 0.5664 - accuracy: 0.7822\n",
      "Epoch 00045: val_accuracy did not improve from 0.50465\n",
      "95/95 [==============================] - 1s 11ms/step - loss: 0.5666 - accuracy: 0.7821 - val_loss: 1.4214 - val_accuracy: 0.4794\n",
      "Epoch 46/100\n",
      "94/95 [============================>.] - ETA: 0s - loss: 0.5761 - accuracy: 0.7749\n",
      "Epoch 00046: val_accuracy did not improve from 0.50465\n",
      "95/95 [==============================] - 1s 11ms/step - loss: 0.5758 - accuracy: 0.7751 - val_loss: 1.4354 - val_accuracy: 0.4821\n",
      "Epoch 47/100\n",
      "90/95 [===========================>..] - ETA: 0s - loss: 0.5477 - accuracy: 0.7858\n",
      "Epoch 00047: val_accuracy did not improve from 0.50465\n",
      "95/95 [==============================] - 1s 11ms/step - loss: 0.5485 - accuracy: 0.7837 - val_loss: 1.4386 - val_accuracy: 0.4781\n",
      "Epoch 48/100\n",
      "90/95 [===========================>..] - ETA: 0s - loss: 0.5381 - accuracy: 0.8028\n",
      "Epoch 00048: val_accuracy did not improve from 0.50465\n",
      "95/95 [==============================] - 1s 12ms/step - loss: 0.5361 - accuracy: 0.8033 - val_loss: 1.4277 - val_accuracy: 0.4967\n",
      "Epoch 49/100\n",
      "90/95 [===========================>..] - ETA: 0s - loss: 0.5429 - accuracy: 0.7847\n",
      "Epoch 00049: val_accuracy did not improve from 0.50465\n",
      "95/95 [==============================] - 1s 11ms/step - loss: 0.5451 - accuracy: 0.7831 - val_loss: 1.4369 - val_accuracy: 0.4900\n",
      "Epoch 50/100\n",
      "93/95 [============================>.] - ETA: 0s - loss: 0.5163 - accuracy: 0.8007\n",
      "Epoch 00050: val_accuracy did not improve from 0.50465\n",
      "95/95 [==============================] - 1s 11ms/step - loss: 0.5156 - accuracy: 0.8013 - val_loss: 1.4874 - val_accuracy: 0.4861\n",
      "Epoch 51/100\n",
      "92/95 [============================>.] - ETA: 0s - loss: 0.5029 - accuracy: 0.8071\n",
      "Epoch 00051: val_accuracy did not improve from 0.50465\n",
      "95/95 [==============================] - 1s 11ms/step - loss: 0.5045 - accuracy: 0.8053 - val_loss: 1.5413 - val_accuracy: 0.4568\n",
      "Epoch 52/100\n",
      "91/95 [===========================>..] - ETA: 0s - loss: 0.4869 - accuracy: 0.8156\n",
      "Epoch 00052: val_accuracy did not improve from 0.50465\n",
      "95/95 [==============================] - 1s 12ms/step - loss: 0.4824 - accuracy: 0.8169 - val_loss: 1.5272 - val_accuracy: 0.4635\n",
      "Epoch 53/100\n",
      "93/95 [============================>.] - ETA: 0s - loss: 0.4727 - accuracy: 0.8192\n",
      "Epoch 00053: val_accuracy did not improve from 0.50465\n",
      "95/95 [==============================] - 1s 12ms/step - loss: 0.4713 - accuracy: 0.8199 - val_loss: 1.4791 - val_accuracy: 0.4821\n",
      "Epoch 54/100\n",
      "91/95 [===========================>..] - ETA: 0s - loss: 0.4623 - accuracy: 0.8286\n",
      "Epoch 00054: val_accuracy did not improve from 0.50465\n",
      "95/95 [==============================] - 1s 12ms/step - loss: 0.4658 - accuracy: 0.8272 - val_loss: 1.5156 - val_accuracy: 0.4781\n",
      "Epoch 55/100\n",
      "94/95 [============================>.] - ETA: 0s - loss: 0.4770 - accuracy: 0.8092\n",
      "Epoch 00055: val_accuracy did not improve from 0.50465\n",
      "95/95 [==============================] - 1s 12ms/step - loss: 0.4767 - accuracy: 0.8093 - val_loss: 1.5471 - val_accuracy: 0.4781\n",
      "Epoch 56/100\n",
      "90/95 [===========================>..] - ETA: 0s - loss: 0.4371 - accuracy: 0.8365\n",
      "Epoch 00056: val_accuracy did not improve from 0.50465\n",
      "95/95 [==============================] - 1s 12ms/step - loss: 0.4374 - accuracy: 0.8362 - val_loss: 1.5709 - val_accuracy: 0.4608\n"
     ]
    },
    {
     "name": "stdout",
     "output_type": "stream",
     "text": [
      "Epoch 57/100\n",
      "94/95 [============================>.] - ETA: 0s - loss: 0.4478 - accuracy: 0.8245\n",
      "Epoch 00057: val_accuracy did not improve from 0.50465\n",
      "95/95 [==============================] - 1s 12ms/step - loss: 0.4477 - accuracy: 0.8246 - val_loss: 1.5702 - val_accuracy: 0.4622\n",
      "Epoch 58/100\n",
      "94/95 [============================>.] - ETA: 0s - loss: 0.4313 - accuracy: 0.8388\n",
      "Epoch 00058: val_accuracy did not improve from 0.50465\n",
      "95/95 [==============================] - 1s 12ms/step - loss: 0.4313 - accuracy: 0.8389 - val_loss: 1.5487 - val_accuracy: 0.4861\n",
      "Epoch 59/100\n",
      "91/95 [===========================>..] - ETA: 0s - loss: 0.4122 - accuracy: 0.8400\n",
      "Epoch 00059: val_accuracy did not improve from 0.50465\n",
      "95/95 [==============================] - 1s 11ms/step - loss: 0.4142 - accuracy: 0.8395 - val_loss: 1.5644 - val_accuracy: 0.4648\n",
      "Epoch 60/100\n",
      "91/95 [===========================>..] - ETA: 0s - loss: 0.4061 - accuracy: 0.8492\n",
      "Epoch 00060: val_accuracy did not improve from 0.50465\n",
      "95/95 [==============================] - 1s 12ms/step - loss: 0.4078 - accuracy: 0.8495 - val_loss: 1.5760 - val_accuracy: 0.4900\n",
      "Epoch 61/100\n",
      "92/95 [============================>.] - ETA: 0s - loss: 0.4047 - accuracy: 0.8400\n",
      "Epoch 00061: val_accuracy did not improve from 0.50465\n",
      "95/95 [==============================] - 1s 11ms/step - loss: 0.4025 - accuracy: 0.8419 - val_loss: 1.5855 - val_accuracy: 0.4807\n",
      "Epoch 62/100\n",
      "91/95 [===========================>..] - ETA: 0s - loss: 0.3718 - accuracy: 0.8565\n",
      "Epoch 00062: val_accuracy did not improve from 0.50465\n",
      "95/95 [==============================] - 1s 11ms/step - loss: 0.3715 - accuracy: 0.8561 - val_loss: 1.6566 - val_accuracy: 0.4635\n",
      "Epoch 63/100\n",
      "90/95 [===========================>..] - ETA: 0s - loss: 0.4218 - accuracy: 0.8375\n",
      "Epoch 00063: val_accuracy did not improve from 0.50465\n",
      "95/95 [==============================] - 1s 11ms/step - loss: 0.4207 - accuracy: 0.8375 - val_loss: 1.6076 - val_accuracy: 0.4754\n",
      "Epoch 64/100\n",
      "92/95 [============================>.] - ETA: 0s - loss: 0.3859 - accuracy: 0.8519\n",
      "Epoch 00064: val_accuracy did not improve from 0.50465\n",
      "95/95 [==============================] - 1s 11ms/step - loss: 0.3877 - accuracy: 0.8525 - val_loss: 1.6351 - val_accuracy: 0.4887\n",
      "Epoch 65/100\n",
      "93/95 [============================>.] - ETA: 0s - loss: 0.3666 - accuracy: 0.8525\n",
      "Epoch 00065: val_accuracy did not improve from 0.50465\n",
      "95/95 [==============================] - 1s 11ms/step - loss: 0.3660 - accuracy: 0.8528 - val_loss: 1.6354 - val_accuracy: 0.4900\n",
      "Epoch 66/100\n",
      "92/95 [============================>.] - ETA: 0s - loss: 0.3542 - accuracy: 0.8648\n",
      "Epoch 00066: val_accuracy did not improve from 0.50465\n",
      "95/95 [==============================] - 1s 11ms/step - loss: 0.3510 - accuracy: 0.8664 - val_loss: 1.6892 - val_accuracy: 0.4728\n",
      "Epoch 67/100\n",
      "91/95 [===========================>..] - ETA: 0s - loss: 0.3466 - accuracy: 0.8750\n",
      "Epoch 00067: val_accuracy did not improve from 0.50465\n",
      "95/95 [==============================] - 1s 12ms/step - loss: 0.3472 - accuracy: 0.8734 - val_loss: 1.6960 - val_accuracy: 0.4927\n",
      "Epoch 68/100\n",
      "91/95 [===========================>..] - ETA: 0s - loss: 0.3379 - accuracy: 0.8716\n",
      "Epoch 00068: val_accuracy did not improve from 0.50465\n",
      "95/95 [==============================] - 1s 11ms/step - loss: 0.3366 - accuracy: 0.8728 - val_loss: 1.7575 - val_accuracy: 0.4754\n",
      "Epoch 69/100\n",
      "91/95 [===========================>..] - ETA: 0s - loss: 0.3575 - accuracy: 0.8692\n",
      "Epoch 00069: val_accuracy did not improve from 0.50465\n",
      "95/95 [==============================] - 1s 11ms/step - loss: 0.3557 - accuracy: 0.8701 - val_loss: 1.6956 - val_accuracy: 0.4714\n",
      "Epoch 70/100\n",
      "91/95 [===========================>..] - ETA: 0s - loss: 0.3128 - accuracy: 0.8808\n",
      "Epoch 00070: val_accuracy did not improve from 0.50465\n",
      "95/95 [==============================] - 1s 11ms/step - loss: 0.3113 - accuracy: 0.8811 - val_loss: 1.7323 - val_accuracy: 0.4688\n",
      "Epoch 71/100\n",
      "92/95 [============================>.] - ETA: 0s - loss: 0.3240 - accuracy: 0.8815\n",
      "Epoch 00071: val_accuracy did not improve from 0.50465\n",
      "95/95 [==============================] - 1s 11ms/step - loss: 0.3240 - accuracy: 0.8817 - val_loss: 1.7495 - val_accuracy: 0.4900\n",
      "Epoch 72/100\n",
      "91/95 [===========================>..] - ETA: 0s - loss: 0.3089 - accuracy: 0.8846\n",
      "Epoch 00072: val_accuracy did not improve from 0.50465\n",
      "95/95 [==============================] - 1s 11ms/step - loss: 0.3070 - accuracy: 0.8857 - val_loss: 1.8180 - val_accuracy: 0.4529\n",
      "Epoch 73/100\n",
      "91/95 [===========================>..] - ETA: 0s - loss: 0.3066 - accuracy: 0.8791\n",
      "Epoch 00073: val_accuracy did not improve from 0.50465\n",
      "95/95 [==============================] - 1s 11ms/step - loss: 0.3070 - accuracy: 0.8797 - val_loss: 1.7808 - val_accuracy: 0.4714\n",
      "Epoch 74/100\n",
      "92/95 [============================>.] - ETA: 0s - loss: 0.2905 - accuracy: 0.8893\n",
      "Epoch 00074: val_accuracy did not improve from 0.50465\n",
      "95/95 [==============================] - 1s 11ms/step - loss: 0.2914 - accuracy: 0.8887 - val_loss: 1.8362 - val_accuracy: 0.4635\n",
      "Epoch 75/100\n",
      "91/95 [===========================>..] - ETA: 0s - loss: 0.2666 - accuracy: 0.9028\n",
      "Epoch 00075: val_accuracy did not improve from 0.50465\n",
      "95/95 [==============================] - 1s 11ms/step - loss: 0.2676 - accuracy: 0.9017 - val_loss: 1.9000 - val_accuracy: 0.4768\n",
      "Epoch 76/100\n",
      "91/95 [===========================>..] - ETA: 0s - loss: 0.2846 - accuracy: 0.8891\n",
      "Epoch 00076: val_accuracy did not improve from 0.50465\n",
      "95/95 [==============================] - 1s 11ms/step - loss: 0.2826 - accuracy: 0.8907 - val_loss: 1.8346 - val_accuracy: 0.4675\n",
      "Epoch 77/100\n",
      "91/95 [===========================>..] - ETA: 0s - loss: 0.2919 - accuracy: 0.8898\n",
      "Epoch 00077: val_accuracy did not improve from 0.50465\n",
      "95/95 [==============================] - 1s 12ms/step - loss: 0.2930 - accuracy: 0.8890 - val_loss: 1.8326 - val_accuracy: 0.4887\n",
      "Epoch 78/100\n",
      "91/95 [===========================>..] - ETA: 0s - loss: 0.2887 - accuracy: 0.8915\n",
      "Epoch 00078: val_accuracy did not improve from 0.50465\n",
      "95/95 [==============================] - 1s 11ms/step - loss: 0.2892 - accuracy: 0.8910 - val_loss: 1.7838 - val_accuracy: 0.4874\n",
      "Epoch 79/100\n",
      "92/95 [============================>.] - ETA: 0s - loss: 0.2605 - accuracy: 0.9086\n",
      "Epoch 00079: val_accuracy did not improve from 0.50465\n",
      "95/95 [==============================] - 1s 11ms/step - loss: 0.2595 - accuracy: 0.9093 - val_loss: 1.8407 - val_accuracy: 0.4940\n",
      "Epoch 80/100\n",
      "92/95 [============================>.] - ETA: 0s - loss: 0.2581 - accuracy: 0.9018\n",
      "Epoch 00080: val_accuracy did not improve from 0.50465\n",
      "95/95 [==============================] - 1s 12ms/step - loss: 0.2599 - accuracy: 0.9013 - val_loss: 1.8378 - val_accuracy: 0.4900\n",
      "Epoch 81/100\n",
      "92/95 [============================>.] - ETA: 0s - loss: 0.2568 - accuracy: 0.9073\n",
      "Epoch 00081: val_accuracy did not improve from 0.50465\n",
      "95/95 [==============================] - 1s 11ms/step - loss: 0.2574 - accuracy: 0.9063 - val_loss: 1.8431 - val_accuracy: 0.4807\n",
      "Epoch 82/100\n",
      "95/95 [==============================] - ETA: 0s - loss: 0.2473 - accuracy: 0.9100\n",
      "Epoch 00082: val_accuracy did not improve from 0.50465\n",
      "95/95 [==============================] - 1s 12ms/step - loss: 0.2473 - accuracy: 0.9100 - val_loss: 1.9166 - val_accuracy: 0.4728\n",
      "Epoch 83/100\n",
      "90/95 [===========================>..] - ETA: 0s - loss: 0.2395 - accuracy: 0.9125\n",
      "Epoch 00083: val_accuracy did not improve from 0.50465\n",
      "95/95 [==============================] - 1s 12ms/step - loss: 0.2403 - accuracy: 0.9120 - val_loss: 1.9301 - val_accuracy: 0.4555\n",
      "Epoch 84/100\n",
      "92/95 [============================>.] - ETA: 0s - loss: 0.2446 - accuracy: 0.9096\n",
      "Epoch 00084: val_accuracy did not improve from 0.50465\n",
      "95/95 [==============================] - 1s 11ms/step - loss: 0.2428 - accuracy: 0.9113 - val_loss: 1.9742 - val_accuracy: 0.4529\n",
      "Epoch 85/100\n",
      "92/95 [============================>.] - ETA: 0s - loss: 0.3644 - accuracy: 0.8682\n",
      "Epoch 00085: val_accuracy did not improve from 0.50465\n",
      "95/95 [==============================] - 1s 12ms/step - loss: 0.3640 - accuracy: 0.8684 - val_loss: 1.8621 - val_accuracy: 0.4489\n",
      "Epoch 86/100\n"
     ]
    },
    {
     "name": "stdout",
     "output_type": "stream",
     "text": [
      "91/95 [===========================>..] - ETA: 0s - loss: 0.2557 - accuracy: 0.9014\n",
      "Epoch 00086: val_accuracy did not improve from 0.50465\n",
      "95/95 [==============================] - 1s 12ms/step - loss: 0.2558 - accuracy: 0.9010 - val_loss: 1.9258 - val_accuracy: 0.4515\n",
      "Epoch 87/100\n",
      "92/95 [============================>.] - ETA: 0s - loss: 0.2292 - accuracy: 0.9164\n",
      "Epoch 00087: val_accuracy did not improve from 0.50465\n",
      "95/95 [==============================] - 1s 11ms/step - loss: 0.2284 - accuracy: 0.9166 - val_loss: 1.9031 - val_accuracy: 0.4502\n",
      "Epoch 88/100\n",
      "91/95 [===========================>..] - ETA: 0s - loss: 0.2171 - accuracy: 0.9255\n",
      "Epoch 00088: val_accuracy did not improve from 0.50465\n",
      "95/95 [==============================] - 1s 11ms/step - loss: 0.2172 - accuracy: 0.9266 - val_loss: 1.9186 - val_accuracy: 0.4542\n",
      "Epoch 89/100\n",
      "92/95 [============================>.] - ETA: 0s - loss: 0.2391 - accuracy: 0.9120\n",
      "Epoch 00089: val_accuracy did not improve from 0.50465\n",
      "95/95 [==============================] - 1s 11ms/step - loss: 0.2426 - accuracy: 0.9100 - val_loss: 1.9230 - val_accuracy: 0.4622\n",
      "Epoch 90/100\n",
      "92/95 [============================>.] - ETA: 0s - loss: 0.1989 - accuracy: 0.9351\n",
      "Epoch 00090: val_accuracy did not improve from 0.50465\n",
      "95/95 [==============================] - 1s 11ms/step - loss: 0.1993 - accuracy: 0.9346 - val_loss: 1.9494 - val_accuracy: 0.4807\n",
      "Epoch 91/100\n",
      "91/95 [===========================>..] - ETA: 0s - loss: 0.2053 - accuracy: 0.9337\n",
      "Epoch 00091: val_accuracy did not improve from 0.50465\n",
      "95/95 [==============================] - 1s 11ms/step - loss: 0.2084 - accuracy: 0.9326 - val_loss: 1.9758 - val_accuracy: 0.4741\n",
      "Epoch 92/100\n",
      "91/95 [===========================>..] - ETA: 0s - loss: 0.1958 - accuracy: 0.9317\n",
      "Epoch 00092: val_accuracy did not improve from 0.50465\n",
      "95/95 [==============================] - 1s 11ms/step - loss: 0.1953 - accuracy: 0.9326 - val_loss: 1.9719 - val_accuracy: 0.4768\n",
      "Epoch 93/100\n",
      "91/95 [===========================>..] - ETA: 0s - loss: 0.2023 - accuracy: 0.9282\n",
      "Epoch 00093: val_accuracy did not improve from 0.50465\n",
      "95/95 [==============================] - 1s 11ms/step - loss: 0.2039 - accuracy: 0.9276 - val_loss: 1.9583 - val_accuracy: 0.4821\n",
      "Epoch 94/100\n",
      "91/95 [===========================>..] - ETA: 0s - loss: 0.2021 - accuracy: 0.9299\n",
      "Epoch 00094: val_accuracy did not improve from 0.50465\n",
      "95/95 [==============================] - 1s 11ms/step - loss: 0.1995 - accuracy: 0.9306 - val_loss: 2.0003 - val_accuracy: 0.4794\n",
      "Epoch 95/100\n",
      "90/95 [===========================>..] - ETA: 0s - loss: 0.2022 - accuracy: 0.9274\n",
      "Epoch 00095: val_accuracy did not improve from 0.50465\n",
      "95/95 [==============================] - 1s 11ms/step - loss: 0.2014 - accuracy: 0.9279 - val_loss: 1.9791 - val_accuracy: 0.4648\n",
      "Epoch 96/100\n",
      "92/95 [============================>.] - ETA: 0s - loss: 0.2063 - accuracy: 0.9232\n",
      "Epoch 00096: val_accuracy did not improve from 0.50465\n",
      "95/95 [==============================] - 1s 11ms/step - loss: 0.2061 - accuracy: 0.9229 - val_loss: 1.9589 - val_accuracy: 0.4754\n",
      "Epoch 97/100\n",
      "90/95 [===========================>..] - ETA: 0s - loss: 0.1954 - accuracy: 0.9323\n",
      "Epoch 00097: val_accuracy did not improve from 0.50465\n",
      "95/95 [==============================] - 1s 11ms/step - loss: 0.1976 - accuracy: 0.9306 - val_loss: 2.0069 - val_accuracy: 0.4661\n",
      "Epoch 98/100\n",
      "91/95 [===========================>..] - ETA: 0s - loss: 0.2777 - accuracy: 0.8994\n",
      "Epoch 00098: val_accuracy did not improve from 0.50465\n",
      "95/95 [==============================] - 1s 11ms/step - loss: 0.2735 - accuracy: 0.9010 - val_loss: 2.0601 - val_accuracy: 0.4582\n",
      "Epoch 99/100\n",
      "91/95 [===========================>..] - ETA: 0s - loss: 0.2145 - accuracy: 0.9245\n",
      "Epoch 00099: val_accuracy did not improve from 0.50465\n",
      "95/95 [==============================] - 1s 11ms/step - loss: 0.2142 - accuracy: 0.9236 - val_loss: 2.0286 - val_accuracy: 0.4741\n",
      "Epoch 100/100\n",
      "92/95 [============================>.] - ETA: 0s - loss: 0.1810 - accuracy: 0.9348\n",
      "Epoch 00100: val_accuracy did not improve from 0.50465\n",
      "95/95 [==============================] - 1s 11ms/step - loss: 0.1812 - accuracy: 0.9346 - val_loss: 2.0274 - val_accuracy: 0.4821\n",
      "time= 113.97724318504333\n"
     ]
    }
   ],
   "source": [
    "a=time.time()\n",
    "model.compile(optimizer=adam,loss='categorical_crossentropy',metrics=['accuracy'])\n",
    "#plot_model(model,'model_tune.jpg',show_shapes=True)\n",
    "save_model=kcallbacks.ModelCheckpoint(filepath=MODEL_SAVE_PATH,monitor='val_accuracy',verbose=1,save_best_only=True)\n",
    "callback_list=[save_model]\n",
    "history=model.fit(x=X_train,y=y_train,batch_size=BATCH_SIZE,epochs=EPOCHS,validation_split=0.2,\n",
    "                  callbacks=callback_list)\n",
    "b=time.time()\n",
    "print(\"time=\",b-a)"
   ]
  },
  {
   "cell_type": "markdown",
   "metadata": {},
   "source": [
    "## plot_curve"
   ]
  },
  {
   "cell_type": "code",
   "execution_count": 47,
   "metadata": {},
   "outputs": [],
   "source": [
    "# from keras.models import load_model\n",
    "model=load_model('.\\model\\gabor_tone_cnn1.h5')\n",
    "# history=model.fit(x=X_train,y=y_train,batch_size=BATCH_SIZE,epochs=EPOCHS,validation_data=(X_test,y_test),\n",
    "#                   callbacks=callback_list)"
   ]
  },
  {
   "cell_type": "code",
   "execution_count": 25,
   "metadata": {
    "scrolled": true
   },
   "outputs": [
    {
     "data": {
      "text/plain": [
       "<Figure size 1500x500 with 2 Axes>"
      ]
     },
     "metadata": {},
     "output_type": "display_data"
    },
    {
     "data": {
      "text/plain": [
       "<Figure size 1500x500 with 2 Axes>"
      ]
     },
     "metadata": {},
     "output_type": "display_data"
    }
   ],
   "source": [
    "from help import plot_curve,plot_curve_with_smooth\n",
    "plot_curve(history)\n",
    "plot_curve_with_smooth(history)"
   ]
  },
  {
   "cell_type": "markdown",
   "metadata": {},
   "source": [
    "## confusion_metrix"
   ]
  },
  {
   "cell_type": "code",
   "execution_count": 26,
   "metadata": {},
   "outputs": [
    {
     "data": {
      "text/plain": [
       "<matplotlib.axes._subplots.AxesSubplot at 0x1d80517edd8>"
      ]
     },
     "execution_count": 26,
     "metadata": {},
     "output_type": "execute_result"
    },
    {
     "data": {
      "image/png": "[encoded data removed]",
      "text/plain": [
       "<Figure size 720x504 with 2 Axes>"
      ]
     },
     "metadata": {
      "needs_background": "light"
     },
     "output_type": "display_data"
    }
   ],
   "source": [
    "from sklearn.metrics import confusion_matrix\n",
    "import matplotlib.pyplot as plt\n",
    "%matplotlib inline\n",
    "y_pred=model.predict(X_test)\n",
    "y_pred=np.argmax(y_pred,axis=-1).ravel()\n",
    "y_true=np.argmax(y_test,axis=-1).ravel()\n",
    "con_matrix=confusion_matrix(y_true=y_true,y_pred=y_pred)\n",
    "# def plot_confusion_matrix(confusion_mat):\n",
    "#     plt.imshow(confusion_mat)\n",
    "#     plt.title('Confusion Matrix')\n",
    "#     plt.colorbar()\n",
    "labels = [1,2,3,4]\n",
    "#     tick_marks = np.arange(len(labels))\n",
    "#     plt.xticks(tick_marks, labels)\n",
    "#     plt.yticks(tick_marks, labels)\n",
    "#     plt.ylabel('True Label')\n",
    "#     plt.xlabel('Predicted Label')\n",
    "#     plt.grid(False)\n",
    "#     plt.show() \n",
    "# plot_confusion_matrix(con_matrix)\n",
    "import seaborn as sn\n",
    "\n",
    "df_cm = pd.DataFrame(con_matrix,\n",
    "                     index = [i for i in list(labels)],\n",
    "                     columns = [i for i in list(labels)])\n",
    "plt.figure(figsize = (10,7))\n",
    "sn.heatmap(df_cm, annot=True, fmt='.20g',cmap=\"BuPu\")"
   ]
  },
  {
   "cell_type": "markdown",
   "metadata": {},
   "source": [
    "## classfication_report"
   ]
  },
  {
   "cell_type": "code",
   "execution_count": 27,
   "metadata": {},
   "outputs": [],
   "source": [
    "from sklearn.metrics import classification_report\n"
   ]
  },
  {
   "cell_type": "code",
   "execution_count": 28,
   "metadata": {},
   "outputs": [
    {
     "name": "stdout",
     "output_type": "stream",
     "text": [
      "              precision    recall  f1-score   support\n",
      "\n",
      "           1     0.3941    0.4398    0.4157       241\n",
      "           2     0.3384    0.3300    0.3342       203\n",
      "           3     0.5890    0.4886    0.5342       264\n",
      "           4     0.5059    0.5536    0.5287       233\n",
      "\n",
      "   micro avg     0.4580    0.4580    0.4580       941\n",
      "   macro avg     0.4568    0.4530    0.4532       941\n",
      "weighted avg     0.4644    0.4580    0.4593       941\n",
      "\n"
     ]
    }
   ],
   "source": [
    "target_names = ['1', '2', '3','4']\n",
    "print(classification_report(y_true,y_pred,digits=4,labels=[0,1,2,3],target_names=target_names))"
   ]
  },
  {
   "cell_type": "markdown",
   "metadata": {},
   "source": [
    "# predict"
   ]
  },
  {
   "cell_type": "markdown",
   "metadata": {},
   "source": [
    "Test Che1.npy"
   ]
  },
  {
   "cell_type": "code",
   "execution_count": 48,
   "metadata": {},
   "outputs": [
    {
     "name": "stdout",
     "output_type": "stream",
     "text": [
      "(1, 35, 7)\n",
      "Predict Label:3\n"
     ]
    }
   ],
   "source": [
    "temp = np.load('che1.npy')\n",
    "m,n = temp.shape\n",
    "            #print(m)\n",
    "if m <=35:\n",
    "    left = 36 - m\n",
    "    temp =np.append(temp,(np.zeros([left,n])),axis=0)\n",
    "test =[]\n",
    "test.append(temp[:35,])\n",
    "test = np.array(test)\n",
    "print(test.shape)\n",
    "pred=model.predict(test)\n",
    "pred=np.argmax(pred,axis=1)[0]\n",
    "print('Predict Label:%s'%(CLASSES_LIST[pred]))"
   ]
  },
  {
   "cell_type": "markdown",
   "metadata": {},
   "source": [
    "Other tests"
   ]
  },
  {
   "cell_type": "code",
   "execution_count": 20,
   "metadata": {
    "collapsed": true,
    "jupyter": {
     "outputs_hidden": true
    }
   },
   "outputs": [],
   "source": [
    "import librosa\n",
    "import sklearn\n",
    "def get_mfcc_feature(path,maxlen=50):\n",
    "    x, sr = librosa.load(path)\n",
    "    # extract mfcc\n",
    "    mfcc = librosa.feature.mfcc(x, sr=sr)\n",
    "    # Center to the mean and component wise scale to unit variance\n",
    "    mfcc = sklearn.preprocessing.scale(mfcc, axis=1)\n",
    "    mfcc_diff = np.diff(mfcc, axis=0)\n",
    "    mfcc_diff_diff = np.diff(mfcc_diff, axis=0)\n",
    "    # concatenate mfcc,mfcc_diff and mfcc_diff_diff\n",
    "    mfccs = np.concatenate([mfcc, mfcc_diff, mfcc_diff_diff], axis=0).T\n",
    "    #pad the mfccs_feature\n",
    "    if mfccs.shape[0]<maxlen:\n",
    "        mfccs=np.concatenate([mfccs,np.zeros((maxlen-mfccs.shape[0],57))],axis=0)\n",
    "    return mfccs"
   ]
  },
  {
   "cell_type": "code",
   "execution_count": 21,
   "metadata": {
    "collapsed": true,
    "jupyter": {
     "outputs_hidden": true
    }
   },
   "outputs": [],
   "source": [
    "wav_file='./voice_data/person10_time1_group1_ba_1.wav'"
   ]
  },
  {
   "cell_type": "code",
   "execution_count": 22,
   "metadata": {},
   "outputs": [
    {
     "name": "stdout",
     "output_type": "stream",
     "text": [
      "Predict Label:1\n"
     ]
    }
   ],
   "source": [
    "test=get_mfcc_feature(path=wav_file)\n",
    "test=np.expand_dims(test,axis=0)\n",
    "pred=model.predict(test)\n",
    "pred=np.argmax(pred,axis=1)[0]\n",
    "print('Predict Label:%s'%(CLASSES_LIST[pred]))"
   ]
  },
  {
   "cell_type": "code",
   "execution_count": 40,
   "metadata": {},
   "outputs": [
    {
     "name": "stdout",
     "output_type": "stream",
     "text": [
      "(1, 35, 7)\n",
      "Predict Label:4\n"
     ]
    }
   ],
   "source": [
    "temp = np.load('./gabor/person2_time1_group1_da_4.npy')\n",
    "m,n = temp.shape\n",
    "            #print(m)\n",
    "if m <=35:\n",
    "    left = 36 - m\n",
    "    temp =np.append(temp,(np.zeros([left,n])),axis=0)\n",
    "test =[]\n",
    "test.append(temp[:35,])\n",
    "test = np.array(test)\n",
    "print(test.shape)\n",
    "pred=model.predict(test)\n",
    "pred=np.argmax(pred,axis=1)[0]\n",
    "print('Predict Label:%s'%(CLASSES_LIST[pred]))"
   ]
  },
  {
   "cell_type": "code",
   "execution_count": null,
   "metadata": {
    "collapsed": true,
    "jupyter": {
     "outputs_hidden": true
    }
   },
   "outputs": [],
   "source": []
  },
  {
   "cell_type": "code",
   "execution_count": 63,
   "metadata": {},
   "outputs": [],
   "source": [
    "# Variable-length int sequences.\n",
    "query_input = tf.keras.Input(shape=(None,), dtype='int32')\n",
    "value_input = tf.keras.Input(shape=(None,), dtype='int32')\n",
    "\n",
    "# Embedding lookup.\n",
    "token_embedding = tf.keras.layers.Embedding(input_dim=1000, output_dim=64)\n",
    "# Query embeddings of shape [batch_size, Tq, dimension].\n",
    "query_embeddings = token_embedding(query_input)\n",
    "# Value embeddings of shape [batch_size, Tv, dimension].\n",
    "value_embeddings = token_embedding(value_input)\n",
    "\n",
    "# CNN layer.\n",
    "cnn_layer = tf.keras.layers.Conv1D(\n",
    "    filters=100,\n",
    "    kernel_size=4,\n",
    "    # Use 'same' padding so outputs have the same shape as inputs.\n",
    "    padding='same')\n",
    "# Query encoding of shape [batch_size, Tq, filters].\n",
    "query_seq_encoding = cnn_layer(query_embeddings)\n",
    "# Value encoding of shape [batch_size, Tv, filters].\n",
    "value_seq_encoding = cnn_layer(value_embeddings)\n",
    "\n",
    "# Query-value attention of shape [batch_size, Tq, filters].\n",
    "query_value_attention_seq = tf.keras.layers.Attention()(\n",
    "    [query_seq_encoding, value_seq_encoding])\n",
    "\n",
    "# Reduce over the sequence axis to produce encodings of shape\n",
    "# [batch_size, filters].\n",
    "query_encoding = tf.keras.layers.GlobalAveragePooling1D()(\n",
    "    query_seq_encoding)\n",
    "query_value_attention = tf.keras.layers.GlobalAveragePooling1D()(\n",
    "    query_value_attention_seq)\n",
    "\n",
    "# Concatenate query and document encodings to produce a DNN input layer.\n",
    "input_layer = tf.keras.layers.Concatenate()(\n",
    "    [query_encoding, query_value_attention])"
   ]
  },
  {
   "cell_type": "code",
   "execution_count": null,
   "metadata": {},
   "outputs": [],
   "source": []
  }
 ],
 "metadata": {
  "kernelspec": {
   "display_name": "Python 3",
   "language": "python",
   "name": "python3"
  },
  "language_info": {
   "codemirror_mode": {
    "name": "ipython",
    "version": 3
   },
   "file_extension": ".py",
   "mimetype": "text/x-python",
   "name": "python",
   "nbconvert_exporter": "python",
   "pygments_lexer": "ipython3",
   "version": "3.7.0"
  },
  "toc": {
   "base_numbering": 1,
   "nav_menu": {},
   "number_sections": true,
   "sideBar": true,
   "skip_h1_title": false,
   "title_cell": "Table of Contents",
   "title_sidebar": "Contents",
   "toc_cell": false,
   "toc_position": {},
   "toc_section_display": true,
   "toc_window_display": true
  }
 },
 "nbformat": 4,
 "nbformat_minor": 4
}
