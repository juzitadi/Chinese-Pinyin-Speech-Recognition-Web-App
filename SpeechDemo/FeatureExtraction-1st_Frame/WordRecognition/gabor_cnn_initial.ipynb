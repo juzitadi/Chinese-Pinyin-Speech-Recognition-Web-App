{
 "cells": [
  {
   "cell_type": "markdown",
   "metadata": {},
   "source": [
    "# import modules"
   ]
  },
  {
   "cell_type": "code",
   "execution_count": 1,
   "metadata": {},
   "outputs": [],
   "source": [
    "import keras\n",
    "from keras.utils import plot_model,to_categorical\n",
    "from keras import Model,Input,regularizers\n",
    "from keras.layers import Reshape,Flatten\n",
    "import numpy as np\n",
    "from sklearn.model_selection import train_test_split\n",
    "import keras.backend as K\n",
    "import keras.callbacks as kcallbacks\n",
    "from sklearn.preprocessing import LabelEncoder\n",
    "import string\n",
    "from keras.optimizers import SGD\n",
    "import warnings\n",
    "import tensorflow as tf\n",
    "# from lsuv_init import LSUVinit\n",
    "warnings.filterwarnings('ignore')\n",
    "from tensorflow.keras import layers\n",
    "from keras.layers import Input, Dense, LSTM, merge ,Conv1D,Dropout,Bidirectional,Multiply,BatchNormalization,MaxPool1D\n",
    "from keras.models import Model\n",
    "import time\n",
    "\n",
    "from attention_utils import get_activations\n",
    "from keras.layers import merge\n",
    "from keras.layers.core import *\n",
    "from keras.layers.recurrent import LSTM\n",
    "from keras.models import *\n",
    "\n",
    "import  pandas as pd\n",
    "import  numpy as np\n",
    "from keras.wrappers import scikit_learn"
   ]
  },
  {
   "cell_type": "markdown",
   "metadata": {},
   "source": [
    "# Load Features"
   ]
  },
  {
   "cell_type": "code",
   "execution_count": 2,
   "metadata": {},
   "outputs": [],
   "source": [
    "y=np.load('y_initial.npy')\n",
    "X_features=np.load('X_gabor.npy')"
   ]
  },
  {
   "cell_type": "code",
   "execution_count": 3,
   "metadata": {},
   "outputs": [
    {
     "data": {
      "text/plain": [
       "(4704, 35, 7)"
      ]
     },
     "execution_count": 3,
     "metadata": {},
     "output_type": "execute_result"
    }
   ],
   "source": [
    "X_features.shape"
   ]
  },
  {
   "cell_type": "code",
   "execution_count": 4,
   "metadata": {},
   "outputs": [
    {
     "data": {
      "text/plain": [
       "(4704, 2)"
      ]
     },
     "execution_count": 4,
     "metadata": {},
     "output_type": "execute_result"
    }
   ],
   "source": [
    "y.shape"
   ]
  },
  {
   "cell_type": "code",
   "execution_count": 5,
   "metadata": {},
   "outputs": [
    {
     "data": {
      "text/plain": [
       "array(['1', '0'], dtype='<U2')"
      ]
     },
     "execution_count": 5,
     "metadata": {},
     "output_type": "execute_result"
    }
   ],
   "source": [
    "y[0]"
   ]
  },
  {
   "cell_type": "code",
   "execution_count": 6,
   "metadata": {},
   "outputs": [],
   "source": [
    "alphabet_set={'0': 0,'b': 1, 'c': 2,'d': 3,'f': 4,'g': 5,'h': 6,'j': 7,'k': 8,'l': 9, 'm': 10,'n': 11,'p': 12,'q': 13,\n",
    "          'r': 14,'s': 15,'t': 16,'w': 17,'x': 18,'y': 19,'z': 20}"
   ]
  },
  {
   "cell_type": "code",
   "execution_count": 7,
   "metadata": {},
   "outputs": [],
   "source": [
    "alphabet_set={value:key for key,value in alphabet_set.items()}"
   ]
  },
  {
   "cell_type": "markdown",
   "metadata": {},
   "source": [
    "## One-hot Encoding"
   ]
  },
  {
   "cell_type": "code",
   "execution_count": 8,
   "metadata": {},
   "outputs": [],
   "source": [
    "y=to_categorical(y,num_classes=21)"
   ]
  },
  {
   "cell_type": "code",
   "execution_count": 9,
   "metadata": {},
   "outputs": [
    {
     "data": {
      "text/plain": [
       "(4704, 2, 21)"
      ]
     },
     "execution_count": 9,
     "metadata": {},
     "output_type": "execute_result"
    }
   ],
   "source": [
    "y.shape"
   ]
  },
  {
   "cell_type": "markdown",
   "metadata": {},
   "source": [
    "## split train and test"
   ]
  },
  {
   "cell_type": "code",
   "execution_count": 10,
   "metadata": {},
   "outputs": [],
   "source": [
    "np.random.seed(116)\n",
    "np.random.shuffle(X_features)\n",
    "np.random.seed(116)\n",
    "np.random.shuffle(y)\n",
    "tf.random.set_seed(116)"
   ]
  },
  {
   "cell_type": "code",
   "execution_count": 11,
   "metadata": {},
   "outputs": [],
   "source": [
    "X_train, X_test, y_train, y_test=train_test_split(X_features,y,test_size=0.2,random_state=2019)"
   ]
  },
  {
   "cell_type": "code",
   "execution_count": 12,
   "metadata": {},
   "outputs": [
    {
     "data": {
      "text/plain": [
       "((3763, 35, 7), (941, 35, 7))"
      ]
     },
     "execution_count": 12,
     "metadata": {},
     "output_type": "execute_result"
    }
   ],
   "source": [
    "X_train.shape,X_test.shape"
   ]
  },
  {
   "cell_type": "code",
   "execution_count": 13,
   "metadata": {},
   "outputs": [
    {
     "data": {
      "text/plain": [
       "((3763, 2, 21), (941, 2, 21))"
      ]
     },
     "execution_count": 13,
     "metadata": {},
     "output_type": "execute_result"
    }
   ],
   "source": [
    "y_train.shape,y_test.shape"
   ]
  },
  {
   "cell_type": "markdown",
   "metadata": {},
   "source": [
    "# Models\n"
   ]
  },
  {
   "cell_type": "code",
   "execution_count": 14,
   "metadata": {},
   "outputs": [],
   "source": [
    "NUM_CLASSES=21\n",
    "BATCH_SIZE=32\n",
    "EPOCHS=100\n",
    "MODEL_SAVE_PATH='.\\model\\initial_gabor_cnn.h5'"
   ]
  },
  {
   "cell_type": "code",
   "execution_count": 15,
   "metadata": {
    "scrolled": true
   },
   "outputs": [],
   "source": [
    "SINGLE_ATTENTION_VECTOR = False\n",
    "def attention_3d_block(inputs, single_attention_vector=False):\n",
    "    # 如果上一层是LSTM，需要return_sequences=True\n",
    "    # inputs.shape = (batch_size, time_steps, input_dim)\n",
    "    time_steps = K.int_shape(inputs)[1]\n",
    "    input_dim = K.int_shape(inputs)[2]\n",
    "    a = Permute((2, 1))(inputs)\n",
    "    a = Dense(time_steps, activation='softmax', name='attention')(a)\n",
    "    if single_attention_vector:\n",
    "        a = Lambda(lambda x: K.mean(x, axis=1))(a)\n",
    "        a = RepeatVector(input_dim)(a)\n",
    "\n",
    "    a_probs = Permute((2, 1))(a)\n",
    "    # 乘上了attention权重，但是并没有求和，好像影响不大\n",
    "    # 如果分类任务，进行Flatten展开就可以了\n",
    "    # element-wise\n",
    "    output_attention_mul = Multiply()([inputs, a_probs])\n",
    "    return output_attention_mul\n",
    "\n",
    "def attention_model():\n",
    "    inputs = Input(shape=(35, 7))\n",
    "    x=BatchNormalization()(inputs)\n",
    "    x = Conv1D(filters = 32, kernel_size = 1, padding=\"same\",kernel_initializer='he_normal',\n",
    "                bias_initializer='zeros',activation = 'relu')(x)  #, padding = 'same'\n",
    "    x = MaxPool1D()(x)\n",
    "    #lstm_out = Bidirectional(LSTM(lstm_units, activation='relu'), name='bilstm')(x)\n",
    "    #对于GPU可以使用CuDNNLSTM\n",
    "    lstm_out = Bidirectional(LSTM(64, return_sequences=True))(x)\n",
    "    lstm_out = Bidirectional(LSTM(64, return_sequences=True))(lstm_out)\n",
    "    attention_mul = attention_3d_block(lstm_out)\n",
    "    attention_mul=MaxPool1D(pool_size=10,strides=4)(attention_mul)\n",
    "    output = Dense(21, activation='sigmoid')(attention_mul)\n",
    "    model = Model(inputs=[inputs], outputs=output)\n",
    "    return model\n"
   ]
  },
  {
   "cell_type": "code",
   "execution_count": 16,
   "metadata": {},
   "outputs": [
    {
     "name": "stdout",
     "output_type": "stream",
     "text": [
      "Model: \"functional_1\"\n",
      "__________________________________________________________________________________________________\n",
      "Layer (type)                    Output Shape         Param #     Connected to                     \n",
      "==================================================================================================\n",
      "input_1 (InputLayer)            [(None, 35, 7)]      0                                            \n",
      "__________________________________________________________________________________________________\n",
      "batch_normalization (BatchNorma (None, 35, 7)        28          input_1[0][0]                    \n",
      "__________________________________________________________________________________________________\n",
      "conv1d (Conv1D)                 (None, 35, 32)       256         batch_normalization[0][0]        \n",
      "__________________________________________________________________________________________________\n",
      "max_pooling1d (MaxPooling1D)    (None, 17, 32)       0           conv1d[0][0]                     \n",
      "__________________________________________________________________________________________________\n",
      "bidirectional (Bidirectional)   (None, 17, 128)      49664       max_pooling1d[0][0]              \n",
      "__________________________________________________________________________________________________\n",
      "bidirectional_1 (Bidirectional) (None, 17, 128)      98816       bidirectional[0][0]              \n",
      "__________________________________________________________________________________________________\n",
      "permute (Permute)               (None, 128, 17)      0           bidirectional_1[0][0]            \n",
      "__________________________________________________________________________________________________\n",
      "attention (Dense)               (None, 128, 17)      306         permute[0][0]                    \n",
      "__________________________________________________________________________________________________\n",
      "permute_1 (Permute)             (None, 17, 128)      0           attention[0][0]                  \n",
      "__________________________________________________________________________________________________\n",
      "multiply (Multiply)             (None, 17, 128)      0           bidirectional_1[0][0]            \n",
      "                                                                 permute_1[0][0]                  \n",
      "__________________________________________________________________________________________________\n",
      "max_pooling1d_1 (MaxPooling1D)  (None, 2, 128)       0           multiply[0][0]                   \n",
      "__________________________________________________________________________________________________\n",
      "dense (Dense)                   (None, 2, 21)        2709        max_pooling1d_1[0][0]            \n",
      "==================================================================================================\n",
      "Total params: 151,779\n",
      "Trainable params: 151,765\n",
      "Non-trainable params: 14\n",
      "__________________________________________________________________________________________________\n"
     ]
    }
   ],
   "source": [
    "model = attention_model()\n",
    "model.summary()"
   ]
  },
  {
   "cell_type": "code",
   "execution_count": 17,
   "metadata": {},
   "outputs": [],
   "source": [
    "# from keras.utils import plot_model\n",
    "# plot_model(model, show_shapes=True)"
   ]
  },
  {
   "cell_type": "code",
   "execution_count": 18,
   "metadata": {
    "scrolled": true
   },
   "outputs": [
    {
     "name": "stdout",
     "output_type": "stream",
     "text": [
      "Epoch 1/100\n",
      "94/95 [============================>.] - ETA: 0s - loss: 2.3786 - accuracy: 0.4318\n",
      "Epoch 00001: val_accuracy improved from -inf to 0.44821, saving model to .\\model\\initial_gabor_cnn.h5\n",
      "95/95 [==============================] - 2s 19ms/step - loss: 2.3781 - accuracy: 0.4319 - val_loss: 1.7622 - val_accuracy: 0.4482\n",
      "Epoch 2/100\n",
      "93/95 [============================>.] - ETA: 0s - loss: 1.7273 - accuracy: 0.4718\n",
      "Epoch 00002: val_accuracy improved from 0.44821 to 0.48406, saving model to .\\model\\initial_gabor_cnn.h5\n",
      "95/95 [==============================] - 1s 13ms/step - loss: 1.7272 - accuracy: 0.4718 - val_loss: 1.6916 - val_accuracy: 0.4841\n",
      "Epoch 3/100\n",
      "92/95 [============================>.] - ETA: 0s - loss: 1.6922 - accuracy: 0.4767\n",
      "Epoch 00003: val_accuracy did not improve from 0.48406\n",
      "95/95 [==============================] - 1s 11ms/step - loss: 1.6924 - accuracy: 0.4767 - val_loss: 1.6810 - val_accuracy: 0.4841\n",
      "Epoch 4/100\n",
      "91/95 [===========================>..] - ETA: 0s - loss: 1.6858 - accuracy: 0.4779\n",
      "Epoch 00004: val_accuracy did not improve from 0.48406\n",
      "95/95 [==============================] - 1s 10ms/step - loss: 1.6863 - accuracy: 0.4767 - val_loss: 1.6796 - val_accuracy: 0.4841\n",
      "Epoch 5/100\n",
      "90/95 [===========================>..] - ETA: 0s - loss: 1.6813 - accuracy: 0.4762\n",
      "Epoch 00005: val_accuracy did not improve from 0.48406\n",
      "95/95 [==============================] - 1s 10ms/step - loss: 1.6822 - accuracy: 0.4767 - val_loss: 1.6762 - val_accuracy: 0.4841\n",
      "Epoch 6/100\n",
      "90/95 [===========================>..] - ETA: 0s - loss: 1.6775 - accuracy: 0.4760\n",
      "Epoch 00006: val_accuracy did not improve from 0.48406\n",
      "95/95 [==============================] - 1s 11ms/step - loss: 1.6762 - accuracy: 0.4767 - val_loss: 1.6699 - val_accuracy: 0.4841\n",
      "Epoch 7/100\n",
      "90/95 [===========================>..] - ETA: 0s - loss: 1.6724 - accuracy: 0.4755\n",
      "Epoch 00007: val_accuracy did not improve from 0.48406\n",
      "95/95 [==============================] - 1s 10ms/step - loss: 1.6712 - accuracy: 0.4767 - val_loss: 1.6666 - val_accuracy: 0.4841\n",
      "Epoch 8/100\n",
      "94/95 [============================>.] - ETA: 0s - loss: 1.6648 - accuracy: 0.4767\n",
      "Epoch 00008: val_accuracy did not improve from 0.48406\n",
      "95/95 [==============================] - 1s 11ms/step - loss: 1.6649 - accuracy: 0.4767 - val_loss: 1.6583 - val_accuracy: 0.4841\n",
      "Epoch 9/100\n",
      "91/95 [===========================>..] - ETA: 0s - loss: 1.6568 - accuracy: 0.4761\n",
      "Epoch 00009: val_accuracy did not improve from 0.48406\n",
      "95/95 [==============================] - 1s 10ms/step - loss: 1.6561 - accuracy: 0.4767 - val_loss: 1.6545 - val_accuracy: 0.4841\n",
      "Epoch 10/100\n",
      "91/95 [===========================>..] - ETA: 0s - loss: 1.6440 - accuracy: 0.4801\n",
      "Epoch 00010: val_accuracy improved from 0.48406 to 0.48606, saving model to .\\model\\initial_gabor_cnn.h5\n",
      "95/95 [==============================] - 1s 12ms/step - loss: 1.6435 - accuracy: 0.4797 - val_loss: 1.6494 - val_accuracy: 0.4861\n",
      "Epoch 11/100\n",
      "95/95 [==============================] - ETA: 0s - loss: 1.6349 - accuracy: 0.4849\n",
      "Epoch 00011: val_accuracy improved from 0.48606 to 0.48738, saving model to .\\model\\initial_gabor_cnn.h5\n",
      "95/95 [==============================] - 1s 11ms/step - loss: 1.6349 - accuracy: 0.4849 - val_loss: 1.6399 - val_accuracy: 0.4874\n",
      "Epoch 12/100\n",
      "93/95 [============================>.] - ETA: 0s - loss: 1.6306 - accuracy: 0.4837\n",
      "Epoch 00012: val_accuracy improved from 0.48738 to 0.48805, saving model to .\\model\\initial_gabor_cnn.h5\n",
      "95/95 [==============================] - 1s 12ms/step - loss: 1.6299 - accuracy: 0.4841 - val_loss: 1.6416 - val_accuracy: 0.4880\n",
      "Epoch 13/100\n",
      "93/95 [============================>.] - ETA: 0s - loss: 1.6151 - accuracy: 0.4896\n",
      "Epoch 00013: val_accuracy did not improve from 0.48805\n",
      "95/95 [==============================] - 1s 11ms/step - loss: 1.6148 - accuracy: 0.4892 - val_loss: 1.6267 - val_accuracy: 0.4880\n",
      "Epoch 14/100\n",
      "90/95 [===========================>..] - ETA: 0s - loss: 1.6021 - accuracy: 0.4910\n",
      "Epoch 00014: val_accuracy did not improve from 0.48805\n",
      "95/95 [==============================] - 1s 11ms/step - loss: 1.6025 - accuracy: 0.4902 - val_loss: 1.6448 - val_accuracy: 0.4834\n",
      "Epoch 15/100\n",
      "91/95 [===========================>..] - ETA: 0s - loss: 1.6137 - accuracy: 0.4859\n",
      "Epoch 00015: val_accuracy improved from 0.48805 to 0.49203, saving model to .\\model\\initial_gabor_cnn.h5\n",
      "95/95 [==============================] - 1s 11ms/step - loss: 1.6138 - accuracy: 0.4865 - val_loss: 1.6100 - val_accuracy: 0.4920\n",
      "Epoch 16/100\n",
      "95/95 [==============================] - ETA: 0s - loss: 1.5800 - accuracy: 0.4988\n",
      "Epoch 00016: val_accuracy improved from 0.49203 to 0.50266, saving model to .\\model\\initial_gabor_cnn.h5\n",
      "95/95 [==============================] - 1s 11ms/step - loss: 1.5800 - accuracy: 0.4988 - val_loss: 1.5910 - val_accuracy: 0.5027\n",
      "Epoch 17/100\n",
      "92/95 [============================>.] - ETA: 0s - loss: 1.5574 - accuracy: 0.5063\n",
      "Epoch 00017: val_accuracy improved from 0.50266 to 0.50531, saving model to .\\model\\initial_gabor_cnn.h5\n",
      "95/95 [==============================] - 1s 12ms/step - loss: 1.5567 - accuracy: 0.5075 - val_loss: 1.5726 - val_accuracy: 0.5053\n",
      "Epoch 18/100\n",
      "94/95 [============================>.] - ETA: 0s - loss: 1.5234 - accuracy: 0.5116\n",
      "Epoch 00018: val_accuracy improved from 0.50531 to 0.50863, saving model to .\\model\\initial_gabor_cnn.h5\n",
      "95/95 [==============================] - 1s 11ms/step - loss: 1.5237 - accuracy: 0.5116 - val_loss: 1.5576 - val_accuracy: 0.5086\n",
      "Epoch 19/100\n",
      "91/95 [===========================>..] - ETA: 0s - loss: 1.5127 - accuracy: 0.5194\n",
      "Epoch 00019: val_accuracy improved from 0.50863 to 0.52789, saving model to .\\model\\initial_gabor_cnn.h5\n",
      "95/95 [==============================] - 1s 13ms/step - loss: 1.5118 - accuracy: 0.5194 - val_loss: 1.5276 - val_accuracy: 0.5279\n",
      "Epoch 20/100\n",
      "95/95 [==============================] - ETA: 0s - loss: 1.4914 - accuracy: 0.5226\n",
      "Epoch 00020: val_accuracy did not improve from 0.52789\n",
      "95/95 [==============================] - 1s 12ms/step - loss: 1.4914 - accuracy: 0.5226 - val_loss: 1.5103 - val_accuracy: 0.5219\n",
      "Epoch 21/100\n",
      "91/95 [===========================>..] - ETA: 0s - loss: 1.4534 - accuracy: 0.5328\n",
      "Epoch 00021: val_accuracy did not improve from 0.52789\n",
      "95/95 [==============================] - 1s 11ms/step - loss: 1.4529 - accuracy: 0.5339 - val_loss: 1.4972 - val_accuracy: 0.5266\n",
      "Epoch 22/100\n",
      "91/95 [===========================>..] - ETA: 0s - loss: 1.4295 - accuracy: 0.5367\n",
      "Epoch 00022: val_accuracy improved from 0.52789 to 0.53453, saving model to .\\model\\initial_gabor_cnn.h5\n",
      "95/95 [==============================] - 1s 14ms/step - loss: 1.4297 - accuracy: 0.5375 - val_loss: 1.4623 - val_accuracy: 0.5345\n",
      "Epoch 23/100\n",
      "91/95 [===========================>..] - ETA: 0s - loss: 1.3985 - accuracy: 0.5472\n",
      "Epoch 00023: val_accuracy did not improve from 0.53453\n",
      "95/95 [==============================] - 1s 11ms/step - loss: 1.4005 - accuracy: 0.5462 - val_loss: 1.4619 - val_accuracy: 0.5266\n",
      "Epoch 24/100\n",
      "91/95 [===========================>..] - ETA: 0s - loss: 1.3905 - accuracy: 0.5522\n",
      "Epoch 00024: val_accuracy improved from 0.53453 to 0.54648, saving model to .\\model\\initial_gabor_cnn.h5\n",
      "95/95 [==============================] - 1s 12ms/step - loss: 1.3927 - accuracy: 0.5507 - val_loss: 1.4340 - val_accuracy: 0.5465\n",
      "Epoch 25/100\n",
      "92/95 [============================>.] - ETA: 0s - loss: 1.3622 - accuracy: 0.5579\n",
      "Epoch 00025: val_accuracy did not improve from 0.54648\n",
      "95/95 [==============================] - 1s 11ms/step - loss: 1.3615 - accuracy: 0.5578 - val_loss: 1.4538 - val_accuracy: 0.5339\n",
      "Epoch 26/100\n",
      "90/95 [===========================>..] - ETA: 0s - loss: 1.3417 - accuracy: 0.5623\n",
      "Epoch 00026: val_accuracy did not improve from 0.54648\n",
      "95/95 [==============================] - 1s 11ms/step - loss: 1.3385 - accuracy: 0.5633 - val_loss: 1.4311 - val_accuracy: 0.5365\n",
      "Epoch 27/100\n",
      "91/95 [===========================>..] - ETA: 0s - loss: 1.3279 - accuracy: 0.5658\n",
      "Epoch 00027: val_accuracy did not improve from 0.54648\n",
      "95/95 [==============================] - 1s 10ms/step - loss: 1.3300 - accuracy: 0.5653 - val_loss: 1.4298 - val_accuracy: 0.5405\n",
      "Epoch 28/100\n"
     ]
    },
    {
     "name": "stdout",
     "output_type": "stream",
     "text": [
      "90/95 [===========================>..] - ETA: 0s - loss: 1.3150 - accuracy: 0.5691\n",
      "Epoch 00028: val_accuracy did not improve from 0.54648\n",
      "95/95 [==============================] - 1s 10ms/step - loss: 1.3173 - accuracy: 0.5659 - val_loss: 1.4104 - val_accuracy: 0.5425\n",
      "Epoch 29/100\n",
      "95/95 [==============================] - ETA: 0s - loss: 1.2906 - accuracy: 0.5741\n",
      "Epoch 00029: val_accuracy improved from 0.54648 to 0.55777, saving model to .\\model\\initial_gabor_cnn.h5\n",
      "95/95 [==============================] - 1s 11ms/step - loss: 1.2906 - accuracy: 0.5741 - val_loss: 1.4103 - val_accuracy: 0.5578\n",
      "Epoch 30/100\n",
      "90/95 [===========================>..] - ETA: 0s - loss: 1.2726 - accuracy: 0.5797 ETA: 0s - loss: 1.283\n",
      "Epoch 00030: val_accuracy did not improve from 0.55777\n",
      "95/95 [==============================] - 1s 11ms/step - loss: 1.2723 - accuracy: 0.5807 - val_loss: 1.4168 - val_accuracy: 0.5511\n",
      "Epoch 31/100\n",
      "92/95 [============================>.] - ETA: 0s - loss: 1.2627 - accuracy: 0.5878\n",
      "Epoch 00031: val_accuracy did not improve from 0.55777\n",
      "95/95 [==============================] - 1s 12ms/step - loss: 1.2683 - accuracy: 0.5859 - val_loss: 1.4222 - val_accuracy: 0.5511\n",
      "Epoch 32/100\n",
      "90/95 [===========================>..] - ETA: 0s - loss: 1.2452 - accuracy: 0.5906\n",
      "Epoch 00032: val_accuracy did not improve from 0.55777\n",
      "95/95 [==============================] - 1s 11ms/step - loss: 1.2469 - accuracy: 0.5895 - val_loss: 1.4003 - val_accuracy: 0.5558\n",
      "Epoch 33/100\n",
      "90/95 [===========================>..] - ETA: 0s - loss: 1.2329 - accuracy: 0.5892\n",
      "Epoch 00033: val_accuracy did not improve from 0.55777\n",
      "95/95 [==============================] - 1s 12ms/step - loss: 1.2345 - accuracy: 0.5904 - val_loss: 1.3912 - val_accuracy: 0.5511\n",
      "Epoch 34/100\n",
      "91/95 [===========================>..] - ETA: 0s - loss: 1.2076 - accuracy: 0.6025\n",
      "Epoch 00034: val_accuracy improved from 0.55777 to 0.55910, saving model to .\\model\\initial_gabor_cnn.h5\n",
      "95/95 [==============================] - 1s 13ms/step - loss: 1.2103 - accuracy: 0.6020 - val_loss: 1.3829 - val_accuracy: 0.5591\n",
      "Epoch 35/100\n",
      "90/95 [===========================>..] - ETA: 0s - loss: 1.1921 - accuracy: 0.6078\n",
      "Epoch 00035: val_accuracy improved from 0.55910 to 0.55976, saving model to .\\model\\initial_gabor_cnn.h5\n",
      "95/95 [==============================] - 1s 13ms/step - loss: 1.1919 - accuracy: 0.6076 - val_loss: 1.3832 - val_accuracy: 0.5598\n",
      "Epoch 36/100\n",
      "94/95 [============================>.] - ETA: 0s - loss: 1.1867 - accuracy: 0.6079\n",
      "Epoch 00036: val_accuracy did not improve from 0.55976\n",
      "95/95 [==============================] - 1s 11ms/step - loss: 1.1867 - accuracy: 0.6080 - val_loss: 1.4009 - val_accuracy: 0.5485\n",
      "Epoch 37/100\n",
      "93/95 [============================>.] - ETA: 0s - loss: 1.1816 - accuracy: 0.6112\n",
      "Epoch 00037: val_accuracy did not improve from 0.55976\n",
      "95/95 [==============================] - 1s 11ms/step - loss: 1.1818 - accuracy: 0.6111 - val_loss: 1.3934 - val_accuracy: 0.5525\n",
      "Epoch 38/100\n",
      "91/95 [===========================>..] - ETA: 0s - loss: 1.1583 - accuracy: 0.6137\n",
      "Epoch 00038: val_accuracy did not improve from 0.55976\n",
      "95/95 [==============================] - 1s 11ms/step - loss: 1.1548 - accuracy: 0.6148 - val_loss: 1.3885 - val_accuracy: 0.5485\n",
      "Epoch 39/100\n",
      "95/95 [==============================] - ETA: 0s - loss: 1.1273 - accuracy: 0.6228\n",
      "Epoch 00039: val_accuracy did not improve from 0.55976\n",
      "95/95 [==============================] - 1s 11ms/step - loss: 1.1273 - accuracy: 0.6228 - val_loss: 1.4022 - val_accuracy: 0.5471\n",
      "Epoch 40/100\n",
      "94/95 [============================>.] - ETA: 0s - loss: 1.1182 - accuracy: 0.6230\n",
      "Epoch 00040: val_accuracy did not improve from 0.55976\n",
      "95/95 [==============================] - 1s 11ms/step - loss: 1.1191 - accuracy: 0.6228 - val_loss: 1.3601 - val_accuracy: 0.5584\n",
      "Epoch 41/100\n",
      "91/95 [===========================>..] - ETA: 0s - loss: 1.1075 - accuracy: 0.6334\n",
      "Epoch 00041: val_accuracy did not improve from 0.55976\n",
      "95/95 [==============================] - 1s 11ms/step - loss: 1.1069 - accuracy: 0.6334 - val_loss: 1.4130 - val_accuracy: 0.5418\n",
      "Epoch 42/100\n",
      "92/95 [============================>.] - ETA: 0s - loss: 1.0815 - accuracy: 0.6349\n",
      "Epoch 00042: val_accuracy improved from 0.55976 to 0.56109, saving model to .\\model\\initial_gabor_cnn.h5\n",
      "95/95 [==============================] - 1s 12ms/step - loss: 1.0831 - accuracy: 0.6346 - val_loss: 1.3904 - val_accuracy: 0.5611\n",
      "Epoch 43/100\n",
      "94/95 [============================>.] - ETA: 0s - loss: 1.0761 - accuracy: 0.6391\n",
      "Epoch 00043: val_accuracy did not improve from 0.56109\n",
      "95/95 [==============================] - 1s 11ms/step - loss: 1.0763 - accuracy: 0.6390 - val_loss: 1.3676 - val_accuracy: 0.5591\n",
      "Epoch 44/100\n",
      "94/95 [============================>.] - ETA: 0s - loss: 1.0678 - accuracy: 0.6390\n",
      "Epoch 00044: val_accuracy did not improve from 0.56109\n",
      "95/95 [==============================] - 1s 11ms/step - loss: 1.0675 - accuracy: 0.6390 - val_loss: 1.3659 - val_accuracy: 0.5584\n",
      "Epoch 45/100\n",
      "91/95 [===========================>..] - ETA: 0s - loss: 1.0406 - accuracy: 0.6482\n",
      "Epoch 00045: val_accuracy did not improve from 0.56109\n",
      "95/95 [==============================] - 1s 11ms/step - loss: 1.0389 - accuracy: 0.6493 - val_loss: 1.3708 - val_accuracy: 0.5604\n",
      "Epoch 46/100\n",
      "91/95 [===========================>..] - ETA: 0s - loss: 1.0253 - accuracy: 0.6617\n",
      "Epoch 00046: val_accuracy did not improve from 0.56109\n",
      "\n",
      "Epoch 00046: ReduceLROnPlateau reducing learning rate to 0.0005000000237487257.\n",
      "95/95 [==============================] - 1s 11ms/step - loss: 1.0265 - accuracy: 0.6618 - val_loss: 1.3852 - val_accuracy: 0.5525\n",
      "Epoch 47/100\n",
      "90/95 [===========================>..] - ETA: 0s - loss: 0.9725 - accuracy: 0.6795\n",
      "Epoch 00047: val_accuracy did not improve from 0.56109\n",
      "95/95 [==============================] - 1s 11ms/step - loss: 0.9727 - accuracy: 0.6796 - val_loss: 1.3901 - val_accuracy: 0.5591\n",
      "Epoch 48/100\n",
      "92/95 [============================>.] - ETA: 0s - loss: 0.9509 - accuracy: 0.6799\n",
      "Epoch 00048: val_accuracy did not improve from 0.56109\n",
      "95/95 [==============================] - 1s 11ms/step - loss: 0.9526 - accuracy: 0.6791 - val_loss: 1.3700 - val_accuracy: 0.5551\n",
      "Epoch 49/100\n",
      "95/95 [==============================] - ETA: 0s - loss: 0.9303 - accuracy: 0.6965\n",
      "Epoch 00049: val_accuracy did not improve from 0.56109\n",
      "95/95 [==============================] - 1s 11ms/step - loss: 0.9303 - accuracy: 0.6965 - val_loss: 1.3810 - val_accuracy: 0.5564\n",
      "Epoch 50/100\n",
      "93/95 [============================>.] - ETA: 0s - loss: 0.9250 - accuracy: 0.6920\n",
      "Epoch 00050: val_accuracy did not improve from 0.56109\n",
      "95/95 [==============================] - 1s 11ms/step - loss: 0.9230 - accuracy: 0.6927 - val_loss: 1.3776 - val_accuracy: 0.5558\n",
      "Epoch 51/100\n",
      "95/95 [==============================] - ETA: 0s - loss: 0.9202 - accuracy: 0.6962\n",
      "Epoch 00051: val_accuracy did not improve from 0.56109\n",
      "95/95 [==============================] - 1s 11ms/step - loss: 0.9202 - accuracy: 0.6962 - val_loss: 1.3902 - val_accuracy: 0.5571\n",
      "Epoch 52/100\n",
      "90/95 [===========================>..] - ETA: 0s - loss: 0.9140 - accuracy: 0.6984\n",
      "Epoch 00052: val_accuracy did not improve from 0.56109\n",
      "\n",
      "Epoch 00052: ReduceLROnPlateau reducing learning rate to 0.0002500000118743628.\n",
      "95/95 [==============================] - 1s 11ms/step - loss: 0.9100 - accuracy: 0.7002 - val_loss: 1.3790 - val_accuracy: 0.5584\n",
      "Epoch 53/100\n",
      "93/95 [============================>.] - ETA: 0s - loss: 0.8883 - accuracy: 0.7061\n",
      "Epoch 00053: val_accuracy did not improve from 0.56109\n",
      "95/95 [==============================] - 1s 11ms/step - loss: 0.8871 - accuracy: 0.7066 - val_loss: 1.3812 - val_accuracy: 0.5598\n",
      "Epoch 54/100\n",
      "92/95 [============================>.] - ETA: 0s - loss: 0.8640 - accuracy: 0.7150\n",
      "Epoch 00054: val_accuracy did not improve from 0.56109\n",
      "95/95 [==============================] - 1s 11ms/step - loss: 0.8632 - accuracy: 0.7151 - val_loss: 1.3721 - val_accuracy: 0.5591\n",
      "Epoch 55/100\n",
      "95/95 [==============================] - ETA: 0s - loss: 0.8652 - accuracy: 0.7158\n",
      "Epoch 00055: val_accuracy did not improve from 0.56109\n",
      "95/95 [==============================] - 1s 11ms/step - loss: 0.8652 - accuracy: 0.7158 - val_loss: 1.3756 - val_accuracy: 0.5531\n"
     ]
    },
    {
     "name": "stdout",
     "output_type": "stream",
     "text": [
      "Epoch 56/100\n",
      "94/95 [============================>.] - ETA: 0s - loss: 0.8715 - accuracy: 0.7166\n",
      "Epoch 00056: val_accuracy did not improve from 0.56109\n",
      "95/95 [==============================] - 1s 11ms/step - loss: 0.8720 - accuracy: 0.7164 - val_loss: 1.3765 - val_accuracy: 0.5611\n",
      "Epoch 57/100\n",
      "93/95 [============================>.] - ETA: 0s - loss: 0.8542 - accuracy: 0.7208\n",
      "Epoch 00057: val_accuracy improved from 0.56109 to 0.56375, saving model to .\\model\\initial_gabor_cnn.h5\n",
      "95/95 [==============================] - 1s 13ms/step - loss: 0.8539 - accuracy: 0.7204 - val_loss: 1.3940 - val_accuracy: 0.5637\n",
      "Epoch 58/100\n",
      "93/95 [============================>.] - ETA: 0s - loss: 0.8532 - accuracy: 0.7199\n",
      "Epoch 00058: val_accuracy did not improve from 0.56375\n",
      "\n",
      "Epoch 00058: ReduceLROnPlateau reducing learning rate to 0.0001250000059371814.\n",
      "95/95 [==============================] - 1s 11ms/step - loss: 0.8533 - accuracy: 0.7203 - val_loss: 1.3836 - val_accuracy: 0.5571\n",
      "Epoch 59/100\n",
      "90/95 [===========================>..] - ETA: 0s - loss: 0.8309 - accuracy: 0.7326\n",
      "Epoch 00059: val_accuracy did not improve from 0.56375\n",
      "95/95 [==============================] - 1s 11ms/step - loss: 0.8313 - accuracy: 0.7321 - val_loss: 1.3837 - val_accuracy: 0.5631\n",
      "Epoch 60/100\n",
      "91/95 [===========================>..] - ETA: 0s - loss: 0.8220 - accuracy: 0.7337\n",
      "Epoch 00060: val_accuracy did not improve from 0.56375\n",
      "95/95 [==============================] - 1s 10ms/step - loss: 0.8227 - accuracy: 0.7344 - val_loss: 1.3818 - val_accuracy: 0.5618\n",
      "Epoch 61/100\n",
      "90/95 [===========================>..] - ETA: 0s - loss: 0.8283 - accuracy: 0.7318\n",
      "Epoch 00061: val_accuracy did not improve from 0.56375\n",
      "95/95 [==============================] - 1s 10ms/step - loss: 0.8276 - accuracy: 0.7326 - val_loss: 1.3816 - val_accuracy: 0.5611\n",
      "Epoch 62/100\n",
      "95/95 [==============================] - ETA: 0s - loss: 0.8146 - accuracy: 0.7286\n",
      "Epoch 00062: val_accuracy did not improve from 0.56375\n",
      "95/95 [==============================] - 1s 11ms/step - loss: 0.8146 - accuracy: 0.7286 - val_loss: 1.3901 - val_accuracy: 0.5631\n",
      "Epoch 63/100\n",
      "90/95 [===========================>..] - ETA: 0s - loss: 0.8213 - accuracy: 0.7276\n",
      "Epoch 00063: val_accuracy improved from 0.56375 to 0.56441, saving model to .\\model\\initial_gabor_cnn.h5\n",
      "95/95 [==============================] - 1s 11ms/step - loss: 0.8225 - accuracy: 0.7267 - val_loss: 1.3834 - val_accuracy: 0.5644\n",
      "Epoch 64/100\n",
      "94/95 [============================>.] - ETA: 0s - loss: 0.8162 - accuracy: 0.7322\n",
      "Epoch 00064: val_accuracy did not improve from 0.56441\n",
      "\n",
      "Epoch 00064: ReduceLROnPlateau reducing learning rate to 6.25000029685907e-05.\n",
      "95/95 [==============================] - 1s 11ms/step - loss: 0.8161 - accuracy: 0.7322 - val_loss: 1.3873 - val_accuracy: 0.5591\n",
      "Epoch 65/100\n",
      "94/95 [============================>.] - ETA: 0s - loss: 0.8060 - accuracy: 0.7399\n",
      "Epoch 00065: val_accuracy did not improve from 0.56441\n",
      "95/95 [==============================] - 1s 11ms/step - loss: 0.8060 - accuracy: 0.7399 - val_loss: 1.3878 - val_accuracy: 0.5611\n",
      "Epoch 66/100\n",
      "91/95 [===========================>..] - ETA: 0s - loss: 0.8126 - accuracy: 0.7354\n",
      "Epoch 00066: val_accuracy did not improve from 0.56441\n",
      "95/95 [==============================] - 1s 10ms/step - loss: 0.8106 - accuracy: 0.7354 - val_loss: 1.3887 - val_accuracy: 0.5598\n",
      "Epoch 67/100\n",
      "95/95 [==============================] - ETA: 0s - loss: 0.8003 - accuracy: 0.7404\n",
      "Epoch 00067: val_accuracy did not improve from 0.56441\n",
      "95/95 [==============================] - 1s 11ms/step - loss: 0.8003 - accuracy: 0.7404 - val_loss: 1.3873 - val_accuracy: 0.5644\n",
      "Epoch 68/100\n",
      "91/95 [===========================>..] - ETA: 0s - loss: 0.7890 - accuracy: 0.7473\n",
      "Epoch 00068: val_accuracy did not improve from 0.56441\n",
      "95/95 [==============================] - 1s 10ms/step - loss: 0.7904 - accuracy: 0.7463 - val_loss: 1.3877 - val_accuracy: 0.5604\n",
      "Epoch 69/100\n",
      "91/95 [===========================>..] - ETA: 0s - loss: 0.8158 - accuracy: 0.7308\n",
      "Epoch 00069: val_accuracy did not improve from 0.56441\n",
      "95/95 [==============================] - 1s 10ms/step - loss: 0.8159 - accuracy: 0.7312 - val_loss: 1.3881 - val_accuracy: 0.5611\n",
      "Epoch 70/100\n",
      "91/95 [===========================>..] - ETA: 0s - loss: 0.7890 - accuracy: 0.7483 ETA: 0s - los\n",
      "Epoch 00070: val_accuracy did not improve from 0.56441\n",
      "\n",
      "Epoch 00070: ReduceLROnPlateau reducing learning rate to 3.125000148429535e-05.\n",
      "95/95 [==============================] - 1s 10ms/step - loss: 0.7911 - accuracy: 0.7473 - val_loss: 1.3904 - val_accuracy: 0.5611\n",
      "Epoch 71/100\n",
      "91/95 [===========================>..] - ETA: 0s - loss: 0.8046 - accuracy: 0.7394\n",
      "Epoch 00071: val_accuracy did not improve from 0.56441\n",
      "95/95 [==============================] - 1s 11ms/step - loss: 0.8034 - accuracy: 0.7404 - val_loss: 1.3904 - val_accuracy: 0.5611\n",
      "Epoch 72/100\n",
      "91/95 [===========================>..] - ETA: 0s - loss: 0.8046 - accuracy: 0.7366\n",
      "Epoch 00072: val_accuracy did not improve from 0.56441\n",
      "95/95 [==============================] - 1s 10ms/step - loss: 0.8052 - accuracy: 0.7367 - val_loss: 1.3892 - val_accuracy: 0.5644\n",
      "Epoch 73/100\n",
      "90/95 [===========================>..] - ETA: 0s - loss: 0.7848 - accuracy: 0.7444\n",
      "Epoch 00073: val_accuracy improved from 0.56441 to 0.56507, saving model to .\\model\\initial_gabor_cnn.h5\n",
      "95/95 [==============================] - 1s 12ms/step - loss: 0.7855 - accuracy: 0.7442 - val_loss: 1.3891 - val_accuracy: 0.5651\n",
      "Epoch 74/100\n",
      "94/95 [============================>.] - ETA: 0s - loss: 0.7998 - accuracy: 0.7407\n",
      "Epoch 00074: val_accuracy improved from 0.56507 to 0.56574, saving model to .\\model\\initial_gabor_cnn.h5\n",
      "95/95 [==============================] - 1s 13ms/step - loss: 0.7997 - accuracy: 0.7407 - val_loss: 1.3894 - val_accuracy: 0.5657\n",
      "Epoch 75/100\n",
      "94/95 [============================>.] - ETA: 0s - loss: 0.7920 - accuracy: 0.7422\n",
      "Epoch 00075: val_accuracy did not improve from 0.56574\n",
      "95/95 [==============================] - 1s 11ms/step - loss: 0.7918 - accuracy: 0.7422 - val_loss: 1.3863 - val_accuracy: 0.5637\n",
      "Epoch 76/100\n",
      "95/95 [==============================] - ETA: 0s - loss: 0.7993 - accuracy: 0.7400\n",
      "Epoch 00076: val_accuracy improved from 0.56574 to 0.56707, saving model to .\\model\\initial_gabor_cnn.h5\n",
      "\n",
      "Epoch 00076: ReduceLROnPlateau reducing learning rate to 1.5625000742147677e-05.\n",
      "95/95 [==============================] - 1s 12ms/step - loss: 0.7993 - accuracy: 0.7400 - val_loss: 1.3883 - val_accuracy: 0.5671\n",
      "Epoch 77/100\n",
      "94/95 [============================>.] - ETA: 0s - loss: 0.8014 - accuracy: 0.7420\n",
      "Epoch 00077: val_accuracy did not improve from 0.56707\n",
      "95/95 [==============================] - 1s 11ms/step - loss: 0.8020 - accuracy: 0.7420 - val_loss: 1.3879 - val_accuracy: 0.5651\n",
      "Epoch 78/100\n",
      "95/95 [==============================] - ETA: 0s - loss: 0.7903 - accuracy: 0.7458\n",
      "Epoch 00078: val_accuracy did not improve from 0.56707\n",
      "95/95 [==============================] - 1s 11ms/step - loss: 0.7903 - accuracy: 0.7458 - val_loss: 1.3863 - val_accuracy: 0.5657\n",
      "Epoch 79/100\n",
      "91/95 [===========================>..] - ETA: 0s - loss: 0.7771 - accuracy: 0.7478\n",
      "Epoch 00079: val_accuracy did not improve from 0.56707\n",
      "95/95 [==============================] - 1s 10ms/step - loss: 0.7768 - accuracy: 0.7485 - val_loss: 1.3895 - val_accuracy: 0.5644\n",
      "Epoch 80/100\n",
      "90/95 [===========================>..] - ETA: 0s - loss: 0.7874 - accuracy: 0.7464\n",
      "Epoch 00080: val_accuracy did not improve from 0.56707\n",
      "95/95 [==============================] - 1s 10ms/step - loss: 0.7933 - accuracy: 0.7432 - val_loss: 1.3888 - val_accuracy: 0.5631\n",
      "Epoch 81/100\n",
      "90/95 [===========================>..] - ETA: 0s - loss: 0.7848 - accuracy: 0.7465\n",
      "Epoch 00081: val_accuracy did not improve from 0.56707\n",
      "95/95 [==============================] - 1s 10ms/step - loss: 0.7829 - accuracy: 0.7477 - val_loss: 1.3893 - val_accuracy: 0.5618\n",
      "Epoch 82/100\n",
      "93/95 [============================>.] - ETA: 0s - loss: 0.7922 - accuracy: 0.7384\n",
      "Epoch 00082: val_accuracy did not improve from 0.56707\n",
      "\n",
      "Epoch 00082: ReduceLROnPlateau reducing learning rate to 1e-05.\n",
      "95/95 [==============================] - 1s 11ms/step - loss: 0.7937 - accuracy: 0.7374 - val_loss: 1.3892 - val_accuracy: 0.5618\n"
     ]
    },
    {
     "name": "stdout",
     "output_type": "stream",
     "text": [
      "Epoch 83/100\n",
      "94/95 [============================>.] - ETA: 0s - loss: 0.7793 - accuracy: 0.7493\n",
      "Epoch 00083: val_accuracy did not improve from 0.56707\n",
      "95/95 [==============================] - 1s 11ms/step - loss: 0.7795 - accuracy: 0.7493 - val_loss: 1.3871 - val_accuracy: 0.5637\n",
      "Epoch 84/100\n",
      "93/95 [============================>.] - ETA: 0s - loss: 0.7857 - accuracy: 0.7488\n",
      "Epoch 00084: val_accuracy did not improve from 0.56707\n",
      "95/95 [==============================] - 1s 11ms/step - loss: 0.7865 - accuracy: 0.7480 - val_loss: 1.3876 - val_accuracy: 0.5637\n",
      "Epoch 85/100\n",
      "91/95 [===========================>..] - ETA: 0s - loss: 0.7807 - accuracy: 0.7503\n",
      "Epoch 00085: val_accuracy did not improve from 0.56707\n",
      "95/95 [==============================] - 1s 11ms/step - loss: 0.7796 - accuracy: 0.7503 - val_loss: 1.3899 - val_accuracy: 0.5624\n",
      "Epoch 86/100\n",
      "90/95 [===========================>..] - ETA: 0s - loss: 0.7852 - accuracy: 0.7477\n",
      "Epoch 00086: val_accuracy did not improve from 0.56707\n",
      "95/95 [==============================] - 1s 10ms/step - loss: 0.7862 - accuracy: 0.7468 - val_loss: 1.3881 - val_accuracy: 0.5631\n",
      "Epoch 87/100\n",
      "90/95 [===========================>..] - ETA: 0s - loss: 0.7871 - accuracy: 0.7434\n",
      "Epoch 00087: val_accuracy did not improve from 0.56707\n",
      "95/95 [==============================] - 1s 10ms/step - loss: 0.7880 - accuracy: 0.7435 - val_loss: 1.3890 - val_accuracy: 0.5618\n",
      "Epoch 88/100\n",
      "91/95 [===========================>..] - ETA: 0s - loss: 0.7789 - accuracy: 0.7483\n",
      "Epoch 00088: val_accuracy did not improve from 0.56707\n",
      "95/95 [==============================] - 1s 11ms/step - loss: 0.7803 - accuracy: 0.7473 - val_loss: 1.3860 - val_accuracy: 0.5644\n",
      "Epoch 89/100\n",
      "90/95 [===========================>..] - ETA: 0s - loss: 0.7919 - accuracy: 0.7465\n",
      "Epoch 00089: val_accuracy did not improve from 0.56707\n",
      "95/95 [==============================] - 1s 10ms/step - loss: 0.7918 - accuracy: 0.7452 - val_loss: 1.3872 - val_accuracy: 0.5651\n",
      "Epoch 90/100\n",
      "95/95 [==============================] - ETA: 0s - loss: 0.7914 - accuracy: 0.7429\n",
      "Epoch 00090: val_accuracy did not improve from 0.56707\n",
      "95/95 [==============================] - 1s 10ms/step - loss: 0.7914 - accuracy: 0.7429 - val_loss: 1.3874 - val_accuracy: 0.5657\n",
      "Epoch 91/100\n",
      "95/95 [==============================] - ETA: 0s - loss: 0.7816 - accuracy: 0.7507\n",
      "Epoch 00091: val_accuracy did not improve from 0.56707\n",
      "95/95 [==============================] - 1s 11ms/step - loss: 0.7816 - accuracy: 0.7507 - val_loss: 1.3881 - val_accuracy: 0.5624\n",
      "Epoch 92/100\n",
      "95/95 [==============================] - ETA: 0s - loss: 0.7817 - accuracy: 0.7455\n",
      "Epoch 00092: val_accuracy did not improve from 0.56707\n",
      "95/95 [==============================] - 1s 11ms/step - loss: 0.7817 - accuracy: 0.7455 - val_loss: 1.3847 - val_accuracy: 0.5624\n",
      "Epoch 93/100\n",
      "90/95 [===========================>..] - ETA: 0s - loss: 0.7976 - accuracy: 0.7431\n",
      "Epoch 00093: val_accuracy did not improve from 0.56707\n",
      "95/95 [==============================] - 1s 11ms/step - loss: 0.7988 - accuracy: 0.7424 - val_loss: 1.3897 - val_accuracy: 0.5624\n",
      "Epoch 94/100\n",
      "94/95 [============================>.] - ETA: 0s - loss: 0.7747 - accuracy: 0.7533\n",
      "Epoch 00094: val_accuracy did not improve from 0.56707\n",
      "95/95 [==============================] - 1s 11ms/step - loss: 0.7747 - accuracy: 0.7533 - val_loss: 1.3918 - val_accuracy: 0.5611\n",
      "Epoch 95/100\n",
      "93/95 [============================>.] - ETA: 0s - loss: 0.7798 - accuracy: 0.7470\n",
      "Epoch 00095: val_accuracy did not improve from 0.56707\n",
      "95/95 [==============================] - 1s 11ms/step - loss: 0.7789 - accuracy: 0.7478 - val_loss: 1.3909 - val_accuracy: 0.5637\n",
      "Epoch 96/100\n",
      "93/95 [============================>.] - ETA: 0s - loss: 0.7890 - accuracy: 0.7418\n",
      "Epoch 00096: val_accuracy did not improve from 0.56707\n",
      "95/95 [==============================] - 1s 11ms/step - loss: 0.7892 - accuracy: 0.7420 - val_loss: 1.3901 - val_accuracy: 0.5631\n",
      "Epoch 97/100\n",
      "95/95 [==============================] - ETA: 0s - loss: 0.7774 - accuracy: 0.7505\n",
      "Epoch 00097: val_accuracy did not improve from 0.56707\n",
      "95/95 [==============================] - 1s 11ms/step - loss: 0.7774 - accuracy: 0.7505 - val_loss: 1.3911 - val_accuracy: 0.5637\n",
      "Epoch 98/100\n",
      "90/95 [===========================>..] - ETA: 0s - loss: 0.7818 - accuracy: 0.7497\n",
      "Epoch 00098: val_accuracy did not improve from 0.56707\n",
      "95/95 [==============================] - 1s 11ms/step - loss: 0.7847 - accuracy: 0.7485 - val_loss: 1.3914 - val_accuracy: 0.5637\n",
      "Epoch 99/100\n",
      "95/95 [==============================] - ETA: 0s - loss: 0.7878 - accuracy: 0.7445\n",
      "Epoch 00099: val_accuracy did not improve from 0.56707\n",
      "95/95 [==============================] - 1s 11ms/step - loss: 0.7878 - accuracy: 0.7445 - val_loss: 1.3915 - val_accuracy: 0.5611\n",
      "Epoch 100/100\n",
      "91/95 [===========================>..] - ETA: 0s - loss: 0.7824 - accuracy: 0.7486\n",
      "Epoch 00100: val_accuracy did not improve from 0.56707\n",
      "95/95 [==============================] - 1s 11ms/step - loss: 0.7803 - accuracy: 0.7500 - val_loss: 1.3919 - val_accuracy: 0.5611\n",
      "time= 110.41437458992004\n"
     ]
    }
   ],
   "source": [
    "a=time.time()\n",
    "model.compile(optimizer='adam',loss='categorical_crossentropy',metrics=['accuracy'])\n",
    "plot_model(model,'model_initial.jpg',show_shapes=True)\n",
    "lr_reduce=kcallbacks.ReduceLROnPlateau(monitor='val_loss',factor=0.5,patience=6,verbose=1,min_lr=0.00001)\n",
    "save_model=kcallbacks.ModelCheckpoint(filepath=MODEL_SAVE_PATH,monitor='val_accuracy',verbose=1,save_best_only=True)\n",
    "callback_list=[save_model,lr_reduce]\n",
    "history=model.fit(x=X_train,y=y_train,batch_size=BATCH_SIZE,epochs=EPOCHS,validation_split=0.2,\n",
    "                  callbacks=callback_list)\n",
    "b=time.time()\n",
    "print(\"time=\",b-a)"
   ]
  },
  {
   "cell_type": "markdown",
   "metadata": {},
   "source": [
    "## plot_curve"
   ]
  },
  {
   "cell_type": "code",
   "execution_count": null,
   "metadata": {},
   "outputs": [],
   "source": [
    "# from sklearn.metrics import classification_report\n",
    "# model.load_weights('./models/pinyin_cnn.h5')"
   ]
  },
  {
   "cell_type": "code",
   "execution_count": 19,
   "metadata": {
    "jupyter": {
     "outputs_hidden": true
    }
   },
   "outputs": [],
   "source": [
    "from help import plot_curve,plot_curve_with_smooth"
   ]
  },
  {
   "cell_type": "code",
   "execution_count": 20,
   "metadata": {
    "scrolled": true
   },
   "outputs": [
    {
     "data": {
      "image/png": "[encoded data removed]",
      "text/plain": [
       "<Figure size 1080x360 with 2 Axes>"
      ]
     },
     "metadata": {},
     "output_type": "display_data"
    }
   ],
   "source": [
    "plot_curve(history)"
   ]
  },
  {
   "cell_type": "code",
   "execution_count": 21,
   "metadata": {},
   "outputs": [
    {
     "data": {
      "image/png": "[encoded data removed]",
      "text/plain": [
       "<Figure size 1080x360 with 2 Axes>"
      ]
     },
     "metadata": {},
     "output_type": "display_data"
    }
   ],
   "source": [
    "plot_curve_with_smooth(history)"
   ]
  },
  {
   "cell_type": "markdown",
   "metadata": {},
   "source": [
    "## confusion_metrix"
   ]
  },
  {
   "cell_type": "code",
   "execution_count": 22,
   "metadata": {
    "jupyter": {
     "outputs_hidden": true
    }
   },
   "outputs": [],
   "source": [
    "model.load_weights('./model/initial_gabor_cnn.h5')"
   ]
  },
  {
   "cell_type": "code",
   "execution_count": 23,
   "metadata": {},
   "outputs": [
    {
     "data": {
      "text/plain": [
       "<matplotlib.axes._subplots.AxesSubplot at 0x234f70a3828>"
      ]
     },
     "execution_count": 23,
     "metadata": {},
     "output_type": "execute_result"
    },
    {
     "data": {
      "image/png": "[encoded data removed]",
      "text/plain": [
       "<Figure size 720x504 with 2 Axes>"
      ]
     },
     "metadata": {
      "needs_background": "light"
     },
     "output_type": "display_data"
    }
   ],
   "source": [
    "from sklearn.metrics import confusion_matrix\n",
    "import matplotlib.pyplot as plt\n",
    "%matplotlib inline\n",
    "y_pred=model.predict(X_test)\n",
    "y_pred=np.argmax(y_pred,axis=-1).ravel()\n",
    "y_true=np.argmax(y_test,axis=-1).ravel()\n",
    "con_matrix=confusion_matrix(y_true=y_true,y_pred=y_pred)\n",
    "target_names=[alphabet_set[i] for i in range(1,21)]\n",
    "# print(con_matrix)\n",
    "con_matrix=con_matrix[1:,1:]\n",
    "# print(con_matrix)\n",
    "import seaborn as sn\n",
    "\n",
    "df_cm = pd.DataFrame(con_matrix,\n",
    "                     index = [i for i in list(target_names)],\n",
    "                     columns = [i for i in list(target_names)])\n",
    "plt.figure(figsize = (10,7))\n",
    "sn.heatmap(df_cm, annot=True, fmt='.20g',cmap=\"BuPu\")\n",
    "# def plot_confusion_matrix(confusion_mat):\n",
    "#     plt.figure(figsize=(12,8))\n",
    "#     plt.imshow(confusion_mat)\n",
    "#     plt.title('Confusion Matrix')\n",
    "#     plt.colorbar()\n",
    "#     labels = list(range(0,21))\n",
    "#     tick_marks = np.arange(len(labels))\n",
    "#     plt.xticks(tick_marks, labels)\n",
    "#     plt.yticks(tick_marks, labels)\n",
    "#     plt.ylabel('True Label')\n",
    "#     plt.xlabel('Predicted Label')\n",
    "#     plt.grid(False)\n",
    "#     plt.show() \n",
    "# plot_confusion_matrix(con_matrix)"
   ]
  },
  {
   "cell_type": "markdown",
   "metadata": {},
   "source": [
    "## classfication_report"
   ]
  },
  {
   "cell_type": "code",
   "execution_count": 24,
   "metadata": {
    "jupyter": {
     "outputs_hidden": true
    }
   },
   "outputs": [],
   "source": [
    "from sklearn.metrics import classification_report"
   ]
  },
  {
   "cell_type": "code",
   "execution_count": 25,
   "metadata": {
    "scrolled": true
   },
   "outputs": [
    {
     "name": "stdout",
     "output_type": "stream",
     "text": [
      "              precision    recall  f1-score   support\n",
      "\n",
      "           0     0.8778    0.9667    0.9201       810\n",
      "           b     0.4808    0.4032    0.4386        62\n",
      "           c     0.2889    0.2063    0.2407        63\n",
      "           d     0.1111    0.0750    0.0896        40\n",
      "           f     0.0588    0.0625    0.0606        16\n",
      "           g     0.3095    0.2321    0.2653        56\n",
      "           h     0.5000    0.3542    0.4146       192\n",
      "           j     0.2105    0.0800    0.1159        50\n",
      "           k     0.0833    0.0625    0.0714        16\n",
      "           l     0.3038    0.4000    0.3453        60\n",
      "           m     0.5349    0.5349    0.5349        43\n",
      "           n     0.1579    0.0938    0.1176        32\n",
      "           p     0.1875    0.1154    0.1429        26\n",
      "           q     0.1220    0.1471    0.1333        34\n",
      "           r     0.2500    0.0909    0.1333        11\n",
      "           s     0.2174    0.2717    0.2415        92\n",
      "           t     0.1818    0.1250    0.1481        32\n",
      "           w     0.3208    0.4722    0.3820        36\n",
      "           x     0.1505    0.2857    0.1972        49\n",
      "           y     0.2619    0.3173    0.2870       104\n",
      "           z     0.1724    0.0862    0.1149        58\n",
      "\n",
      "   micro avg     0.5675    0.5675    0.5675      1882\n",
      "   macro avg     0.2753    0.2563    0.2569      1882\n",
      "weighted avg     0.5471    0.5675    0.5514      1882\n",
      "\n"
     ]
    }
   ],
   "source": [
    "target_names=[alphabet_set[i] for i in range(21)]\n",
    "print(classification_report(y_true,y_pred,digits=4,labels=list(range(21)),target_names=target_names))"
   ]
  },
  {
   "cell_type": "markdown",
   "metadata": {},
   "source": [
    "# predict test"
   ]
  },
  {
   "cell_type": "code",
   "execution_count": 27,
   "metadata": {},
   "outputs": [
    {
     "name": "stdout",
     "output_type": "stream",
     "text": [
      "(1, 35, 7)\n",
      "Predict Label:n\n"
     ]
    }
   ],
   "source": [
    "\n",
    "temp = np.load('che1.npy')\n",
    "m,n = temp.shape\n",
    "            #print(m)\n",
    "if m <=35:\n",
    "    left = 36 - m\n",
    "    temp =np.append(temp,(np.zeros([left,n])),axis=0)\n",
    "test =[]\n",
    "test.append(temp[:35,])\n",
    "test = np.array(test)\n",
    "print(test.shape)\n",
    "pred=model.predict(test)\n",
    "\n",
    "pred=np.argmax(pred,axis=-1)[0]\n",
    "text=[alphabet_set[i] for i in pred]\n",
    "text=[i for i in text if i!='0']\n",
    "text=''.join(text)\n",
    "print('Predict Label:%s'%(text))"
   ]
  },
  {
   "cell_type": "code",
   "execution_count": 40,
   "metadata": {},
   "outputs": [
    {
     "name": "stdout",
     "output_type": "stream",
     "text": [
      "(1, 35, 7)\n",
      "Predict Label:m\n"
     ]
    }
   ],
   "source": [
    "\n",
    "temp = np.load('./gabor/person1_time1_group1_ba_1.npy')\n",
    "m,n = temp.shape\n",
    "            #print(m)\n",
    "if m <=35:\n",
    "    left = 36 - m\n",
    "    temp =np.append(temp,(np.zeros([left,n])),axis=0)\n",
    "test =[]\n",
    "test.append(temp[:35,])\n",
    "test = np.array(test)\n",
    "print(test.shape)\n",
    "pred=model.predict(test)\n",
    "\n",
    "pred=np.argmax(pred,axis=-1)[0]\n",
    "text=[alphabet_set[i] for i in pred]\n",
    "text=[i for i in text if i!='0']\n",
    "text=''.join(text)\n",
    "print('Predict Label:%s'%(text))"
   ]
  },
  {
   "cell_type": "code",
   "execution_count": 42,
   "metadata": {},
   "outputs": [
    {
     "name": "stdout",
     "output_type": "stream",
     "text": [
      "(1, 35, 7)\n",
      "Predict Label:h\n"
     ]
    }
   ],
   "source": [
    "\n",
    "temp = np.load('./gabor/person1_time1_group1_he_2.npy')\n",
    "m,n = temp.shape\n",
    "            #print(m)\n",
    "if m <=35:\n",
    "    left = 36 - m\n",
    "    temp =np.append(temp,(np.zeros([left,n])),axis=0)\n",
    "test =[]\n",
    "test.append(temp[:35,])\n",
    "test = np.array(test)\n",
    "print(test.shape)\n",
    "pred=model.predict(test)\n",
    "\n",
    "pred=np.argmax(pred,axis=-1)[0]\n",
    "text=[alphabet_set[i] for i in pred]\n",
    "text=[i for i in text if i!='0']\n",
    "text=''.join(text)\n",
    "print('Predict Label:%s'%(text))"
   ]
  },
  {
   "cell_type": "code",
   "execution_count": null,
   "metadata": {
    "collapsed": true,
    "jupyter": {
     "outputs_hidden": true
    }
   },
   "outputs": [],
   "source": []
  }
 ],
 "metadata": {
  "kernelspec": {
   "display_name": "Python 3",
   "language": "python",
   "name": "python3"
  },
  "language_info": {
   "codemirror_mode": {
    "name": "ipython",
    "version": 3
   },
   "file_extension": ".py",
   "mimetype": "text/x-python",
   "name": "python",
   "nbconvert_exporter": "python",
   "pygments_lexer": "ipython3",
   "version": "3.7.0"
  },
  "toc": {
   "base_numbering": 1,
   "nav_menu": {},
   "number_sections": true,
   "sideBar": true,
   "skip_h1_title": false,
   "title_cell": "Table of Contents",
   "title_sidebar": "Contents",
   "toc_cell": false,
   "toc_position": {
    "height": "calc(100% - 180px)",
    "left": "10px",
    "top": "150px",
    "width": "250px"
   },
   "toc_section_display": true,
   "toc_window_display": true
  }
 },
 "nbformat": 4,
 "nbformat_minor": 4
}
